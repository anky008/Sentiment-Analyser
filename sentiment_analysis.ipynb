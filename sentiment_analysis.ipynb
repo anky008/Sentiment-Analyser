{
 "cells": [
  {
   "cell_type": "code",
   "execution_count": 1,
   "metadata": {
    "colab": {},
    "colab_type": "code",
    "id": "MEjxWm39ueOH"
   },
   "outputs": [],
   "source": [
    "import numpy as np\n",
    "import pandas as pd\n",
    "import matplotlib\n",
    "import matplotlib.pyplot as plt\n",
    "matplotlib.rcParams['figure.figsize']=(15,10)"
   ]
  },
  {
   "cell_type": "code",
   "execution_count": 2,
   "metadata": {
    "colab": {},
    "colab_type": "code",
    "id": "aG2uDhhqueON"
   },
   "outputs": [],
   "source": [
    "train_data=pd.read_csv('twitter_x_y_train.csv')\n",
    "test_data=pd.read_csv('twitter_x_test.csv')"
   ]
  },
  {
   "cell_type": "markdown",
   "metadata": {
    "colab_type": "text",
    "id": "-HT_qLOzk-kw"
   },
   "source": [
    "# DATA CLEANING\n",
    "\n",
    "\n"
   ]
  },
  {
   "cell_type": "code",
   "execution_count": 3,
   "metadata": {
    "colab": {},
    "colab_type": "code",
    "id": "iQCCs2PlueOR"
   },
   "outputs": [],
   "source": [
    "keys,values=np.unique(train_data.airline_sentiment,return_counts=True)"
   ]
  },
  {
   "cell_type": "code",
   "execution_count": 4,
   "metadata": {
    "colab": {
     "base_uri": "https://localhost:8080/",
     "height": 621
    },
    "colab_type": "code",
    "id": "m9F5RPa9YuNN",
    "outputId": "35c84043-b755-41c4-f4c3-05917ce43c54"
   },
   "outputs": [
    {
     "data": {
      "image/png": "[encoded data removed]",
      "text/plain": [
       "<Figure size 1080x720 with 1 Axes>"
      ]
     },
     "metadata": {
      "needs_background": "light"
     },
     "output_type": "display_data"
    }
   ],
   "source": [
    "matplotlib.rcParams['figure.figsize']=(15,10)\n",
    "plt.bar(keys,values,align='center', alpha=0.5,color='r')\n",
    "plt.xlabel('Sentiment Values')\n",
    "plt.ylabel('Count')\n",
    "plt.title('Count vs Sentiment')\n",
    "plt.show()"
   ]
  },
  {
   "cell_type": "code",
   "execution_count": 5,
   "metadata": {
    "colab": {
     "base_uri": "https://localhost:8080/",
     "height": 32
    },
    "colab_type": "code",
    "id": "YWt2R-J-ueOW",
    "outputId": "02bb4f02-6015-496b-e48f-ebf1ae128691"
   },
   "outputs": [
    {
     "data": {
      "text/plain": [
       "(10980, 12)"
      ]
     },
     "execution_count": 5,
     "metadata": {},
     "output_type": "execute_result"
    }
   ],
   "source": [
    "train_data.shape"
   ]
  },
  {
   "cell_type": "code",
   "execution_count": 6,
   "metadata": {
    "colab": {
     "base_uri": "https://localhost:8080/",
     "height": 32
    },
    "colab_type": "code",
    "id": "0lc6xePhueOa",
    "outputId": "c24d87eb-7305-4727-90a8-3aa80f421afa"
   },
   "outputs": [
    {
     "data": {
      "text/plain": [
       "(3660, 11)"
      ]
     },
     "execution_count": 6,
     "metadata": {},
     "output_type": "execute_result"
    }
   ],
   "source": [
    "test_data.shape"
   ]
  },
  {
   "cell_type": "code",
   "execution_count": 7,
   "metadata": {
    "colab": {
     "base_uri": "https://localhost:8080/",
     "height": 458
    },
    "colab_type": "code",
    "id": "_Qd4slxrueOe",
    "outputId": "6f98c8e2-f09a-4d63-eb3c-79f8221f7b6d",
    "scrolled": true
   },
   "outputs": [
    {
     "data": {
      "text/html": [
       "<div>\n",
       "<style scoped>\n",
       "    .dataframe tbody tr th:only-of-type {\n",
       "        vertical-align: middle;\n",
       "    }\n",
       "\n",
       "    .dataframe tbody tr th {\n",
       "        vertical-align: top;\n",
       "    }\n",
       "\n",
       "    .dataframe thead th {\n",
       "        text-align: right;\n",
       "    }\n",
       "</style>\n",
       "<table border=\"1\" class=\"dataframe\">\n",
       "  <thead>\n",
       "    <tr style=\"text-align: right;\">\n",
       "      <th></th>\n",
       "      <th>tweet_id</th>\n",
       "      <th>airline_sentiment</th>\n",
       "      <th>airline</th>\n",
       "      <th>airline_sentiment_gold</th>\n",
       "      <th>name</th>\n",
       "      <th>negativereason_gold</th>\n",
       "      <th>retweet_count</th>\n",
       "      <th>text</th>\n",
       "      <th>tweet_coord</th>\n",
       "      <th>tweet_created</th>\n",
       "      <th>tweet_location</th>\n",
       "      <th>user_timezone</th>\n",
       "    </tr>\n",
       "  </thead>\n",
       "  <tbody>\n",
       "    <tr>\n",
       "      <td>0</td>\n",
       "      <td>567900433542488064</td>\n",
       "      <td>negative</td>\n",
       "      <td>Southwest</td>\n",
       "      <td>NaN</td>\n",
       "      <td>ColeyGirouard</td>\n",
       "      <td>NaN</td>\n",
       "      <td>0</td>\n",
       "      <td>@SouthwestAir I am scheduled for the morning, ...</td>\n",
       "      <td>NaN</td>\n",
       "      <td>2015-02-17 20:16:29 -0800</td>\n",
       "      <td>Washington D.C.</td>\n",
       "      <td>Atlantic Time (Canada)</td>\n",
       "    </tr>\n",
       "    <tr>\n",
       "      <td>1</td>\n",
       "      <td>569989168903819264</td>\n",
       "      <td>positive</td>\n",
       "      <td>Southwest</td>\n",
       "      <td>NaN</td>\n",
       "      <td>WalterFaddoul</td>\n",
       "      <td>NaN</td>\n",
       "      <td>0</td>\n",
       "      <td>@SouthwestAir seeing your workers time in and ...</td>\n",
       "      <td>NaN</td>\n",
       "      <td>2015-02-23 14:36:22 -0800</td>\n",
       "      <td>Indianapolis, Indiana; USA</td>\n",
       "      <td>Central Time (US &amp; Canada)</td>\n",
       "    </tr>\n",
       "    <tr>\n",
       "      <td>2</td>\n",
       "      <td>568089179520954368</td>\n",
       "      <td>positive</td>\n",
       "      <td>United</td>\n",
       "      <td>NaN</td>\n",
       "      <td>LocalKyle</td>\n",
       "      <td>NaN</td>\n",
       "      <td>0</td>\n",
       "      <td>@united Flew ORD to Miami and back and  had gr...</td>\n",
       "      <td>NaN</td>\n",
       "      <td>2015-02-18 08:46:29 -0800</td>\n",
       "      <td>Illinois</td>\n",
       "      <td>Central Time (US &amp; Canada)</td>\n",
       "    </tr>\n",
       "    <tr>\n",
       "      <td>3</td>\n",
       "      <td>568928195581513728</td>\n",
       "      <td>negative</td>\n",
       "      <td>Southwest</td>\n",
       "      <td>NaN</td>\n",
       "      <td>amccarthy19</td>\n",
       "      <td>NaN</td>\n",
       "      <td>0</td>\n",
       "      <td>@SouthwestAir @dultch97 that's horse radish 😤🐴</td>\n",
       "      <td>NaN</td>\n",
       "      <td>2015-02-20 16:20:26 -0800</td>\n",
       "      <td>NaN</td>\n",
       "      <td>Atlantic Time (Canada)</td>\n",
       "    </tr>\n",
       "    <tr>\n",
       "      <td>4</td>\n",
       "      <td>568594180014014464</td>\n",
       "      <td>negative</td>\n",
       "      <td>United</td>\n",
       "      <td>NaN</td>\n",
       "      <td>J_Okayy</td>\n",
       "      <td>NaN</td>\n",
       "      <td>0</td>\n",
       "      <td>@united so our flight into ORD was delayed bec...</td>\n",
       "      <td>NaN</td>\n",
       "      <td>2015-02-19 18:13:11 -0800</td>\n",
       "      <td>NaN</td>\n",
       "      <td>Eastern Time (US &amp; Canada)</td>\n",
       "    </tr>\n",
       "  </tbody>\n",
       "</table>\n",
       "</div>"
      ],
      "text/plain": [
       "             tweet_id airline_sentiment    airline airline_sentiment_gold  \\\n",
       "0  567900433542488064          negative  Southwest                    NaN   \n",
       "1  569989168903819264          positive  Southwest                    NaN   \n",
       "2  568089179520954368          positive     United                    NaN   \n",
       "3  568928195581513728          negative  Southwest                    NaN   \n",
       "4  568594180014014464          negative     United                    NaN   \n",
       "\n",
       "            name negativereason_gold  retweet_count  \\\n",
       "0  ColeyGirouard                 NaN              0   \n",
       "1  WalterFaddoul                 NaN              0   \n",
       "2      LocalKyle                 NaN              0   \n",
       "3    amccarthy19                 NaN              0   \n",
       "4        J_Okayy                 NaN              0   \n",
       "\n",
       "                                                text tweet_coord  \\\n",
       "0  @SouthwestAir I am scheduled for the morning, ...         NaN   \n",
       "1  @SouthwestAir seeing your workers time in and ...         NaN   \n",
       "2  @united Flew ORD to Miami and back and  had gr...         NaN   \n",
       "3     @SouthwestAir @dultch97 that's horse radish 😤🐴         NaN   \n",
       "4  @united so our flight into ORD was delayed bec...         NaN   \n",
       "\n",
       "               tweet_created              tweet_location  \\\n",
       "0  2015-02-17 20:16:29 -0800             Washington D.C.   \n",
       "1  2015-02-23 14:36:22 -0800  Indianapolis, Indiana; USA   \n",
       "2  2015-02-18 08:46:29 -0800                    Illinois   \n",
       "3  2015-02-20 16:20:26 -0800                         NaN   \n",
       "4  2015-02-19 18:13:11 -0800                         NaN   \n",
       "\n",
       "                user_timezone  \n",
       "0      Atlantic Time (Canada)  \n",
       "1  Central Time (US & Canada)  \n",
       "2  Central Time (US & Canada)  \n",
       "3      Atlantic Time (Canada)  \n",
       "4  Eastern Time (US & Canada)  "
      ]
     },
     "execution_count": 7,
     "metadata": {},
     "output_type": "execute_result"
    }
   ],
   "source": [
    "train_data.head()"
   ]
  },
  {
   "cell_type": "markdown",
   "metadata": {
    "colab_type": "text",
    "id": "bnPfjh2TueOi"
   },
   "source": [
    "## tweet_id is a unique id corresponding to each tweet so it is not important"
   ]
  },
  {
   "cell_type": "code",
   "execution_count": 8,
   "metadata": {
    "colab": {},
    "colab_type": "code",
    "id": "t2YEonBGueOi"
   },
   "outputs": [],
   "source": [
    "train_data.drop('tweet_id',axis=1,inplace=True)\n",
    "test_data.drop('tweet_id',axis=1,inplace=True)"
   ]
  },
  {
   "cell_type": "code",
   "execution_count": 9,
   "metadata": {
    "colab": {
     "base_uri": "https://localhost:8080/",
     "height": 274
    },
    "colab_type": "code",
    "id": "kNksPk51ueOm",
    "outputId": "7d23f3c6-311c-4103-e089-29fd60797baf"
   },
   "outputs": [
    {
     "data": {
      "text/html": [
       "<div>\n",
       "<style scoped>\n",
       "    .dataframe tbody tr th:only-of-type {\n",
       "        vertical-align: middle;\n",
       "    }\n",
       "\n",
       "    .dataframe tbody tr th {\n",
       "        vertical-align: top;\n",
       "    }\n",
       "\n",
       "    .dataframe thead th {\n",
       "        text-align: right;\n",
       "    }\n",
       "</style>\n",
       "<table border=\"1\" class=\"dataframe\">\n",
       "  <thead>\n",
       "    <tr style=\"text-align: right;\">\n",
       "      <th></th>\n",
       "      <th>airline_sentiment</th>\n",
       "      <th>airline</th>\n",
       "      <th>airline_sentiment_gold</th>\n",
       "      <th>name</th>\n",
       "      <th>negativereason_gold</th>\n",
       "      <th>retweet_count</th>\n",
       "      <th>text</th>\n",
       "      <th>tweet_coord</th>\n",
       "      <th>tweet_created</th>\n",
       "      <th>tweet_location</th>\n",
       "      <th>user_timezone</th>\n",
       "    </tr>\n",
       "  </thead>\n",
       "  <tbody>\n",
       "    <tr>\n",
       "      <td>0</td>\n",
       "      <td>negative</td>\n",
       "      <td>Southwest</td>\n",
       "      <td>NaN</td>\n",
       "      <td>ColeyGirouard</td>\n",
       "      <td>NaN</td>\n",
       "      <td>0</td>\n",
       "      <td>@SouthwestAir I am scheduled for the morning, ...</td>\n",
       "      <td>NaN</td>\n",
       "      <td>2015-02-17 20:16:29 -0800</td>\n",
       "      <td>Washington D.C.</td>\n",
       "      <td>Atlantic Time (Canada)</td>\n",
       "    </tr>\n",
       "    <tr>\n",
       "      <td>1</td>\n",
       "      <td>positive</td>\n",
       "      <td>Southwest</td>\n",
       "      <td>NaN</td>\n",
       "      <td>WalterFaddoul</td>\n",
       "      <td>NaN</td>\n",
       "      <td>0</td>\n",
       "      <td>@SouthwestAir seeing your workers time in and ...</td>\n",
       "      <td>NaN</td>\n",
       "      <td>2015-02-23 14:36:22 -0800</td>\n",
       "      <td>Indianapolis, Indiana; USA</td>\n",
       "      <td>Central Time (US &amp; Canada)</td>\n",
       "    </tr>\n",
       "    <tr>\n",
       "      <td>2</td>\n",
       "      <td>positive</td>\n",
       "      <td>United</td>\n",
       "      <td>NaN</td>\n",
       "      <td>LocalKyle</td>\n",
       "      <td>NaN</td>\n",
       "      <td>0</td>\n",
       "      <td>@united Flew ORD to Miami and back and  had gr...</td>\n",
       "      <td>NaN</td>\n",
       "      <td>2015-02-18 08:46:29 -0800</td>\n",
       "      <td>Illinois</td>\n",
       "      <td>Central Time (US &amp; Canada)</td>\n",
       "    </tr>\n",
       "    <tr>\n",
       "      <td>3</td>\n",
       "      <td>negative</td>\n",
       "      <td>Southwest</td>\n",
       "      <td>NaN</td>\n",
       "      <td>amccarthy19</td>\n",
       "      <td>NaN</td>\n",
       "      <td>0</td>\n",
       "      <td>@SouthwestAir @dultch97 that's horse radish 😤🐴</td>\n",
       "      <td>NaN</td>\n",
       "      <td>2015-02-20 16:20:26 -0800</td>\n",
       "      <td>NaN</td>\n",
       "      <td>Atlantic Time (Canada)</td>\n",
       "    </tr>\n",
       "    <tr>\n",
       "      <td>4</td>\n",
       "      <td>negative</td>\n",
       "      <td>United</td>\n",
       "      <td>NaN</td>\n",
       "      <td>J_Okayy</td>\n",
       "      <td>NaN</td>\n",
       "      <td>0</td>\n",
       "      <td>@united so our flight into ORD was delayed bec...</td>\n",
       "      <td>NaN</td>\n",
       "      <td>2015-02-19 18:13:11 -0800</td>\n",
       "      <td>NaN</td>\n",
       "      <td>Eastern Time (US &amp; Canada)</td>\n",
       "    </tr>\n",
       "  </tbody>\n",
       "</table>\n",
       "</div>"
      ],
      "text/plain": [
       "  airline_sentiment    airline airline_sentiment_gold           name  \\\n",
       "0          negative  Southwest                    NaN  ColeyGirouard   \n",
       "1          positive  Southwest                    NaN  WalterFaddoul   \n",
       "2          positive     United                    NaN      LocalKyle   \n",
       "3          negative  Southwest                    NaN    amccarthy19   \n",
       "4          negative     United                    NaN        J_Okayy   \n",
       "\n",
       "  negativereason_gold  retweet_count  \\\n",
       "0                 NaN              0   \n",
       "1                 NaN              0   \n",
       "2                 NaN              0   \n",
       "3                 NaN              0   \n",
       "4                 NaN              0   \n",
       "\n",
       "                                                text tweet_coord  \\\n",
       "0  @SouthwestAir I am scheduled for the morning, ...         NaN   \n",
       "1  @SouthwestAir seeing your workers time in and ...         NaN   \n",
       "2  @united Flew ORD to Miami and back and  had gr...         NaN   \n",
       "3     @SouthwestAir @dultch97 that's horse radish 😤🐴         NaN   \n",
       "4  @united so our flight into ORD was delayed bec...         NaN   \n",
       "\n",
       "               tweet_created              tweet_location  \\\n",
       "0  2015-02-17 20:16:29 -0800             Washington D.C.   \n",
       "1  2015-02-23 14:36:22 -0800  Indianapolis, Indiana; USA   \n",
       "2  2015-02-18 08:46:29 -0800                    Illinois   \n",
       "3  2015-02-20 16:20:26 -0800                         NaN   \n",
       "4  2015-02-19 18:13:11 -0800                         NaN   \n",
       "\n",
       "                user_timezone  \n",
       "0      Atlantic Time (Canada)  \n",
       "1  Central Time (US & Canada)  \n",
       "2  Central Time (US & Canada)  \n",
       "3      Atlantic Time (Canada)  \n",
       "4  Eastern Time (US & Canada)  "
      ]
     },
     "execution_count": 9,
     "metadata": {},
     "output_type": "execute_result"
    }
   ],
   "source": [
    "train_data.head()"
   ]
  },
  {
   "cell_type": "code",
   "execution_count": 10,
   "metadata": {
    "colab": {
     "base_uri": "https://localhost:8080/",
     "height": 274
    },
    "colab_type": "code",
    "id": "9_eDGVElueOq",
    "outputId": "81ad89f9-f550-4f71-de45-6842f7fd8061"
   },
   "outputs": [
    {
     "data": {
      "text/html": [
       "<div>\n",
       "<style scoped>\n",
       "    .dataframe tbody tr th:only-of-type {\n",
       "        vertical-align: middle;\n",
       "    }\n",
       "\n",
       "    .dataframe tbody tr th {\n",
       "        vertical-align: top;\n",
       "    }\n",
       "\n",
       "    .dataframe thead th {\n",
       "        text-align: right;\n",
       "    }\n",
       "</style>\n",
       "<table border=\"1\" class=\"dataframe\">\n",
       "  <thead>\n",
       "    <tr style=\"text-align: right;\">\n",
       "      <th></th>\n",
       "      <th>airline</th>\n",
       "      <th>airline_sentiment_gold</th>\n",
       "      <th>name</th>\n",
       "      <th>negativereason_gold</th>\n",
       "      <th>retweet_count</th>\n",
       "      <th>text</th>\n",
       "      <th>tweet_coord</th>\n",
       "      <th>tweet_created</th>\n",
       "      <th>tweet_location</th>\n",
       "      <th>user_timezone</th>\n",
       "    </tr>\n",
       "  </thead>\n",
       "  <tbody>\n",
       "    <tr>\n",
       "      <td>0</td>\n",
       "      <td>American</td>\n",
       "      <td>NaN</td>\n",
       "      <td>zsalim03</td>\n",
       "      <td>NaN</td>\n",
       "      <td>0</td>\n",
       "      <td>@AmericanAir In car gng to DFW. Pulled over 1h...</td>\n",
       "      <td>NaN</td>\n",
       "      <td>2015-02-22 18:15:50 -0800</td>\n",
       "      <td>Texas</td>\n",
       "      <td>Central Time (US &amp; Canada)</td>\n",
       "    </tr>\n",
       "    <tr>\n",
       "      <td>1</td>\n",
       "      <td>American</td>\n",
       "      <td>NaN</td>\n",
       "      <td>sa_craig</td>\n",
       "      <td>NaN</td>\n",
       "      <td>0</td>\n",
       "      <td>@AmericanAir after all, the plane didn’t land ...</td>\n",
       "      <td>NaN</td>\n",
       "      <td>2015-02-22 13:22:57 -0800</td>\n",
       "      <td>College Station, TX</td>\n",
       "      <td>Central Time (US &amp; Canada)</td>\n",
       "    </tr>\n",
       "    <tr>\n",
       "      <td>2</td>\n",
       "      <td>Southwest</td>\n",
       "      <td>NaN</td>\n",
       "      <td>DanaChristos</td>\n",
       "      <td>NaN</td>\n",
       "      <td>1</td>\n",
       "      <td>@SouthwestAir can't believe how many paying cu...</td>\n",
       "      <td>NaN</td>\n",
       "      <td>2015-02-17 18:52:31 -0800</td>\n",
       "      <td>CT</td>\n",
       "      <td>Eastern Time (US &amp; Canada)</td>\n",
       "    </tr>\n",
       "    <tr>\n",
       "      <td>3</td>\n",
       "      <td>US Airways</td>\n",
       "      <td>NaN</td>\n",
       "      <td>rossj987</td>\n",
       "      <td>NaN</td>\n",
       "      <td>0</td>\n",
       "      <td>@USAirways I can legitimately say that I would...</td>\n",
       "      <td>NaN</td>\n",
       "      <td>2015-02-22 23:16:24 -0800</td>\n",
       "      <td>Washington, D.C.</td>\n",
       "      <td>Eastern Time (US &amp; Canada)</td>\n",
       "    </tr>\n",
       "    <tr>\n",
       "      <td>4</td>\n",
       "      <td>American</td>\n",
       "      <td>NaN</td>\n",
       "      <td>tranpham18</td>\n",
       "      <td>NaN</td>\n",
       "      <td>0</td>\n",
       "      <td>@AmericanAir still no response from AA. great ...</td>\n",
       "      <td>NaN</td>\n",
       "      <td>2015-02-23 08:44:51 -0800</td>\n",
       "      <td>New York City</td>\n",
       "      <td>Eastern Time (US &amp; Canada)</td>\n",
       "    </tr>\n",
       "  </tbody>\n",
       "</table>\n",
       "</div>"
      ],
      "text/plain": [
       "      airline airline_sentiment_gold          name negativereason_gold  \\\n",
       "0    American                    NaN      zsalim03                 NaN   \n",
       "1    American                    NaN      sa_craig                 NaN   \n",
       "2   Southwest                    NaN  DanaChristos                 NaN   \n",
       "3  US Airways                    NaN      rossj987                 NaN   \n",
       "4    American                    NaN    tranpham18                 NaN   \n",
       "\n",
       "   retweet_count                                               text  \\\n",
       "0              0  @AmericanAir In car gng to DFW. Pulled over 1h...   \n",
       "1              0  @AmericanAir after all, the plane didn’t land ...   \n",
       "2              1  @SouthwestAir can't believe how many paying cu...   \n",
       "3              0  @USAirways I can legitimately say that I would...   \n",
       "4              0  @AmericanAir still no response from AA. great ...   \n",
       "\n",
       "  tweet_coord              tweet_created       tweet_location  \\\n",
       "0         NaN  2015-02-22 18:15:50 -0800                Texas   \n",
       "1         NaN  2015-02-22 13:22:57 -0800  College Station, TX   \n",
       "2         NaN  2015-02-17 18:52:31 -0800                   CT   \n",
       "3         NaN  2015-02-22 23:16:24 -0800     Washington, D.C.   \n",
       "4         NaN  2015-02-23 08:44:51 -0800        New York City   \n",
       "\n",
       "                user_timezone  \n",
       "0  Central Time (US & Canada)  \n",
       "1  Central Time (US & Canada)  \n",
       "2  Eastern Time (US & Canada)  \n",
       "3  Eastern Time (US & Canada)  \n",
       "4  Eastern Time (US & Canada)  "
      ]
     },
     "execution_count": 10,
     "metadata": {},
     "output_type": "execute_result"
    }
   ],
   "source": [
    "test_data.head()"
   ]
  },
  {
   "cell_type": "code",
   "execution_count": 11,
   "metadata": {
    "colab": {
     "base_uri": "https://localhost:8080/",
     "height": 213
    },
    "colab_type": "code",
    "id": "5By7JMn7ueOu",
    "outputId": "f28a5440-8e50-4996-b6b9-c5067311d76e"
   },
   "outputs": [
    {
     "data": {
      "text/plain": [
       "airline_sentiment             0\n",
       "airline                       0\n",
       "airline_sentiment_gold    10949\n",
       "name                          0\n",
       "negativereason_gold       10956\n",
       "retweet_count                 0\n",
       "text                          0\n",
       "tweet_coord               10204\n",
       "tweet_created                 0\n",
       "tweet_location             3550\n",
       "user_timezone              3577\n",
       "dtype: int64"
      ]
     },
     "execution_count": 11,
     "metadata": {},
     "output_type": "execute_result"
    }
   ],
   "source": [
    "train_data.isnull().sum()"
   ]
  },
  {
   "cell_type": "markdown",
   "metadata": {
    "colab_type": "text",
    "id": "DRwBOahkueOz"
   },
   "source": [
    "## As we can see that airline_sentiment_gold,negativereason_gold and  tweet_coord contains so many nan values that they are not useful\n"
   ]
  },
  {
   "cell_type": "code",
   "execution_count": 12,
   "metadata": {
    "colab": {},
    "colab_type": "code",
    "id": "_6PysMZ6ueO0"
   },
   "outputs": [],
   "source": [
    "train_data.drop(['airline_sentiment_gold','negativereason_gold','tweet_coord'],axis=1,inplace=True)\n",
    "test_data.drop(['airline_sentiment_gold','negativereason_gold','tweet_coord'],axis=1,inplace=True)"
   ]
  },
  {
   "cell_type": "code",
   "execution_count": 13,
   "metadata": {
    "colab": {
     "base_uri": "https://localhost:8080/",
     "height": 191
    },
    "colab_type": "code",
    "id": "Dk892nVYueO4",
    "outputId": "84d5a0e6-a386-475d-80f1-1c53f1c42b31"
   },
   "outputs": [
    {
     "data": {
      "text/html": [
       "<div>\n",
       "<style scoped>\n",
       "    .dataframe tbody tr th:only-of-type {\n",
       "        vertical-align: middle;\n",
       "    }\n",
       "\n",
       "    .dataframe tbody tr th {\n",
       "        vertical-align: top;\n",
       "    }\n",
       "\n",
       "    .dataframe thead th {\n",
       "        text-align: right;\n",
       "    }\n",
       "</style>\n",
       "<table border=\"1\" class=\"dataframe\">\n",
       "  <thead>\n",
       "    <tr style=\"text-align: right;\">\n",
       "      <th></th>\n",
       "      <th>airline_sentiment</th>\n",
       "      <th>airline</th>\n",
       "      <th>name</th>\n",
       "      <th>retweet_count</th>\n",
       "      <th>text</th>\n",
       "      <th>tweet_created</th>\n",
       "      <th>tweet_location</th>\n",
       "      <th>user_timezone</th>\n",
       "    </tr>\n",
       "  </thead>\n",
       "  <tbody>\n",
       "    <tr>\n",
       "      <td>0</td>\n",
       "      <td>negative</td>\n",
       "      <td>Southwest</td>\n",
       "      <td>ColeyGirouard</td>\n",
       "      <td>0</td>\n",
       "      <td>@SouthwestAir I am scheduled for the morning, ...</td>\n",
       "      <td>2015-02-17 20:16:29 -0800</td>\n",
       "      <td>Washington D.C.</td>\n",
       "      <td>Atlantic Time (Canada)</td>\n",
       "    </tr>\n",
       "    <tr>\n",
       "      <td>1</td>\n",
       "      <td>positive</td>\n",
       "      <td>Southwest</td>\n",
       "      <td>WalterFaddoul</td>\n",
       "      <td>0</td>\n",
       "      <td>@SouthwestAir seeing your workers time in and ...</td>\n",
       "      <td>2015-02-23 14:36:22 -0800</td>\n",
       "      <td>Indianapolis, Indiana; USA</td>\n",
       "      <td>Central Time (US &amp; Canada)</td>\n",
       "    </tr>\n",
       "    <tr>\n",
       "      <td>2</td>\n",
       "      <td>positive</td>\n",
       "      <td>United</td>\n",
       "      <td>LocalKyle</td>\n",
       "      <td>0</td>\n",
       "      <td>@united Flew ORD to Miami and back and  had gr...</td>\n",
       "      <td>2015-02-18 08:46:29 -0800</td>\n",
       "      <td>Illinois</td>\n",
       "      <td>Central Time (US &amp; Canada)</td>\n",
       "    </tr>\n",
       "    <tr>\n",
       "      <td>3</td>\n",
       "      <td>negative</td>\n",
       "      <td>Southwest</td>\n",
       "      <td>amccarthy19</td>\n",
       "      <td>0</td>\n",
       "      <td>@SouthwestAir @dultch97 that's horse radish 😤🐴</td>\n",
       "      <td>2015-02-20 16:20:26 -0800</td>\n",
       "      <td>NaN</td>\n",
       "      <td>Atlantic Time (Canada)</td>\n",
       "    </tr>\n",
       "    <tr>\n",
       "      <td>4</td>\n",
       "      <td>negative</td>\n",
       "      <td>United</td>\n",
       "      <td>J_Okayy</td>\n",
       "      <td>0</td>\n",
       "      <td>@united so our flight into ORD was delayed bec...</td>\n",
       "      <td>2015-02-19 18:13:11 -0800</td>\n",
       "      <td>NaN</td>\n",
       "      <td>Eastern Time (US &amp; Canada)</td>\n",
       "    </tr>\n",
       "  </tbody>\n",
       "</table>\n",
       "</div>"
      ],
      "text/plain": [
       "  airline_sentiment    airline           name  retweet_count  \\\n",
       "0          negative  Southwest  ColeyGirouard              0   \n",
       "1          positive  Southwest  WalterFaddoul              0   \n",
       "2          positive     United      LocalKyle              0   \n",
       "3          negative  Southwest    amccarthy19              0   \n",
       "4          negative     United        J_Okayy              0   \n",
       "\n",
       "                                                text  \\\n",
       "0  @SouthwestAir I am scheduled for the morning, ...   \n",
       "1  @SouthwestAir seeing your workers time in and ...   \n",
       "2  @united Flew ORD to Miami and back and  had gr...   \n",
       "3     @SouthwestAir @dultch97 that's horse radish 😤🐴   \n",
       "4  @united so our flight into ORD was delayed bec...   \n",
       "\n",
       "               tweet_created              tweet_location  \\\n",
       "0  2015-02-17 20:16:29 -0800             Washington D.C.   \n",
       "1  2015-02-23 14:36:22 -0800  Indianapolis, Indiana; USA   \n",
       "2  2015-02-18 08:46:29 -0800                    Illinois   \n",
       "3  2015-02-20 16:20:26 -0800                         NaN   \n",
       "4  2015-02-19 18:13:11 -0800                         NaN   \n",
       "\n",
       "                user_timezone  \n",
       "0      Atlantic Time (Canada)  \n",
       "1  Central Time (US & Canada)  \n",
       "2  Central Time (US & Canada)  \n",
       "3      Atlantic Time (Canada)  \n",
       "4  Eastern Time (US & Canada)  "
      ]
     },
     "execution_count": 13,
     "metadata": {},
     "output_type": "execute_result"
    }
   ],
   "source": [
    "train_data.head()"
   ]
  },
  {
   "cell_type": "code",
   "execution_count": 14,
   "metadata": {
    "colab": {
     "base_uri": "https://localhost:8080/",
     "height": 164
    },
    "colab_type": "code",
    "id": "SqbZlvQ3uePD",
    "outputId": "1c1e4166-7629-4292-8d33-9c6c880e0d1d"
   },
   "outputs": [
    {
     "data": {
      "text/plain": [
       "airline_sentiment       0\n",
       "airline                 0\n",
       "name                    0\n",
       "retweet_count           0\n",
       "text                    0\n",
       "tweet_created           0\n",
       "tweet_location       3550\n",
       "user_timezone        3577\n",
       "dtype: int64"
      ]
     },
     "execution_count": 14,
     "metadata": {},
     "output_type": "execute_result"
    }
   ],
   "source": [
    "train_data.isnull().sum()"
   ]
  },
  {
   "cell_type": "code",
   "execution_count": 15,
   "metadata": {
    "colab": {
     "base_uri": "https://localhost:8080/",
     "height": 147
    },
    "colab_type": "code",
    "id": "6R145GIKuePI",
    "outputId": "69e57eef-0835-4a5c-dc9e-99e1048cb6b5"
   },
   "outputs": [
    {
     "data": {
      "text/plain": [
       "airline              0\n",
       "name                 0\n",
       "retweet_count        0\n",
       "text                 0\n",
       "tweet_created        0\n",
       "tweet_location    1183\n",
       "user_timezone     1243\n",
       "dtype: int64"
      ]
     },
     "execution_count": 15,
     "metadata": {},
     "output_type": "execute_result"
    }
   ],
   "source": [
    "test_data.isnull().sum()"
   ]
  },
  {
   "cell_type": "code",
   "execution_count": 16,
   "metadata": {
    "colab": {},
    "colab_type": "code",
    "id": "-WigVthjuePM"
   },
   "outputs": [],
   "source": [
    "positive_sentiment_df=train_data[train_data.airline_sentiment=='positive']\n",
    "negative_sentiment_df=train_data[train_data.airline_sentiment=='negative']\n",
    "neutral_sentiment_df=train_data[train_data.airline_sentiment=='neutral']"
   ]
  },
  {
   "cell_type": "code",
   "execution_count": 17,
   "metadata": {
    "colab": {
     "base_uri": "https://localhost:8080/",
     "height": 295
    },
    "colab_type": "code",
    "id": "QEoLAx2SuePQ",
    "outputId": "c7c3dc43-03e6-472e-fa31-4afa68cba657"
   },
   "outputs": [
    {
     "data": {
      "image/png": "[encoded data removed]",
      "text/plain": [
       "<Figure size 1080x720 with 1 Axes>"
      ]
     },
     "metadata": {
      "needs_background": "light"
     },
     "output_type": "display_data"
    }
   ],
   "source": [
    "(keys,values)=np.unique(positive_sentiment_df.airline,return_counts=True)\n",
    "plt.bar(keys,values,align='center', alpha=0.5,color='b')\n",
    "plt.xlabel('Airline')\n",
    "plt.ylabel('Positive Tweets')\n",
    "plt.title('Positive tweets vs airline')\n",
    "plt.show()"
   ]
  },
  {
   "cell_type": "code",
   "execution_count": 18,
   "metadata": {
    "colab": {
     "base_uri": "https://localhost:8080/",
     "height": 295
    },
    "colab_type": "code",
    "id": "tlIq83GGuePU",
    "outputId": "fdd527f6-bc43-4814-968c-3bb3ce31f4f7"
   },
   "outputs": [
    {
     "data": {
      "image/png": "[encoded data removed]",
      "text/plain": [
       "<Figure size 1080x720 with 1 Axes>"
      ]
     },
     "metadata": {
      "needs_background": "light"
     },
     "output_type": "display_data"
    }
   ],
   "source": [
    "(keys,values)=np.unique(negative_sentiment_df.airline,return_counts=True)\n",
    "plt.bar(keys,values,align='center', alpha=0.5,color='r')\n",
    "plt.xlabel('Airline')\n",
    "plt.ylabel('Negative Tweets')\n",
    "plt.title('Negative tweets vs airline')\n",
    "plt.show()"
   ]
  },
  {
   "cell_type": "code",
   "execution_count": 19,
   "metadata": {
    "colab": {
     "base_uri": "https://localhost:8080/",
     "height": 295
    },
    "colab_type": "code",
    "id": "982j_EL8uePZ",
    "outputId": "8f393f46-2f9d-429d-ad50-571a363df16b"
   },
   "outputs": [
    {
     "data": {
      "image/png": "[encoded data removed]",
      "text/plain": [
       "<Figure size 1080x720 with 1 Axes>"
      ]
     },
     "metadata": {
      "needs_background": "light"
     },
     "output_type": "display_data"
    }
   ],
   "source": [
    "(keys,values)=np.unique(negative_sentiment_df.airline,return_counts=True)\n",
    "plt.bar(keys,values,align='center', alpha=0.5,color='g')\n",
    "plt.xlabel('Airline')\n",
    "plt.ylabel('Neutal Tweets')\n",
    "plt.title('Neutral tweets vs airline')\n",
    "plt.show()"
   ]
  },
  {
   "cell_type": "markdown",
   "metadata": {
    "colab_type": "text",
    "id": "hBBwDFkpuePd"
   },
   "source": [
    "## So we see that sentiment differs for different airlines as well thus it's an important feature "
   ]
  },
  {
   "cell_type": "markdown",
   "metadata": {
    "colab_type": "text",
    "id": "cqVVxatDaB0y"
   },
   "source": [
    "## One hot encoding the airline names so that they can be used as features\n"
   ]
  },
  {
   "cell_type": "code",
   "execution_count": 20,
   "metadata": {
    "colab": {},
    "colab_type": "code",
    "id": "JRHnqSlxuePd"
   },
   "outputs": [],
   "source": [
    "airline_train_dummies=pd.get_dummies(train_data.airline)"
   ]
  },
  {
   "cell_type": "code",
   "execution_count": 21,
   "metadata": {
    "colab": {},
    "colab_type": "code",
    "id": "D-F60chyuePh"
   },
   "outputs": [],
   "source": [
    "train_data2=pd.concat([train_data,airline_train_dummies],axis=1)"
   ]
  },
  {
   "cell_type": "code",
   "execution_count": 22,
   "metadata": {
    "colab": {},
    "colab_type": "code",
    "id": "DdZC5ey2uePl"
   },
   "outputs": [],
   "source": [
    "airline_test_dummies=pd.get_dummies(test_data.airline)"
   ]
  },
  {
   "cell_type": "code",
   "execution_count": 23,
   "metadata": {
    "colab": {},
    "colab_type": "code",
    "id": "0bvMcVWQuePp"
   },
   "outputs": [],
   "source": [
    "test_data2=pd.concat([test_data,airline_test_dummies],axis=1)"
   ]
  },
  {
   "cell_type": "code",
   "execution_count": 24,
   "metadata": {
    "colab": {
     "base_uri": "https://localhost:8080/",
     "height": 290
    },
    "colab_type": "code",
    "id": "s2rrGycauePu",
    "outputId": "b353c379-fbcb-484a-b0b0-7a3e5c28ccf5"
   },
   "outputs": [
    {
     "data": {
      "text/html": [
       "<div>\n",
       "<style scoped>\n",
       "    .dataframe tbody tr th:only-of-type {\n",
       "        vertical-align: middle;\n",
       "    }\n",
       "\n",
       "    .dataframe tbody tr th {\n",
       "        vertical-align: top;\n",
       "    }\n",
       "\n",
       "    .dataframe thead th {\n",
       "        text-align: right;\n",
       "    }\n",
       "</style>\n",
       "<table border=\"1\" class=\"dataframe\">\n",
       "  <thead>\n",
       "    <tr style=\"text-align: right;\">\n",
       "      <th></th>\n",
       "      <th>airline_sentiment</th>\n",
       "      <th>airline</th>\n",
       "      <th>name</th>\n",
       "      <th>retweet_count</th>\n",
       "      <th>text</th>\n",
       "      <th>tweet_created</th>\n",
       "      <th>tweet_location</th>\n",
       "      <th>user_timezone</th>\n",
       "      <th>American</th>\n",
       "      <th>Delta</th>\n",
       "      <th>Southwest</th>\n",
       "      <th>US Airways</th>\n",
       "      <th>United</th>\n",
       "      <th>Virgin America</th>\n",
       "    </tr>\n",
       "  </thead>\n",
       "  <tbody>\n",
       "    <tr>\n",
       "      <td>0</td>\n",
       "      <td>negative</td>\n",
       "      <td>Southwest</td>\n",
       "      <td>ColeyGirouard</td>\n",
       "      <td>0</td>\n",
       "      <td>@SouthwestAir I am scheduled for the morning, ...</td>\n",
       "      <td>2015-02-17 20:16:29 -0800</td>\n",
       "      <td>Washington D.C.</td>\n",
       "      <td>Atlantic Time (Canada)</td>\n",
       "      <td>0</td>\n",
       "      <td>0</td>\n",
       "      <td>1</td>\n",
       "      <td>0</td>\n",
       "      <td>0</td>\n",
       "      <td>0</td>\n",
       "    </tr>\n",
       "    <tr>\n",
       "      <td>1</td>\n",
       "      <td>positive</td>\n",
       "      <td>Southwest</td>\n",
       "      <td>WalterFaddoul</td>\n",
       "      <td>0</td>\n",
       "      <td>@SouthwestAir seeing your workers time in and ...</td>\n",
       "      <td>2015-02-23 14:36:22 -0800</td>\n",
       "      <td>Indianapolis, Indiana; USA</td>\n",
       "      <td>Central Time (US &amp; Canada)</td>\n",
       "      <td>0</td>\n",
       "      <td>0</td>\n",
       "      <td>1</td>\n",
       "      <td>0</td>\n",
       "      <td>0</td>\n",
       "      <td>0</td>\n",
       "    </tr>\n",
       "    <tr>\n",
       "      <td>2</td>\n",
       "      <td>positive</td>\n",
       "      <td>United</td>\n",
       "      <td>LocalKyle</td>\n",
       "      <td>0</td>\n",
       "      <td>@united Flew ORD to Miami and back and  had gr...</td>\n",
       "      <td>2015-02-18 08:46:29 -0800</td>\n",
       "      <td>Illinois</td>\n",
       "      <td>Central Time (US &amp; Canada)</td>\n",
       "      <td>0</td>\n",
       "      <td>0</td>\n",
       "      <td>0</td>\n",
       "      <td>0</td>\n",
       "      <td>1</td>\n",
       "      <td>0</td>\n",
       "    </tr>\n",
       "    <tr>\n",
       "      <td>3</td>\n",
       "      <td>negative</td>\n",
       "      <td>Southwest</td>\n",
       "      <td>amccarthy19</td>\n",
       "      <td>0</td>\n",
       "      <td>@SouthwestAir @dultch97 that's horse radish 😤🐴</td>\n",
       "      <td>2015-02-20 16:20:26 -0800</td>\n",
       "      <td>NaN</td>\n",
       "      <td>Atlantic Time (Canada)</td>\n",
       "      <td>0</td>\n",
       "      <td>0</td>\n",
       "      <td>1</td>\n",
       "      <td>0</td>\n",
       "      <td>0</td>\n",
       "      <td>0</td>\n",
       "    </tr>\n",
       "    <tr>\n",
       "      <td>4</td>\n",
       "      <td>negative</td>\n",
       "      <td>United</td>\n",
       "      <td>J_Okayy</td>\n",
       "      <td>0</td>\n",
       "      <td>@united so our flight into ORD was delayed bec...</td>\n",
       "      <td>2015-02-19 18:13:11 -0800</td>\n",
       "      <td>NaN</td>\n",
       "      <td>Eastern Time (US &amp; Canada)</td>\n",
       "      <td>0</td>\n",
       "      <td>0</td>\n",
       "      <td>0</td>\n",
       "      <td>0</td>\n",
       "      <td>1</td>\n",
       "      <td>0</td>\n",
       "    </tr>\n",
       "  </tbody>\n",
       "</table>\n",
       "</div>"
      ],
      "text/plain": [
       "  airline_sentiment    airline           name  retweet_count  \\\n",
       "0          negative  Southwest  ColeyGirouard              0   \n",
       "1          positive  Southwest  WalterFaddoul              0   \n",
       "2          positive     United      LocalKyle              0   \n",
       "3          negative  Southwest    amccarthy19              0   \n",
       "4          negative     United        J_Okayy              0   \n",
       "\n",
       "                                                text  \\\n",
       "0  @SouthwestAir I am scheduled for the morning, ...   \n",
       "1  @SouthwestAir seeing your workers time in and ...   \n",
       "2  @united Flew ORD to Miami and back and  had gr...   \n",
       "3     @SouthwestAir @dultch97 that's horse radish 😤🐴   \n",
       "4  @united so our flight into ORD was delayed bec...   \n",
       "\n",
       "               tweet_created              tweet_location  \\\n",
       "0  2015-02-17 20:16:29 -0800             Washington D.C.   \n",
       "1  2015-02-23 14:36:22 -0800  Indianapolis, Indiana; USA   \n",
       "2  2015-02-18 08:46:29 -0800                    Illinois   \n",
       "3  2015-02-20 16:20:26 -0800                         NaN   \n",
       "4  2015-02-19 18:13:11 -0800                         NaN   \n",
       "\n",
       "                user_timezone  American  Delta  Southwest  US Airways  United  \\\n",
       "0      Atlantic Time (Canada)         0      0          1           0       0   \n",
       "1  Central Time (US & Canada)         0      0          1           0       0   \n",
       "2  Central Time (US & Canada)         0      0          0           0       1   \n",
       "3      Atlantic Time (Canada)         0      0          1           0       0   \n",
       "4  Eastern Time (US & Canada)         0      0          0           0       1   \n",
       "\n",
       "   Virgin America  \n",
       "0               0  \n",
       "1               0  \n",
       "2               0  \n",
       "3               0  \n",
       "4               0  "
      ]
     },
     "execution_count": 24,
     "metadata": {},
     "output_type": "execute_result"
    }
   ],
   "source": [
    "train_data2.head()"
   ]
  },
  {
   "cell_type": "code",
   "execution_count": 25,
   "metadata": {
    "colab": {
     "base_uri": "https://localhost:8080/",
     "height": 213
    },
    "colab_type": "code",
    "id": "QvcIUZCxfp2c",
    "outputId": "40b50942-663f-4061-81c0-2c25b3a3d680"
   },
   "outputs": [
    {
     "data": {
      "text/plain": [
       "JetBlueNews        43\n",
       "otisday            25\n",
       "_mhertz            22\n",
       "kbosspotter        18\n",
       "weezerandburnie    18\n",
       "                   ..\n",
       "billgunger          1\n",
       "mnorouzi            1\n",
       "JDesca01            1\n",
       "CapeMcMoose         1\n",
       "DawnElisabeth16     1\n",
       "Name: name, Length: 6438, dtype: int64"
      ]
     },
     "execution_count": 25,
     "metadata": {},
     "output_type": "execute_result"
    }
   ],
   "source": [
    "train_data2.name.value_counts()"
   ]
  },
  {
   "cell_type": "markdown",
   "metadata": {
    "colab_type": "text",
    "id": "U_fWIRQzaTC1"
   },
   "source": [
    "## Taking only few of the most occuring names in the tweets as there are too many of them.\n"
   ]
  },
  {
   "cell_type": "code",
   "execution_count": 26,
   "metadata": {
    "colab": {},
    "colab_type": "code",
    "id": "EQbG7hkcuePx"
   },
   "outputs": [],
   "source": [
    "min_count=15 # a threshold value if a name occurs less than it in the tweets then we consider it into name_other label\n",
    "names=(train_data2.name.value_counts() < min_count)"
   ]
  },
  {
   "cell_type": "code",
   "execution_count": 27,
   "metadata": {
    "colab": {},
    "colab_type": "code",
    "id": "36LOA5qiexuv"
   },
   "outputs": [],
   "source": [
    "train_data2['name']=train_data2['name'].apply(lambda name:'name_other' if names.loc[name]==True else name)"
   ]
  },
  {
   "cell_type": "code",
   "execution_count": 28,
   "metadata": {
    "colab": {
     "base_uri": "https://localhost:8080/",
     "height": 246
    },
    "colab_type": "code",
    "id": "0vWmW546ahDZ",
    "outputId": "aec123b8-15c7-4e7f-99be-d7902d9dca4f"
   },
   "outputs": [
    {
     "data": {
      "text/plain": [
       "name_other         10740\n",
       "JetBlueNews           43\n",
       "otisday               25\n",
       "_mhertz               22\n",
       "weezerandburnie       18\n",
       "kbosspotter           18\n",
       "MeeestarCoke          17\n",
       "flemmingerin          17\n",
       "ThatJasonEaton        17\n",
       "thomashoward88        16\n",
       "GREATNESSEOA          16\n",
       "throthra              16\n",
       "Aero0729              15\n",
       "Name: name, dtype: int64"
      ]
     },
     "execution_count": 28,
     "metadata": {},
     "output_type": "execute_result"
    }
   ],
   "source": [
    "train_data2.name.value_counts()"
   ]
  },
  {
   "cell_type": "code",
   "execution_count": 29,
   "metadata": {
    "colab": {
     "base_uri": "https://localhost:8080/",
     "height": 82
    },
    "colab_type": "code",
    "id": "h94dgUzfueP4",
    "outputId": "dbbb8f6a-73c5-4549-e1fd-db4d4a61bd27"
   },
   "outputs": [
    {
     "data": {
      "text/plain": [
       "array(['name_other', 'JetBlueNews', '_mhertz', 'thomashoward88',\n",
       "       'GREATNESSEOA', 'ThatJasonEaton', 'otisday', 'MeeestarCoke',\n",
       "       'Aero0729', 'flemmingerin', 'kbosspotter', 'weezerandburnie',\n",
       "       'throthra'], dtype=object)"
      ]
     },
     "execution_count": 29,
     "metadata": {},
     "output_type": "execute_result"
    }
   ],
   "source": [
    "train_data2.name.unique()"
   ]
  },
  {
   "cell_type": "code",
   "execution_count": 30,
   "metadata": {
    "colab": {},
    "colab_type": "code",
    "id": "16bTH9fRueP8"
   },
   "outputs": [],
   "source": [
    "distinct_names=train_data2.name.value_counts()"
   ]
  },
  {
   "cell_type": "code",
   "execution_count": 31,
   "metadata": {
    "colab": {
     "base_uri": "https://localhost:8080/",
     "height": 49
    },
    "colab_type": "code",
    "id": "0FOuCnamueQC",
    "outputId": "f112baf1-90f9-4705-9305-2395a52ccbca"
   },
   "outputs": [
    {
     "data": {
      "text/plain": [
       "array(['zsalim03', 'sa_craig', 'DanaChristos', ..., 'Anthony_Scerri',\n",
       "       'GoldensPleasure', 'suntoshi'], dtype=object)"
      ]
     },
     "execution_count": 31,
     "metadata": {},
     "output_type": "execute_result"
    }
   ],
   "source": [
    "test_data2.name.unique()"
   ]
  },
  {
   "cell_type": "code",
   "execution_count": 32,
   "metadata": {
    "colab": {},
    "colab_type": "code",
    "id": "74-EkCQvueQL"
   },
   "outputs": [],
   "source": [
    "test_data2['name']=test_data['name'].apply(lambda name:'name_other' if name not in distinct_names else name)"
   ]
  },
  {
   "cell_type": "code",
   "execution_count": 33,
   "metadata": {
    "colab": {
     "base_uri": "https://localhost:8080/",
     "height": 32
    },
    "colab_type": "code",
    "id": "MTWdvDrJgMcN",
    "outputId": "1f796f3b-3082-40d1-ee3d-188fb0a632ef"
   },
   "outputs": [
    {
     "data": {
      "text/plain": [
       "13"
      ]
     },
     "execution_count": 33,
     "metadata": {},
     "output_type": "execute_result"
    }
   ],
   "source": [
    "len(test_data2.name.unique())"
   ]
  },
  {
   "cell_type": "code",
   "execution_count": 34,
   "metadata": {
    "colab": {
     "base_uri": "https://localhost:8080/",
     "height": 114
    },
    "colab_type": "code",
    "id": "06eTjqn7awO3",
    "outputId": "075ef406-8ff5-418b-c83b-c0fece523e8b"
   },
   "outputs": [
    {
     "name": "stderr",
     "output_type": "stream",
     "text": [
      "/home/ankit/anaconda3/lib/python3.7/site-packages/ipykernel_launcher.py:1: UserWarning: Boolean Series key will be reindexed to match DataFrame index.\n",
      "  \"\"\"Entry point for launching an IPython kernel.\n",
      "/home/ankit/anaconda3/lib/python3.7/site-packages/ipykernel_launcher.py:2: UserWarning: Boolean Series key will be reindexed to match DataFrame index.\n",
      "  \n",
      "/home/ankit/anaconda3/lib/python3.7/site-packages/ipykernel_launcher.py:3: UserWarning: Boolean Series key will be reindexed to match DataFrame index.\n",
      "  This is separate from the ipykernel package so we can avoid doing imports until\n"
     ]
    }
   ],
   "source": [
    "positive_names,positive_counts=np.unique(train_data2[train_data2.airline_sentiment=='positive'][train_data2.name!='name_other'].name,return_counts=True)\n",
    "negative_names,negative_counts=np.unique(train_data2[train_data2.airline_sentiment=='negative'][train_data2.name!='name_other'].name,return_counts=True)\n",
    "neutral_names,neutral_counts=np.unique(train_data2[train_data2.airline_sentiment=='neutral'][train_data2.name!='name_other'].name,return_counts=True)"
   ]
  },
  {
   "cell_type": "code",
   "execution_count": 35,
   "metadata": {
    "colab": {
     "base_uri": "https://localhost:8080/",
     "height": 621
    },
    "colab_type": "code",
    "id": "l74ibMXhcRDj",
    "outputId": "54a714bd-f565-48f1-858c-e4c989734dbe"
   },
   "outputs": [
    {
     "data": {
      "image/png": "[encoded data removed]",
      "text/plain": [
       "<Figure size 1440x720 with 1 Axes>"
      ]
     },
     "metadata": {
      "needs_background": "light"
     },
     "output_type": "display_data"
    }
   ],
   "source": [
    "matplotlib.rcParams['figure.figsize']=(20,10)\n",
    "plt.bar(positive_names,positive_counts,align='center', alpha=0.5,color='blue')\n",
    "plt.xlabel('Common Names')\n",
    "plt.ylabel('Positive Tweet Counts')\n",
    "plt.title('Positive Tweet Counts vs Common Names')\n",
    "plt.show()"
   ]
  },
  {
   "cell_type": "code",
   "execution_count": 267,
   "metadata": {
    "colab": {
     "base_uri": "https://localhost:8080/",
     "height": 622
    },
    "colab_type": "code",
    "id": "Fd9hwWlucsve",
    "outputId": "a3819099-e20b-401c-d1dc-08e995531528"
   },
   "outputs": [
    {
     "data": {
      "image/png": "[encoded data removed]",
      "text/plain": [
       "<Figure size 1296x720 with 1 Axes>"
      ]
     },
     "metadata": {
      "needs_background": "light"
     },
     "output_type": "display_data"
    }
   ],
   "source": [
    "matplotlib.rcParams['figure.figsize']=(18,10)\n",
    "plt.bar(negative_names,negative_counts,align='center', alpha=0.5,color='green')\n",
    "plt.xlabel('Common Names')\n",
    "plt.ylabel('Negative Tweet Counts')\n",
    "plt.title('Neagtive Tweet Counts vs Common Names')\n",
    "plt.show()"
   ]
  },
  {
   "cell_type": "code",
   "execution_count": 265,
   "metadata": {
    "colab": {
     "base_uri": "https://localhost:8080/",
     "height": 622
    },
    "colab_type": "code",
    "id": "cWOWoye9hKpJ",
    "outputId": "fe7d11e0-0a3b-4c4d-c61f-678b1006c2b1"
   },
   "outputs": [
    {
     "data": {
      "image/png": "[encoded data removed]",
      "text/plain": [
       "<Figure size 1080x720 with 1 Axes>"
      ]
     },
     "metadata": {
      "needs_background": "light"
     },
     "output_type": "display_data"
    }
   ],
   "source": [
    "matplotlib.rcParams['figure.figsize']=(15,10)\n",
    "plt.bar(neutral_names,neutral_counts,align='center', alpha=0.5,color='red')\n",
    "plt.xlabel('Common Names')\n",
    "plt.ylabel('Neutral Tweet Counts')\n",
    "plt.title('Neutral Tweet Counts vs Common Names')\n",
    "plt.show()"
   ]
  },
  {
   "cell_type": "markdown",
   "metadata": {
    "colab_type": "text",
    "id": "ZllyY1kfiIC3"
   },
   "source": [
    "## Encoding the names as one hot encoding\n"
   ]
  },
  {
   "cell_type": "code",
   "execution_count": 38,
   "metadata": {
    "colab": {},
    "colab_type": "code",
    "id": "PhkrOtTiueQR"
   },
   "outputs": [],
   "source": [
    "name_train_dummies=pd.get_dummies(train_data2.name)"
   ]
  },
  {
   "cell_type": "code",
   "execution_count": 39,
   "metadata": {
    "colab": {},
    "colab_type": "code",
    "id": "wCmAAw3OueQT"
   },
   "outputs": [],
   "source": [
    "train_data3=pd.concat([train_data2,name_train_dummies],axis=1)"
   ]
  },
  {
   "cell_type": "code",
   "execution_count": 40,
   "metadata": {
    "colab": {},
    "colab_type": "code",
    "id": "0rDu2J7CueQX"
   },
   "outputs": [],
   "source": [
    "name_test_dummies=pd.get_dummies(test_data2.name)"
   ]
  },
  {
   "cell_type": "code",
   "execution_count": 41,
   "metadata": {
    "colab": {},
    "colab_type": "code",
    "id": "ivrHtseGueQb"
   },
   "outputs": [],
   "source": [
    "test_data3=pd.concat([test_data2,name_test_dummies],axis=1)"
   ]
  },
  {
   "cell_type": "code",
   "execution_count": 42,
   "metadata": {
    "colab": {
     "base_uri": "https://localhost:8080/",
     "height": 32
    },
    "colab_type": "code",
    "id": "mdWShVvCueQf",
    "outputId": "f4069c4f-812d-4dc2-9345-bf264bb01e19"
   },
   "outputs": [
    {
     "data": {
      "text/plain": [
       "((10980, 27), (3660, 26))"
      ]
     },
     "execution_count": 42,
     "metadata": {},
     "output_type": "execute_result"
    }
   ],
   "source": [
    "train_data3.shape,test_data3.shape"
   ]
  },
  {
   "cell_type": "code",
   "execution_count": 43,
   "metadata": {
    "colab": {
     "base_uri": "https://localhost:8080/",
     "height": 476
    },
    "colab_type": "code",
    "id": "3tjkpoG4ueQj",
    "outputId": "c6a455f5-a38b-4f0c-aca3-72e9f9e29d7c"
   },
   "outputs": [
    {
     "data": {
      "text/plain": [
       "airline_sentiment       0\n",
       "airline                 0\n",
       "name                    0\n",
       "retweet_count           0\n",
       "text                    0\n",
       "tweet_created           0\n",
       "tweet_location       3550\n",
       "user_timezone        3577\n",
       "American                0\n",
       "Delta                   0\n",
       "Southwest               0\n",
       "US Airways              0\n",
       "United                  0\n",
       "Virgin America          0\n",
       "Aero0729                0\n",
       "GREATNESSEOA            0\n",
       "JetBlueNews             0\n",
       "MeeestarCoke            0\n",
       "ThatJasonEaton          0\n",
       "_mhertz                 0\n",
       "flemmingerin            0\n",
       "kbosspotter             0\n",
       "name_other              0\n",
       "otisday                 0\n",
       "thomashoward88          0\n",
       "throthra                0\n",
       "weezerandburnie         0\n",
       "dtype: int64"
      ]
     },
     "execution_count": 43,
     "metadata": {},
     "output_type": "execute_result"
    }
   ],
   "source": [
    "train_data3.isnull().sum()"
   ]
  },
  {
   "cell_type": "code",
   "execution_count": 44,
   "metadata": {
    "colab": {
     "base_uri": "https://localhost:8080/",
     "height": 459
    },
    "colab_type": "code",
    "id": "EmsQ5z_1ueQm",
    "outputId": "a09f1ad4-318e-4cad-e2b8-a0802e4e6488"
   },
   "outputs": [
    {
     "data": {
      "text/plain": [
       "airline               0\n",
       "name                  0\n",
       "retweet_count         0\n",
       "text                  0\n",
       "tweet_created         0\n",
       "tweet_location     1183\n",
       "user_timezone      1243\n",
       "American              0\n",
       "Delta                 0\n",
       "Southwest             0\n",
       "US Airways            0\n",
       "United                0\n",
       "Virgin America        0\n",
       "Aero0729              0\n",
       "GREATNESSEOA          0\n",
       "JetBlueNews           0\n",
       "MeeestarCoke          0\n",
       "ThatJasonEaton        0\n",
       "_mhertz               0\n",
       "flemmingerin          0\n",
       "kbosspotter           0\n",
       "name_other            0\n",
       "otisday               0\n",
       "thomashoward88        0\n",
       "throthra              0\n",
       "weezerandburnie       0\n",
       "dtype: int64"
      ]
     },
     "execution_count": 44,
     "metadata": {},
     "output_type": "execute_result"
    }
   ],
   "source": [
    "test_data3.isnull().sum()"
   ]
  },
  {
   "cell_type": "markdown",
   "metadata": {
    "colab_type": "text",
    "id": "MbGigXInueQr"
   },
   "source": [
    "## Since we don't know what's an apt fill up for tweet_location and user_timezone we'll drop it\n"
   ]
  },
  {
   "cell_type": "code",
   "execution_count": 45,
   "metadata": {
    "colab": {},
    "colab_type": "code",
    "id": "YLnLl1ZfueQr"
   },
   "outputs": [],
   "source": [
    "train_data3.drop(['tweet_location','user_timezone'],axis=1,inplace=True)"
   ]
  },
  {
   "cell_type": "code",
   "execution_count": 46,
   "metadata": {
    "colab": {},
    "colab_type": "code",
    "id": "9Q0vfL3hueQv"
   },
   "outputs": [],
   "source": [
    "test_data3.drop(['tweet_location','user_timezone'],axis=1,inplace=True)"
   ]
  },
  {
   "cell_type": "code",
   "execution_count": 47,
   "metadata": {
    "colab": {
     "base_uri": "https://localhost:8080/",
     "height": 32
    },
    "colab_type": "code",
    "id": "m3wpqhyKueQz",
    "outputId": "359a5bb3-7be4-492b-cff1-37d38046d336"
   },
   "outputs": [
    {
     "data": {
      "text/plain": [
       "((10980, 25), (3660, 24))"
      ]
     },
     "execution_count": 47,
     "metadata": {},
     "output_type": "execute_result"
    }
   ],
   "source": [
    "train_data3.shape,test_data3.shape"
   ]
  },
  {
   "cell_type": "code",
   "execution_count": 48,
   "metadata": {
    "colab": {
     "base_uri": "https://localhost:8080/",
     "height": 32
    },
    "colab_type": "code",
    "id": "a3dGQWK5ueQ3",
    "outputId": "98935fbc-e6f9-4107-f8e3-cc8817b8c222"
   },
   "outputs": [
    {
     "data": {
      "text/plain": [
       "10758"
      ]
     },
     "execution_count": 48,
     "metadata": {},
     "output_type": "execute_result"
    }
   ],
   "source": [
    "len(train_data3.tweet_created.unique())"
   ]
  },
  {
   "cell_type": "markdown",
   "metadata": {
    "colab_type": "text",
    "id": "StYXa5HMueQ9"
   },
   "source": [
    "## tweet_created is the time at which tweet is created so a lot of unique values hence dropping it\n"
   ]
  },
  {
   "cell_type": "code",
   "execution_count": 49,
   "metadata": {
    "colab": {},
    "colab_type": "code",
    "id": "AbQ_rpoeueQ-"
   },
   "outputs": [],
   "source": [
    "train_data3.drop('tweet_created',axis=1,inplace=True )"
   ]
  },
  {
   "cell_type": "code",
   "execution_count": 50,
   "metadata": {
    "colab": {},
    "colab_type": "code",
    "id": "ReleQWgWueRB"
   },
   "outputs": [],
   "source": [
    "test_data3.drop('tweet_created',axis=1,inplace=True)"
   ]
  },
  {
   "cell_type": "code",
   "execution_count": 51,
   "metadata": {
    "colab": {
     "base_uri": "https://localhost:8080/",
     "height": 474
    },
    "colab_type": "code",
    "id": "csGW7fzSueRH",
    "outputId": "c46f1955-1129-472c-bb21-8582bd9e60a5"
   },
   "outputs": [
    {
     "data": {
      "text/html": [
       "<div>\n",
       "<style scoped>\n",
       "    .dataframe tbody tr th:only-of-type {\n",
       "        vertical-align: middle;\n",
       "    }\n",
       "\n",
       "    .dataframe tbody tr th {\n",
       "        vertical-align: top;\n",
       "    }\n",
       "\n",
       "    .dataframe thead th {\n",
       "        text-align: right;\n",
       "    }\n",
       "</style>\n",
       "<table border=\"1\" class=\"dataframe\">\n",
       "  <thead>\n",
       "    <tr style=\"text-align: right;\">\n",
       "      <th></th>\n",
       "      <th>airline_sentiment</th>\n",
       "      <th>airline</th>\n",
       "      <th>name</th>\n",
       "      <th>retweet_count</th>\n",
       "      <th>text</th>\n",
       "      <th>American</th>\n",
       "      <th>Delta</th>\n",
       "      <th>Southwest</th>\n",
       "      <th>US Airways</th>\n",
       "      <th>United</th>\n",
       "      <th>...</th>\n",
       "      <th>MeeestarCoke</th>\n",
       "      <th>ThatJasonEaton</th>\n",
       "      <th>_mhertz</th>\n",
       "      <th>flemmingerin</th>\n",
       "      <th>kbosspotter</th>\n",
       "      <th>name_other</th>\n",
       "      <th>otisday</th>\n",
       "      <th>thomashoward88</th>\n",
       "      <th>throthra</th>\n",
       "      <th>weezerandburnie</th>\n",
       "    </tr>\n",
       "  </thead>\n",
       "  <tbody>\n",
       "    <tr>\n",
       "      <td>0</td>\n",
       "      <td>negative</td>\n",
       "      <td>Southwest</td>\n",
       "      <td>name_other</td>\n",
       "      <td>0</td>\n",
       "      <td>@SouthwestAir I am scheduled for the morning, ...</td>\n",
       "      <td>0</td>\n",
       "      <td>0</td>\n",
       "      <td>1</td>\n",
       "      <td>0</td>\n",
       "      <td>0</td>\n",
       "      <td>...</td>\n",
       "      <td>0</td>\n",
       "      <td>0</td>\n",
       "      <td>0</td>\n",
       "      <td>0</td>\n",
       "      <td>0</td>\n",
       "      <td>1</td>\n",
       "      <td>0</td>\n",
       "      <td>0</td>\n",
       "      <td>0</td>\n",
       "      <td>0</td>\n",
       "    </tr>\n",
       "    <tr>\n",
       "      <td>1</td>\n",
       "      <td>positive</td>\n",
       "      <td>Southwest</td>\n",
       "      <td>name_other</td>\n",
       "      <td>0</td>\n",
       "      <td>@SouthwestAir seeing your workers time in and ...</td>\n",
       "      <td>0</td>\n",
       "      <td>0</td>\n",
       "      <td>1</td>\n",
       "      <td>0</td>\n",
       "      <td>0</td>\n",
       "      <td>...</td>\n",
       "      <td>0</td>\n",
       "      <td>0</td>\n",
       "      <td>0</td>\n",
       "      <td>0</td>\n",
       "      <td>0</td>\n",
       "      <td>1</td>\n",
       "      <td>0</td>\n",
       "      <td>0</td>\n",
       "      <td>0</td>\n",
       "      <td>0</td>\n",
       "    </tr>\n",
       "    <tr>\n",
       "      <td>2</td>\n",
       "      <td>positive</td>\n",
       "      <td>United</td>\n",
       "      <td>name_other</td>\n",
       "      <td>0</td>\n",
       "      <td>@united Flew ORD to Miami and back and  had gr...</td>\n",
       "      <td>0</td>\n",
       "      <td>0</td>\n",
       "      <td>0</td>\n",
       "      <td>0</td>\n",
       "      <td>1</td>\n",
       "      <td>...</td>\n",
       "      <td>0</td>\n",
       "      <td>0</td>\n",
       "      <td>0</td>\n",
       "      <td>0</td>\n",
       "      <td>0</td>\n",
       "      <td>1</td>\n",
       "      <td>0</td>\n",
       "      <td>0</td>\n",
       "      <td>0</td>\n",
       "      <td>0</td>\n",
       "    </tr>\n",
       "    <tr>\n",
       "      <td>3</td>\n",
       "      <td>negative</td>\n",
       "      <td>Southwest</td>\n",
       "      <td>name_other</td>\n",
       "      <td>0</td>\n",
       "      <td>@SouthwestAir @dultch97 that's horse radish 😤🐴</td>\n",
       "      <td>0</td>\n",
       "      <td>0</td>\n",
       "      <td>1</td>\n",
       "      <td>0</td>\n",
       "      <td>0</td>\n",
       "      <td>...</td>\n",
       "      <td>0</td>\n",
       "      <td>0</td>\n",
       "      <td>0</td>\n",
       "      <td>0</td>\n",
       "      <td>0</td>\n",
       "      <td>1</td>\n",
       "      <td>0</td>\n",
       "      <td>0</td>\n",
       "      <td>0</td>\n",
       "      <td>0</td>\n",
       "    </tr>\n",
       "    <tr>\n",
       "      <td>4</td>\n",
       "      <td>negative</td>\n",
       "      <td>United</td>\n",
       "      <td>name_other</td>\n",
       "      <td>0</td>\n",
       "      <td>@united so our flight into ORD was delayed bec...</td>\n",
       "      <td>0</td>\n",
       "      <td>0</td>\n",
       "      <td>0</td>\n",
       "      <td>0</td>\n",
       "      <td>1</td>\n",
       "      <td>...</td>\n",
       "      <td>0</td>\n",
       "      <td>0</td>\n",
       "      <td>0</td>\n",
       "      <td>0</td>\n",
       "      <td>0</td>\n",
       "      <td>1</td>\n",
       "      <td>0</td>\n",
       "      <td>0</td>\n",
       "      <td>0</td>\n",
       "      <td>0</td>\n",
       "    </tr>\n",
       "  </tbody>\n",
       "</table>\n",
       "<p>5 rows × 24 columns</p>\n",
       "</div>"
      ],
      "text/plain": [
       "  airline_sentiment    airline        name  retweet_count  \\\n",
       "0          negative  Southwest  name_other              0   \n",
       "1          positive  Southwest  name_other              0   \n",
       "2          positive     United  name_other              0   \n",
       "3          negative  Southwest  name_other              0   \n",
       "4          negative     United  name_other              0   \n",
       "\n",
       "                                                text  American  Delta  \\\n",
       "0  @SouthwestAir I am scheduled for the morning, ...         0      0   \n",
       "1  @SouthwestAir seeing your workers time in and ...         0      0   \n",
       "2  @united Flew ORD to Miami and back and  had gr...         0      0   \n",
       "3     @SouthwestAir @dultch97 that's horse radish 😤🐴         0      0   \n",
       "4  @united so our flight into ORD was delayed bec...         0      0   \n",
       "\n",
       "   Southwest  US Airways  United  ...  MeeestarCoke  ThatJasonEaton  _mhertz  \\\n",
       "0          1           0       0  ...             0               0        0   \n",
       "1          1           0       0  ...             0               0        0   \n",
       "2          0           0       1  ...             0               0        0   \n",
       "3          1           0       0  ...             0               0        0   \n",
       "4          0           0       1  ...             0               0        0   \n",
       "\n",
       "   flemmingerin  kbosspotter  name_other  otisday  thomashoward88  throthra  \\\n",
       "0             0            0           1        0               0         0   \n",
       "1             0            0           1        0               0         0   \n",
       "2             0            0           1        0               0         0   \n",
       "3             0            0           1        0               0         0   \n",
       "4             0            0           1        0               0         0   \n",
       "\n",
       "   weezerandburnie  \n",
       "0                0  \n",
       "1                0  \n",
       "2                0  \n",
       "3                0  \n",
       "4                0  \n",
       "\n",
       "[5 rows x 24 columns]"
      ]
     },
     "execution_count": 51,
     "metadata": {},
     "output_type": "execute_result"
    }
   ],
   "source": [
    "train_data3.head()"
   ]
  },
  {
   "cell_type": "code",
   "execution_count": 52,
   "metadata": {
    "colab": {},
    "colab_type": "code",
    "id": "5LucHccRueRM"
   },
   "outputs": [],
   "source": [
    "text_train=train_data3['text']\n",
    "text_test=test_data3['text']"
   ]
  },
  {
   "cell_type": "markdown",
   "metadata": {
    "colab_type": "text",
    "id": "kHTGWbB_ueRP"
   },
   "source": [
    "## We'll clean the text seperately and then add it back in the data frame till that time we'll drop it\n"
   ]
  },
  {
   "cell_type": "code",
   "execution_count": 53,
   "metadata": {
    "colab": {},
    "colab_type": "code",
    "id": "qnvqdkrJueRP"
   },
   "outputs": [],
   "source": [
    "train_data3.drop('text',axis=1,inplace=True)\n",
    "test_data3.drop('text',axis=1,inplace=True)"
   ]
  },
  {
   "cell_type": "code",
   "execution_count": 54,
   "metadata": {
    "colab": {},
    "colab_type": "code",
    "id": "Cghrz9AtueRR"
   },
   "outputs": [],
   "source": [
    "from nltk.corpus import stopwords\n",
    "from nltk.tokenize import word_tokenize\n",
    "import string\n",
    "import nltk\n",
    "from nltk import pos_tag"
   ]
  },
  {
   "cell_type": "code",
   "execution_count": 56,
   "metadata": {
    "colab": {},
    "colab_type": "code",
    "id": "BooUK_8iueRU"
   },
   "outputs": [],
   "source": [
    "from nltk.stem import WordNetLemmatizer"
   ]
  },
  {
   "cell_type": "code",
   "execution_count": 57,
   "metadata": {
    "colab": {},
    "colab_type": "code",
    "id": "ofJ1ujxbueRW"
   },
   "outputs": [],
   "source": [
    "stop_words=stopwords.words('english')\n",
    "stop_words.extend(string.punctuation)"
   ]
  },
  {
   "cell_type": "code",
   "execution_count": 58,
   "metadata": {
    "colab": {},
    "colab_type": "code",
    "id": "vVKO-2enueRc"
   },
   "outputs": [],
   "source": [
    "from nltk.corpus import wordnet\n",
    "\n",
    "def get_wordnet_pos(treebank_tag):\n",
    "\n",
    "    if treebank_tag.startswith('J'):\n",
    "        return wordnet.ADJ\n",
    "    elif treebank_tag.startswith('V'):\n",
    "        return wordnet.VERB\n",
    "    elif treebank_tag.startswith('N'):\n",
    "        return wordnet.NOUN\n",
    "    elif treebank_tag.startswith('R'):\n",
    "        return wordnet.ADV\n",
    "    else:\n",
    "        return wordnet.NOUN"
   ]
  },
  {
   "cell_type": "code",
   "execution_count": 59,
   "metadata": {
    "colab": {},
    "colab_type": "code",
    "id": "1N5MOfOkueRl"
   },
   "outputs": [],
   "source": [
    "lemmatizer=WordNetLemmatizer()\n",
    "\n",
    "def clean_data(text):\n",
    "    words=word_tokenize(text.lower())\n",
    "    clean_words=[]\n",
    "    for word in words:\n",
    "        if (word not in stop_words) and (word.isdigit()==False):\n",
    "            curr_word_pos=pos_tag([word])\n",
    "            simple_pos_tag=get_wordnet_pos(curr_word_pos[0][1])\n",
    "            clean_words.append(lemmatizer.lemmatize(word,simple_pos_tag))\n",
    "    return clean_words"
   ]
  },
  {
   "cell_type": "code",
   "execution_count": 64,
   "metadata": {
    "colab": {},
    "colab_type": "code",
    "id": "jAfJNmp9ueRs"
   },
   "outputs": [],
   "source": [
    "clean_text_train=[clean_data(current_text) for current_text in text_train]"
   ]
  },
  {
   "cell_type": "code",
   "execution_count": 65,
   "metadata": {
    "colab": {},
    "colab_type": "code",
    "id": "wFW5zcPGueRw"
   },
   "outputs": [],
   "source": [
    "clean_text_test=[clean_data(current_text) for current_text in text_test]"
   ]
  },
  {
   "cell_type": "code",
   "execution_count": 66,
   "metadata": {
    "colab": {},
    "colab_type": "code",
    "id": "hYdUZdCzueRz"
   },
   "outputs": [],
   "source": [
    "clean_text_train_strings=[\" \".join(word_list) for word_list in clean_text_train]"
   ]
  },
  {
   "cell_type": "code",
   "execution_count": 67,
   "metadata": {
    "colab": {},
    "colab_type": "code",
    "id": "6LTrq3YlueR2"
   },
   "outputs": [],
   "source": [
    "clean_text_test_strings=[\" \".join(word_list) for word_list in clean_text_test]"
   ]
  },
  {
   "cell_type": "markdown",
   "metadata": {
    "colab_type": "text",
    "id": "CK2eDaVIjEOL"
   },
   "source": [
    "## Converting these words into features to be added in the dataframe using count vectoriser\n"
   ]
  },
  {
   "cell_type": "code",
   "execution_count": 251,
   "metadata": {
    "colab": {},
    "colab_type": "code",
    "id": "72BVZGwBueR6"
   },
   "outputs": [],
   "source": [
    "from sklearn.feature_extraction.text import CountVectorizer,TfidfVectorizer"
   ]
  },
  {
   "cell_type": "code",
   "execution_count": 226,
   "metadata": {
    "colab": {},
    "colab_type": "code",
    "id": "LjbbT9UTueR8"
   },
   "outputs": [],
   "source": [
    "count_vec=CountVectorizer(max_features=4000,ngram_range=(1,2)) # ngrams taken as both 1 and 2 so that we can use two letter words as features as well\n",
    "train_text_sparse_matrix=count_vec.fit_transform(clean_text_train_strings)"
   ]
  },
  {
   "cell_type": "code",
   "execution_count": 319,
   "metadata": {},
   "outputs": [],
   "source": [
    "tf_idf_vec=TfidfVectorizer(max_features=5000,ngram_range=(1,2))\n",
    "train_text_sparse_matrix_tfidf=tf_idf_vec.fit_transform(clean_text_train_strings)"
   ]
  },
  {
   "cell_type": "code",
   "execution_count": 320,
   "metadata": {
    "colab": {
     "base_uri": "https://localhost:8080/",
     "height": 1000
    },
    "colab_type": "code",
    "id": "IJ2XbyFXueR_",
    "outputId": "b62a5703-a0b7-40f2-e4bb-0564227508a0"
   },
   "outputs": [
    {
     "data": {
      "text/plain": [
       "['00',\n",
       " '000',\n",
       " '000 mile',\n",
       " '03',\n",
       " '05',\n",
       " '10',\n",
       " '10 000',\n",
       " '10 30',\n",
       " '100',\n",
       " '10pm',\n",
       " '11',\n",
       " '11 30',\n",
       " '12',\n",
       " '14',\n",
       " '15',\n",
       " '15th',\n",
       " '16',\n",
       " '17',\n",
       " '19',\n",
       " '1hr',\n",
       " '1k',\n",
       " '1st',\n",
       " '1st class',\n",
       " '1st flight',\n",
       " '1st time',\n",
       " '20',\n",
       " '2015',\n",
       " '20min',\n",
       " '21',\n",
       " '22',\n",
       " '23',\n",
       " '24',\n",
       " '24hrs',\n",
       " '24th',\n",
       " '25',\n",
       " '26',\n",
       " '27',\n",
       " '28',\n",
       " '2day',\n",
       " '2days',\n",
       " '2hrs',\n",
       " '2nd',\n",
       " '2nd time',\n",
       " '2pm',\n",
       " '2x',\n",
       " '30',\n",
       " '30 flight',\n",
       " '30am',\n",
       " '30min',\n",
       " '30pm',\n",
       " '35',\n",
       " '3am',\n",
       " '3hrs',\n",
       " '3rd',\n",
       " '3rd time',\n",
       " '40',\n",
       " '40pm',\n",
       " '45',\n",
       " '45min',\n",
       " '4pm',\n",
       " '4th',\n",
       " '50',\n",
       " '50pm',\n",
       " '55',\n",
       " '5hrs',\n",
       " '5th',\n",
       " '60',\n",
       " '6am',\n",
       " '6pm',\n",
       " '728',\n",
       " '75',\n",
       " '7am',\n",
       " '7th',\n",
       " '80',\n",
       " '800',\n",
       " '8am',\n",
       " '8pm',\n",
       " '90',\n",
       " '9pm',\n",
       " 'a320',\n",
       " 'aa',\n",
       " 'aa amp',\n",
       " 'aa flight',\n",
       " 'aadvantage',\n",
       " 'abc',\n",
       " 'ability',\n",
       " 'able',\n",
       " 'able get',\n",
       " 'absolute',\n",
       " 'absolutely',\n",
       " 'absurd',\n",
       " 'abt',\n",
       " 'accept',\n",
       " 'acceptable',\n",
       " 'accepted',\n",
       " 'access',\n",
       " 'accident',\n",
       " 'accommodate',\n",
       " 'accommodation',\n",
       " 'accord',\n",
       " 'account',\n",
       " 'acct',\n",
       " 'across',\n",
       " 'act',\n",
       " 'action',\n",
       " 'actual',\n",
       " 'actually',\n",
       " 'actually get',\n",
       " 'ad',\n",
       " 'add',\n",
       " 'add flight',\n",
       " 'additional',\n",
       " 'address',\n",
       " 'admiral',\n",
       " 'admiral club',\n",
       " 'admit',\n",
       " 'advance',\n",
       " 'advantage',\n",
       " 'advice',\n",
       " 'advise',\n",
       " 'advisory',\n",
       " 'affected',\n",
       " 'afford',\n",
       " 'afternoon',\n",
       " 'again',\n",
       " 'age',\n",
       " 'agency',\n",
       " 'agent',\n",
       " 'agent busy',\n",
       " 'agent gate',\n",
       " 'agent help',\n",
       " 'agent phone',\n",
       " 'agent say',\n",
       " 'agent work',\n",
       " 'ago',\n",
       " 'ago still',\n",
       " 'agree',\n",
       " 'ah',\n",
       " 'ahead',\n",
       " 'ahold',\n",
       " 'air',\n",
       " 'airbus',\n",
       " 'aircraft',\n",
       " 'airfare',\n",
       " 'airline',\n",
       " 'airline cancel',\n",
       " 'airline ever',\n",
       " 'airline flight',\n",
       " 'airline get',\n",
       " 'airline suck',\n",
       " 'airline ve',\n",
       " 'airline world',\n",
       " 'airplane',\n",
       " 'airport',\n",
       " 'airport flight',\n",
       " 'airport hour',\n",
       " 'airport http',\n",
       " 'airport wait',\n",
       " 'airway',\n",
       " 'airway corporation',\n",
       " 'albany',\n",
       " 'alert',\n",
       " 'all',\n",
       " 'alliance',\n",
       " 'allow',\n",
       " 'almost',\n",
       " 'almost hour',\n",
       " 'almost hr',\n",
       " 'alone',\n",
       " 'along',\n",
       " 'already',\n",
       " 'already cancel',\n",
       " 'already delayed',\n",
       " 'alright',\n",
       " 'also',\n",
       " 'alternate',\n",
       " 'although',\n",
       " 'always',\n",
       " 'am',\n",
       " 'amaze',\n",
       " 'amaze customer',\n",
       " 'america',\n",
       " 'american',\n",
       " 'american air',\n",
       " 'american airline',\n",
       " 'american http',\n",
       " 'americanair',\n",
       " 'americanair aa',\n",
       " 'americanair airport',\n",
       " 'americanair already',\n",
       " 'americanair also',\n",
       " 'americanair always',\n",
       " 'americanair appreciate',\n",
       " 'americanair ask',\n",
       " 'americanair awesome',\n",
       " 'americanair bad',\n",
       " 'americanair bag',\n",
       " 'americanair best',\n",
       " 'americanair book',\n",
       " 'americanair ca',\n",
       " 'americanair call',\n",
       " 'americanair cancel',\n",
       " 'americanair change',\n",
       " 'americanair check',\n",
       " 'americanair could',\n",
       " 'americanair customer',\n",
       " 'americanair delay',\n",
       " 'americanair dfwairport',\n",
       " 'americanair dm',\n",
       " 'americanair do',\n",
       " 'americanair even',\n",
       " 'americanair finally',\n",
       " 'americanair first',\n",
       " 'americanair flight',\n",
       " 'americanair flt',\n",
       " 'americanair fly',\n",
       " 'americanair friend',\n",
       " 'americanair gate',\n",
       " 'americanair get',\n",
       " 'americanair give',\n",
       " 'americanair go',\n",
       " 'americanair great',\n",
       " 'americanair guy',\n",
       " 'americanair help',\n",
       " 'americanair hey',\n",
       " 'americanair hi',\n",
       " 'americanair hold',\n",
       " 'americanair hope',\n",
       " 'americanair hour',\n",
       " 'americanair know',\n",
       " 'americanair last',\n",
       " 'americanair late',\n",
       " 'americanair let',\n",
       " 'americanair like',\n",
       " 'americanair ll',\n",
       " 'americanair look',\n",
       " 'americanair lose',\n",
       " 'americanair love',\n",
       " 'americanair make',\n",
       " 'americanair might',\n",
       " 'americanair need',\n",
       " 'americanair new',\n",
       " 'americanair nice',\n",
       " 'americanair oh',\n",
       " 'americanair ok',\n",
       " 'americanair one',\n",
       " 'americanair phone',\n",
       " 'americanair plane',\n",
       " 'americanair please',\n",
       " 'americanair re',\n",
       " 'americanair really',\n",
       " 'americanair rebooked',\n",
       " 'americanair response',\n",
       " 'americanair say',\n",
       " 'americanair see',\n",
       " 'americanair sit',\n",
       " 'americanair status',\n",
       " 'americanair still',\n",
       " 'americanair stuck',\n",
       " 'americanair suppose',\n",
       " 'americanair sure',\n",
       " 'americanair take',\n",
       " 'americanair tell',\n",
       " 'americanair thank',\n",
       " 'americanair thanks',\n",
       " 'americanair think',\n",
       " 'americanair thx',\n",
       " 'americanair ticket',\n",
       " 'americanair told',\n",
       " 'americanair travel',\n",
       " 'americanair try',\n",
       " 'americanair understand',\n",
       " 'americanair united',\n",
       " 'americanair usairways',\n",
       " 'americanair ve',\n",
       " 'americanair wait',\n",
       " 'americanair want',\n",
       " 'americanair way',\n",
       " 'americanair well',\n",
       " 'americanair wo',\n",
       " 'americanair worry',\n",
       " 'americanair would',\n",
       " 'americanair yep',\n",
       " 'americanair yes',\n",
       " 'americanairlines',\n",
       " 'among',\n",
       " 'amount',\n",
       " 'amp',\n",
       " 'amp ca',\n",
       " 'amp gate',\n",
       " 'amp get',\n",
       " 'amp give',\n",
       " 'amp hold',\n",
       " 'amp one',\n",
       " 'amp still',\n",
       " 'amp told',\n",
       " 'amp want',\n",
       " 'and',\n",
       " 'andrew',\n",
       " 'angry',\n",
       " 'anniversary',\n",
       " 'announce',\n",
       " 'announcement',\n",
       " 'annoy',\n",
       " 'annoyed',\n",
       " 'annricord',\n",
       " 'another',\n",
       " 'another airline',\n",
       " 'another day',\n",
       " 'another flight',\n",
       " 'another great',\n",
       " 'another hour',\n",
       " 'another plane',\n",
       " 'another reason',\n",
       " 'answer',\n",
       " 'answer call',\n",
       " 'answer phone',\n",
       " 'answer question',\n",
       " 'anticipate',\n",
       " 'anymore',\n",
       " 'anyone',\n",
       " 'anyone help',\n",
       " 'anyone phone',\n",
       " 'anything',\n",
       " 'anything else',\n",
       " 'anytime',\n",
       " 'anyway',\n",
       " 'anywhere',\n",
       " 'apart',\n",
       " 'apologize',\n",
       " 'apology',\n",
       " 'app',\n",
       " 'app say',\n",
       " 'apparently',\n",
       " 'appear',\n",
       " 'appease',\n",
       " 'appease passenger',\n",
       " 'apple',\n",
       " 'application',\n",
       " 'apply',\n",
       " 'appreciate',\n",
       " 'appreciate help',\n",
       " 'appreciate response',\n",
       " 'approach',\n",
       " 'approve',\n",
       " 'april',\n",
       " 'area',\n",
       " 'argue',\n",
       " 'around',\n",
       " 'arrange',\n",
       " 'arrangement',\n",
       " 'arrival',\n",
       " 'arrive',\n",
       " 'arrive hour',\n",
       " 'arrive late',\n",
       " 'arrives',\n",
       " 'article',\n",
       " 'as',\n",
       " 'asap',\n",
       " 'ashamed',\n",
       " 'ask',\n",
       " 'assault',\n",
       " 'assign',\n",
       " 'assignment',\n",
       " 'assist',\n",
       " 'assistance',\n",
       " 'assume',\n",
       " 'assure',\n",
       " 'atl',\n",
       " 'atlanta',\n",
       " 'atlantic',\n",
       " 'atrocious',\n",
       " 'attempt',\n",
       " 'attend',\n",
       " 'attendant',\n",
       " 'attention',\n",
       " 'attitude',\n",
       " 'au',\n",
       " 'august',\n",
       " 'austin',\n",
       " 'australia',\n",
       " 'auto',\n",
       " 'auto rebooked',\n",
       " 'automate',\n",
       " 'automate system',\n",
       " 'automatically',\n",
       " 'avail',\n",
       " 'availability',\n",
       " 'available',\n",
       " 'available flight',\n",
       " 'avgeek',\n",
       " 'avgeek http',\n",
       " 'aviation',\n",
       " 'aviv',\n",
       " 'avoid',\n",
       " 'await',\n",
       " 'award',\n",
       " 'award ticket',\n",
       " 'award travel',\n",
       " 'aware',\n",
       " 'away',\n",
       " 'awesome',\n",
       " 'awesome flight',\n",
       " 'awesome thanks',\n",
       " 'awful',\n",
       " 'b4',\n",
       " 'b737',\n",
       " 'ba',\n",
       " 'baby',\n",
       " 'back',\n",
       " 'back feature',\n",
       " 'back forth',\n",
       " 'back gate',\n",
       " 'back hold',\n",
       " 'back home',\n",
       " 'back late',\n",
       " 'bad',\n",
       " 'bad airline',\n",
       " 'bad customer',\n",
       " 'bad day',\n",
       " 'bad ever',\n",
       " 'bad experience',\n",
       " 'bad flight',\n",
       " 'bad fly',\n",
       " 'bad service',\n",
       " 'bad thing',\n",
       " 'bad weather',\n",
       " 'badcustomerservice',\n",
       " 'badge',\n",
       " 'badly',\n",
       " 'badservice',\n",
       " 'bae',\n",
       " 'bag',\n",
       " 'bag amp',\n",
       " 'bag arrive',\n",
       " 'bag back',\n",
       " 'bag check',\n",
       " 'bag come',\n",
       " 'bag deliver',\n",
       " 'bag flight',\n",
       " 'bag go',\n",
       " 'bag lose',\n",
       " 'bag make',\n",
       " 'bag miss',\n",
       " 'bag onto',\n",
       " 'bag still',\n",
       " 'bag wait',\n",
       " 'bag would',\n",
       " 'bag yet',\n",
       " 'baggage',\n",
       " 'baggage claim',\n",
       " 'baggage fee',\n",
       " 'baggage load',\n",
       " 'baggage lose',\n",
       " 'baggage office',\n",
       " 'baggage service',\n",
       " 'balance',\n",
       " 'ball',\n",
       " 'baltimore',\n",
       " 'band',\n",
       " 'bank',\n",
       " 'bar',\n",
       " 'barbados',\n",
       " 'barely',\n",
       " 'base',\n",
       " 'basic',\n",
       " 'basically',\n",
       " 'bathroom',\n",
       " 'battle',\n",
       " 'battle appease',\n",
       " 'bc',\n",
       " 'bday',\n",
       " 'bdl',\n",
       " 'beach',\n",
       " 'beat',\n",
       " 'beautiful',\n",
       " 'beauty',\n",
       " 'become',\n",
       " 'beer',\n",
       " 'begin',\n",
       " 'behind',\n",
       " 'believe',\n",
       " 'belt',\n",
       " 'benefit',\n",
       " 'best',\n",
       " 'best airline',\n",
       " 'best flight',\n",
       " 'best friend',\n",
       " 'bet',\n",
       " 'beyond',\n",
       " 'big',\n",
       " 'big thanks',\n",
       " 'bill',\n",
       " 'bin',\n",
       " 'bird',\n",
       " 'birmingham',\n",
       " 'birthday',\n",
       " 'bit',\n",
       " 'biz',\n",
       " 'black',\n",
       " 'blah',\n",
       " 'blame',\n",
       " 'block',\n",
       " 'blog',\n",
       " 'blue',\n",
       " 'bluemanity',\n",
       " 'bna',\n",
       " 'board',\n",
       " 'board flight',\n",
       " 'board plane',\n",
       " 'boarding',\n",
       " 'boarding flight',\n",
       " 'boarding pas',\n",
       " 'boarding pass',\n",
       " 'boarding position',\n",
       " 'boarding time',\n",
       " 'bonus',\n",
       " 'book',\n",
       " 'book another',\n",
       " 'book award',\n",
       " 'book flight',\n",
       " 'book one',\n",
       " 'book online',\n",
       " 'book problem',\n",
       " 'book seat',\n",
       " 'book ticket',\n",
       " 'book via',\n",
       " 'booked',\n",
       " 'bos',\n",
       " 'bos gt',\n",
       " 'boston',\n",
       " 'bostonlogan',\n",
       " 'bot',\n",
       " 'bother',\n",
       " 'bottle',\n",
       " 'bought',\n",
       " 'bought ticket',\n",
       " 'bounce',\n",
       " 'boy',\n",
       " 'boyfriend',\n",
       " 'brand',\n",
       " 'brandmance',\n",
       " 'break',\n",
       " 'breakfast',\n",
       " 'bridge',\n",
       " 'bring',\n",
       " 'bring back',\n",
       " 'broke',\n",
       " 'broken',\n",
       " 'brother',\n",
       " 'brought',\n",
       " 'brutal',\n",
       " 'btw',\n",
       " 'buf',\n",
       " 'buffalo',\n",
       " 'bullshit',\n",
       " 'bummer',\n",
       " 'bumped',\n",
       " 'bumping',\n",
       " 'bunch',\n",
       " 'bus',\n",
       " 'business',\n",
       " 'business class',\n",
       " 'business traveler',\n",
       " 'busy',\n",
       " 'button',\n",
       " 'buy',\n",
       " 'buying',\n",
       " 'bwi',\n",
       " 'ca',\n",
       " 'ca afford',\n",
       " 'ca believe',\n",
       " 'ca book',\n",
       " 'ca change',\n",
       " 'ca check',\n",
       " 'ca dm',\n",
       " 'ca even',\n",
       " 'ca find',\n",
       " 'ca fly',\n",
       " 'ca get',\n",
       " 'ca help',\n",
       " 'ca online',\n",
       " 'ca reach',\n",
       " 'ca rebook',\n",
       " 'ca seem',\n",
       " 'ca use',\n",
       " 'ca wait',\n",
       " 'cab',\n",
       " 'cabin',\n",
       " 'cake',\n",
       " 'cali',\n",
       " 'california',\n",
       " 'call',\n",
       " 'call 800',\n",
       " 'call amp',\n",
       " 'call answer',\n",
       " 'call back',\n",
       " 'call center',\n",
       " 'call customer',\n",
       " 'call day',\n",
       " 'call email',\n",
       " 'call flight',\n",
       " 'call get',\n",
       " 'call help',\n",
       " 'call hour',\n",
       " 'call number',\n",
       " 'call reservation',\n",
       " 'call say',\n",
       " 'call speak',\n",
       " 'call time',\n",
       " 'call united',\n",
       " 'call volume',\n",
       " 'callback',\n",
       " 'caller',\n",
       " 'camera',\n",
       " 'can',\n",
       " 'can response',\n",
       " 'canada',\n",
       " 'canadian',\n",
       " 'cancel',\n",
       " 'cancel flight',\n",
       " 'cancel flightation',\n",
       " 'cancel flightations',\n",
       " 'cancel flightlation',\n",
       " 'cancel flightlations',\n",
       " 'cancel flightled',\n",
       " 'cancel flightling',\n",
       " 'cancun',\n",
       " 'cant',\n",
       " 'cant get',\n",
       " 'captain',\n",
       " 'car',\n",
       " 'car seat',\n",
       " 'card',\n",
       " 'card holder',\n",
       " 'care',\n",
       " 'care customer',\n",
       " 'care less',\n",
       " 'carousel',\n",
       " 'carrier',\n",
       " 'carrieunderwood',\n",
       " 'carry',\n",
       " 'carry on',\n",
       " 'carryon',\n",
       " 'cart',\n",
       " 'case',\n",
       " 'case id',\n",
       " 'cash',\n",
       " 'catch',\n",
       " 'catch flight',\n",
       " 'catering',\n",
       " 'cause',\n",
       " 'cause miss',\n",
       " 'cc',\n",
       " 'cell',\n",
       " 'center',\n",
       " 'ceo',\n",
       " 'ceo battle',\n",
       " 'certain',\n",
       " 'certainly',\n",
       " 'certificate',\n",
       " 'chair',\n",
       " 'chairman',\n",
       " 'challenge',\n",
       " 'chance',\n",
       " 'chance get',\n",
       " 'change',\n",
       " 'change fee',\n",
       " 'change flight',\n",
       " 'change make',\n",
       " 'change name',\n",
       " 'change online',\n",
       " 'change reservation',\n",
       " 'change ticket',\n",
       " 'channel',\n",
       " 'chaos',\n",
       " 'character',\n",
       " 'charge',\n",
       " 'charleston',\n",
       " 'charlotte',\n",
       " 'chase',\n",
       " 'chat',\n",
       " 'cheap',\n",
       " 'cheaper',\n",
       " 'check',\n",
       " 'check bag',\n",
       " 'check flight',\n",
       " 'check in',\n",
       " 'check online',\n",
       " 'checked',\n",
       " 'checked bag',\n",
       " 'checked baggage',\n",
       " 'checkin',\n",
       " 'cheer',\n",
       " 'chi',\n",
       " 'chicago',\n",
       " 'chicken',\n",
       " 'child',\n",
       " 'choice',\n",
       " 'choose',\n",
       " 'choose seat',\n",
       " 'chrome',\n",
       " 'city',\n",
       " 'city http',\n",
       " 'claim',\n",
       " 'class',\n",
       " 'class seat',\n",
       " 'cle',\n",
       " 'clean',\n",
       " 'clear',\n",
       " 'clearly',\n",
       " 'cleveland',\n",
       " 'click',\n",
       " 'client',\n",
       " 'close',\n",
       " 'clothes',\n",
       " 'clt',\n",
       " 'club',\n",
       " 'clue',\n",
       " 'cmh',\n",
       " 'cnn',\n",
       " 'co',\n",
       " 'coach',\n",
       " 'coast',\n",
       " 'coat',\n",
       " 'code',\n",
       " 'coffee',\n",
       " 'cold',\n",
       " 'college',\n",
       " 'color',\n",
       " 'columbus',\n",
       " 'com',\n",
       " 'combine',\n",
       " 'come',\n",
       " 'come back',\n",
       " 'comfortable',\n",
       " 'comment',\n",
       " 'commercial',\n",
       " 'common',\n",
       " 'communicate',\n",
       " 'communication',\n",
       " 'comp',\n",
       " 'companion',\n",
       " 'companion pas',\n",
       " 'company',\n",
       " 'compare',\n",
       " 'compassion',\n",
       " 'compensate',\n",
       " 'compensation',\n",
       " 'complain',\n",
       " 'complaint',\n",
       " 'complete',\n",
       " 'completely',\n",
       " 'completely unacceptable',\n",
       " 'compliment',\n",
       " 'complimentary',\n",
       " 'computer',\n",
       " 'computer system',\n",
       " 'concern',\n",
       " 'concerned',\n",
       " 'concourse',\n",
       " 'condition',\n",
       " 'conf',\n",
       " 'conference',\n",
       " 'confirm',\n",
       " 'confirmation',\n",
       " 'confirmation code',\n",
       " 'confirmation number',\n",
       " 'confuse',\n",
       " 'confusion',\n",
       " 'congrats',\n",
       " 'connect',\n",
       " 'connect flight',\n",
       " 'connection',\n",
       " 'connection due',\n",
       " 'consider',\n",
       " 'consistent',\n",
       " 'consistently',\n",
       " 'constant',\n",
       " 'cont',\n",
       " 'contact',\n",
       " 'contest',\n",
       " 'continental',\n",
       " 'continue',\n",
       " 'contract',\n",
       " 'control',\n",
       " 'conversation',\n",
       " 'cool',\n",
       " 'copy',\n",
       " 'corporate',\n",
       " 'corporation',\n",
       " 'correct',\n",
       " 'correctly',\n",
       " 'cost',\n",
       " 'costa',\n",
       " 'costa rica',\n",
       " 'costumer',\n",
       " 'could',\n",
       " 'could check',\n",
       " 'could get',\n",
       " 'could help',\n",
       " 'could make',\n",
       " 'could please',\n",
       " 'could use',\n",
       " 'couldnt',\n",
       " 'count',\n",
       " 'counter',\n",
       " 'counting',\n",
       " 'country',\n",
       " 'country flight',\n",
       " 'couple',\n",
       " 'coupon',\n",
       " 'course',\n",
       " 'courteous',\n",
       " 'courtesy',\n",
       " 'cousin',\n",
       " 'cover',\n",
       " 'cowboycerrone',\n",
       " 'crap',\n",
       " 'crappy',\n",
       " 'crash',\n",
       " 'crashed',\n",
       " 'crazy',\n",
       " 'create',\n",
       " 'credit',\n",
       " 'credit card',\n",
       " 'crew',\n",
       " 'crew flight',\n",
       " 'crew member',\n",
       " 'cross',\n",
       " 'cross country',\n",
       " 'crowd',\n",
       " 'cry',\n",
       " 'csr',\n",
       " 'ctl',\n",
       " 'cuba',\n",
       " 'cun',\n",
       " 'cup',\n",
       " 'curious',\n",
       " 'current',\n",
       " 'currently',\n",
       " 'cust',\n",
       " 'cust service',\n",
       " 'cust svc',\n",
       " 'custom',\n",
       " 'customer',\n",
       " 'customer care',\n",
       " 'customer experience',\n",
       " 'customer relation',\n",
       " 'customer service',\n",
       " 'customer support',\n",
       " 'customer svc',\n",
       " 'customerservice',\n",
       " 'cut',\n",
       " 'cuz',\n",
       " 'cvg',\n",
       " 'cx',\n",
       " 'cxl',\n",
       " 'dad',\n",
       " 'daily',\n",
       " 'dal',\n",
       " 'dallas',\n",
       " 'dallas austin',\n",
       " 'damage',\n",
       " 'damn',\n",
       " 'dance',\n",
       " 'date',\n",
       " 'daughter',\n",
       " 'david',\n",
       " 'day',\n",
       " 'day ago',\n",
       " 'day amp',\n",
       " 'day flight',\n",
       " 'day fly',\n",
       " 'day get',\n",
       " 'day go',\n",
       " 'day late',\n",
       " 'day trip',\n",
       " 'day try',\n",
       " 'day vacation',\n",
       " 'day work',\n",
       " 'dc',\n",
       " 'dca',\n",
       " 'de',\n",
       " 'de ice',\n",
       " 'dead',\n",
       " 'deal',\n",
       " 'deal may',\n",
       " 'dealt',\n",
       " 'dear',\n",
       " 'death',\n",
       " 'december',\n",
       " 'decent',\n",
       " 'decide',\n",
       " 'decision',\n",
       " 'define',\n",
       " 'definitely',\n",
       " 'degree',\n",
       " 'delay',\n",
       " 'delay cancel',\n",
       " 'delay due',\n",
       " 'delay flight',\n",
       " 'delay hour',\n",
       " 'delayed',\n",
       " 'delayed bag',\n",
       " 'delayed cancel',\n",
       " 'delayed due',\n",
       " 'delayed flight',\n",
       " 'delayed hour',\n",
       " 'delayed hr',\n",
       " 'delayed miss',\n",
       " 'delayed time',\n",
       " 'delays',\n",
       " 'delete',\n",
       " 'deliver',\n",
       " 'delivery',\n",
       " 'delta',\n",
       " 'den',\n",
       " 'denver',\n",
       " 'deny',\n",
       " 'depart',\n",
       " 'department',\n",
       " 'departs',\n",
       " 'departure',\n",
       " 'departure time',\n",
       " 'deplane',\n",
       " 'dept',\n",
       " 'deserve',\n",
       " 'deserves',\n",
       " 'design',\n",
       " 'desk',\n",
       " 'desktop',\n",
       " 'desperately',\n",
       " 'despite',\n",
       " 'destination',\n",
       " 'destinationdragons',\n",
       " 'detail',\n",
       " 'device',\n",
       " 'dfw',\n",
       " 'dfw cancel',\n",
       " 'dfw tomorrow',\n",
       " 'dfwairport',\n",
       " 'dia',\n",
       " 'didnt',\n",
       " 'die',\n",
       " 'diego',\n",
       " 'diff',\n",
       " 'difference',\n",
       " 'different',\n",
       " 'different flight',\n",
       " 'different thing',\n",
       " 'difficult',\n",
       " 'dinner',\n",
       " 'direct',\n",
       " 'direct flight',\n",
       " 'directly',\n",
       " 'directtv',\n",
       " 'dirty',\n",
       " 'disappear',\n",
       " 'disappoint',\n",
       " 'disappointed',\n",
       " 'disappointed service',\n",
       " 'disappointment',\n",
       " 'disaster',\n",
       " 'disconnect',\n",
       " 'discount',\n",
       " 'discus',\n",
       " 'disgrace',\n",
       " 'disgust',\n",
       " 'disney',\n",
       " 'divert',\n",
       " 'dividend',\n",
       " 'dividend mile',\n",
       " 'dm',\n",
       " 'dm confirmation',\n",
       " 'dm detail',\n",
       " 'dm follow',\n",
       " 'dm info',\n",
       " 'dm please',\n",
       " 'dm sent',\n",
       " 'dmed',\n",
       " 'do',\n",
       " 'doesnt',\n",
       " 'dog',\n",
       " 'dollar',\n",
       " 'domestic',\n",
       " 'domestic flight',\n",
       " 'dont',\n",
       " 'door',\n",
       " 'door close',\n",
       " 'door open',\n",
       " 'double',\n",
       " 'doubt',\n",
       " 'downgrade',\n",
       " 'download',\n",
       " 'dozen',\n",
       " 'dragon',\n",
       " 'draw',\n",
       " 'dream',\n",
       " 'drink',\n",
       " ...]"
      ]
     },
     "execution_count": 320,
     "metadata": {},
     "output_type": "execute_result"
    }
   ],
   "source": [
    "count_vec.get_feature_names()"
   ]
  },
  {
   "cell_type": "code",
   "execution_count": 293,
   "metadata": {},
   "outputs": [
    {
     "data": {
      "text/plain": [
       "3000"
      ]
     },
     "execution_count": 293,
     "metadata": {},
     "output_type": "execute_result"
    }
   ],
   "source": [
    "len(tf_idf_vec.get_feature_names())"
   ]
  },
  {
   "cell_type": "markdown",
   "metadata": {
    "colab_type": "text",
    "id": "cclR4Dq6j7Ja"
   },
   "source": [
    "## Transforming training text into 2d array with features as column names and their counts per documents as feature values"
   ]
  },
  {
   "cell_type": "code",
   "execution_count": 295,
   "metadata": {
    "colab": {},
    "colab_type": "code",
    "id": "SUjGqrfbueSC"
   },
   "outputs": [],
   "source": [
    "test_text_sparse_matrix=count_vec.transform(clean_text_test_strings)"
   ]
  },
  {
   "cell_type": "code",
   "execution_count": 321,
   "metadata": {},
   "outputs": [],
   "source": [
    "test_text_sparse_matrix_tfIdf=tf_idf_vec.transform(clean_text_test_strings)"
   ]
  },
  {
   "cell_type": "code",
   "execution_count": 298,
   "metadata": {},
   "outputs": [
    {
     "data": {
      "text/plain": [
       "(3660, 3000)"
      ]
     },
     "execution_count": 298,
     "metadata": {},
     "output_type": "execute_result"
    }
   ],
   "source": [
    "test_text_sparse_matrix_tfIdf.shape"
   ]
  },
  {
   "cell_type": "code",
   "execution_count": 229,
   "metadata": {
    "colab": {},
    "colab_type": "code",
    "id": "PkEge8ynueSH"
   },
   "outputs": [],
   "source": [
    "# converting the sparse matrix into a dataframe\n",
    "train_data_frame_text = pd.DataFrame.sparse.from_spmatrix(train_text_sparse_matrix,columns=count_vec.get_feature_names())"
   ]
  },
  {
   "cell_type": "code",
   "execution_count": 322,
   "metadata": {},
   "outputs": [],
   "source": [
    "train_data_frame_text_tfIdf=pd.DataFrame.sparse.from_spmatrix(train_text_sparse_matrix_tfidf,columns=tf_idf_vec.get_feature_names())"
   ]
  },
  {
   "cell_type": "code",
   "execution_count": 288,
   "metadata": {
    "colab": {},
    "colab_type": "code",
    "id": "5NMXn6boueSJ"
   },
   "outputs": [],
   "source": [
    "test_data_frame_text = pd.DataFrame.sparse.from_spmatrix(test_text_sparse_matrix,columns=count_vec.get_feature_names())"
   ]
  },
  {
   "cell_type": "code",
   "execution_count": 323,
   "metadata": {},
   "outputs": [],
   "source": [
    "test_data_frame_text_tfIdf=pd.DataFrame.sparse.from_spmatrix(test_text_sparse_matrix_tfIdf,columns=tf_idf_vec.get_feature_names())"
   ]
  },
  {
   "cell_type": "code",
   "execution_count": 301,
   "metadata": {
    "colab": {
     "base_uri": "https://localhost:8080/",
     "height": 32
    },
    "colab_type": "code",
    "id": "6LfrAEZ3ueSM",
    "outputId": "a648ab96-3fa2-4cc5-d6b7-f3010f07f1c4"
   },
   "outputs": [
    {
     "data": {
      "text/plain": [
       "(3660, 4000)"
      ]
     },
     "execution_count": 301,
     "metadata": {},
     "output_type": "execute_result"
    }
   ],
   "source": [
    "test_data_frame_text.shape"
   ]
  },
  {
   "cell_type": "markdown",
   "metadata": {
    "colab_type": "text",
    "id": "V7HjDKKmkPg-"
   },
   "source": [
    "## Joining the data feame with text as features with the original dataframe\n"
   ]
  },
  {
   "cell_type": "code",
   "execution_count": 324,
   "metadata": {
    "colab": {},
    "colab_type": "code",
    "id": "Z7pGrz69ueSP"
   },
   "outputs": [],
   "source": [
    "train_data4=pd.concat([train_data3,train_data_frame_text_tfIdf],axis='columns')"
   ]
  },
  {
   "cell_type": "code",
   "execution_count": 325,
   "metadata": {
    "colab": {},
    "colab_type": "code",
    "id": "QNUH_Ss1ueSR"
   },
   "outputs": [],
   "source": [
    "test_data4=pd.concat([test_data3,test_data_frame_text_tfIdf],axis='columns')"
   ]
  },
  {
   "cell_type": "code",
   "execution_count": 326,
   "metadata": {
    "colab": {
     "base_uri": "https://localhost:8080/",
     "height": 32
    },
    "colab_type": "code",
    "id": "fz6aIA8uueSV",
    "outputId": "2825968c-095f-4f76-f4c1-168834046e44"
   },
   "outputs": [
    {
     "data": {
      "text/plain": [
       "((10980, 5023), (3660, 5022))"
      ]
     },
     "execution_count": 326,
     "metadata": {},
     "output_type": "execute_result"
    }
   ],
   "source": [
    "train_data4.shape,test_data4.shape"
   ]
  },
  {
   "cell_type": "code",
   "execution_count": 327,
   "metadata": {
    "colab": {},
    "colab_type": "code",
    "id": "BwUhfGQ5ueSY"
   },
   "outputs": [],
   "source": [
    "# as they have been already one hot encoded\n",
    "train_data4.drop(['airline','name'],axis=1,inplace=True)\n",
    "test_data4.drop(['airline','name'],axis=1,inplace=True)"
   ]
  },
  {
   "cell_type": "code",
   "execution_count": 328,
   "metadata": {
    "colab": {},
    "colab_type": "code",
    "id": "CaBAUvEJueSb"
   },
   "outputs": [],
   "source": [
    "Y=train_data4['airline_sentiment']"
   ]
  },
  {
   "cell_type": "code",
   "execution_count": 329,
   "metadata": {
    "colab": {},
    "colab_type": "code",
    "id": "6v4vDgwdueSe"
   },
   "outputs": [],
   "source": [
    "train_data4.drop('airline_sentiment',axis=1,inplace=True)"
   ]
  },
  {
   "cell_type": "code",
   "execution_count": 330,
   "metadata": {
    "colab": {
     "base_uri": "https://localhost:8080/",
     "height": 257
    },
    "colab_type": "code",
    "id": "qxSrz3iaueSj",
    "outputId": "b81a3817-8058-40c2-d39d-af973a23ca29"
   },
   "outputs": [
    {
     "data": {
      "text/html": [
       "<div>\n",
       "<style scoped>\n",
       "    .dataframe tbody tr th:only-of-type {\n",
       "        vertical-align: middle;\n",
       "    }\n",
       "\n",
       "    .dataframe tbody tr th {\n",
       "        vertical-align: top;\n",
       "    }\n",
       "\n",
       "    .dataframe thead th {\n",
       "        text-align: right;\n",
       "    }\n",
       "</style>\n",
       "<table border=\"1\" class=\"dataframe\">\n",
       "  <thead>\n",
       "    <tr style=\"text-align: right;\">\n",
       "      <th></th>\n",
       "      <th>retweet_count</th>\n",
       "      <th>American</th>\n",
       "      <th>Delta</th>\n",
       "      <th>Southwest</th>\n",
       "      <th>US Airways</th>\n",
       "      <th>United</th>\n",
       "      <th>Virgin America</th>\n",
       "      <th>Aero0729</th>\n",
       "      <th>GREATNESSEOA</th>\n",
       "      <th>JetBlueNews</th>\n",
       "      <th>...</th>\n",
       "      <th>young</th>\n",
       "      <th>youre</th>\n",
       "      <th>yr</th>\n",
       "      <th>yr old</th>\n",
       "      <th>yup</th>\n",
       "      <th>yvr</th>\n",
       "      <th>yyz</th>\n",
       "      <th>zero</th>\n",
       "      <th>zone</th>\n",
       "      <th>zurich</th>\n",
       "    </tr>\n",
       "  </thead>\n",
       "  <tbody>\n",
       "    <tr>\n",
       "      <td>0</td>\n",
       "      <td>0</td>\n",
       "      <td>0</td>\n",
       "      <td>0</td>\n",
       "      <td>1</td>\n",
       "      <td>0</td>\n",
       "      <td>0</td>\n",
       "      <td>0</td>\n",
       "      <td>0</td>\n",
       "      <td>0</td>\n",
       "      <td>0</td>\n",
       "      <td>...</td>\n",
       "      <td>0.0</td>\n",
       "      <td>0.0</td>\n",
       "      <td>0.0</td>\n",
       "      <td>0.0</td>\n",
       "      <td>0.0</td>\n",
       "      <td>0.0</td>\n",
       "      <td>0.0</td>\n",
       "      <td>0.0</td>\n",
       "      <td>0.0</td>\n",
       "      <td>0.0</td>\n",
       "    </tr>\n",
       "    <tr>\n",
       "      <td>1</td>\n",
       "      <td>0</td>\n",
       "      <td>0</td>\n",
       "      <td>0</td>\n",
       "      <td>1</td>\n",
       "      <td>0</td>\n",
       "      <td>0</td>\n",
       "      <td>0</td>\n",
       "      <td>0</td>\n",
       "      <td>0</td>\n",
       "      <td>0</td>\n",
       "      <td>...</td>\n",
       "      <td>0.0</td>\n",
       "      <td>0.0</td>\n",
       "      <td>0.0</td>\n",
       "      <td>0.0</td>\n",
       "      <td>0.0</td>\n",
       "      <td>0.0</td>\n",
       "      <td>0.0</td>\n",
       "      <td>0.0</td>\n",
       "      <td>0.0</td>\n",
       "      <td>0.0</td>\n",
       "    </tr>\n",
       "    <tr>\n",
       "      <td>2</td>\n",
       "      <td>0</td>\n",
       "      <td>0</td>\n",
       "      <td>0</td>\n",
       "      <td>0</td>\n",
       "      <td>0</td>\n",
       "      <td>1</td>\n",
       "      <td>0</td>\n",
       "      <td>0</td>\n",
       "      <td>0</td>\n",
       "      <td>0</td>\n",
       "      <td>...</td>\n",
       "      <td>0.0</td>\n",
       "      <td>0.0</td>\n",
       "      <td>0.0</td>\n",
       "      <td>0.0</td>\n",
       "      <td>0.0</td>\n",
       "      <td>0.0</td>\n",
       "      <td>0.0</td>\n",
       "      <td>0.0</td>\n",
       "      <td>0.0</td>\n",
       "      <td>0.0</td>\n",
       "    </tr>\n",
       "    <tr>\n",
       "      <td>3</td>\n",
       "      <td>0</td>\n",
       "      <td>0</td>\n",
       "      <td>0</td>\n",
       "      <td>1</td>\n",
       "      <td>0</td>\n",
       "      <td>0</td>\n",
       "      <td>0</td>\n",
       "      <td>0</td>\n",
       "      <td>0</td>\n",
       "      <td>0</td>\n",
       "      <td>...</td>\n",
       "      <td>0.0</td>\n",
       "      <td>0.0</td>\n",
       "      <td>0.0</td>\n",
       "      <td>0.0</td>\n",
       "      <td>0.0</td>\n",
       "      <td>0.0</td>\n",
       "      <td>0.0</td>\n",
       "      <td>0.0</td>\n",
       "      <td>0.0</td>\n",
       "      <td>0.0</td>\n",
       "    </tr>\n",
       "    <tr>\n",
       "      <td>4</td>\n",
       "      <td>0</td>\n",
       "      <td>0</td>\n",
       "      <td>0</td>\n",
       "      <td>0</td>\n",
       "      <td>0</td>\n",
       "      <td>1</td>\n",
       "      <td>0</td>\n",
       "      <td>0</td>\n",
       "      <td>0</td>\n",
       "      <td>0</td>\n",
       "      <td>...</td>\n",
       "      <td>0.0</td>\n",
       "      <td>0.0</td>\n",
       "      <td>0.0</td>\n",
       "      <td>0.0</td>\n",
       "      <td>0.0</td>\n",
       "      <td>0.0</td>\n",
       "      <td>0.0</td>\n",
       "      <td>0.0</td>\n",
       "      <td>0.0</td>\n",
       "      <td>0.0</td>\n",
       "    </tr>\n",
       "  </tbody>\n",
       "</table>\n",
       "<p>5 rows × 5018 columns</p>\n",
       "</div>"
      ],
      "text/plain": [
       "   retweet_count  American  Delta  Southwest  US Airways  United  \\\n",
       "0              0         0      0          1           0       0   \n",
       "1              0         0      0          1           0       0   \n",
       "2              0         0      0          0           0       1   \n",
       "3              0         0      0          1           0       0   \n",
       "4              0         0      0          0           0       1   \n",
       "\n",
       "   Virgin America  Aero0729  GREATNESSEOA  JetBlueNews  ...  young  youre  \\\n",
       "0               0         0             0            0  ...    0.0    0.0   \n",
       "1               0         0             0            0  ...    0.0    0.0   \n",
       "2               0         0             0            0  ...    0.0    0.0   \n",
       "3               0         0             0            0  ...    0.0    0.0   \n",
       "4               0         0             0            0  ...    0.0    0.0   \n",
       "\n",
       "    yr  yr old  yup  yvr  yyz  zero  zone  zurich  \n",
       "0  0.0     0.0  0.0  0.0  0.0   0.0   0.0     0.0  \n",
       "1  0.0     0.0  0.0  0.0  0.0   0.0   0.0     0.0  \n",
       "2  0.0     0.0  0.0  0.0  0.0   0.0   0.0     0.0  \n",
       "3  0.0     0.0  0.0  0.0  0.0   0.0   0.0     0.0  \n",
       "4  0.0     0.0  0.0  0.0  0.0   0.0   0.0     0.0  \n",
       "\n",
       "[5 rows x 5018 columns]"
      ]
     },
     "execution_count": 330,
     "metadata": {},
     "output_type": "execute_result"
    }
   ],
   "source": [
    "train_data4.head()"
   ]
  },
  {
   "cell_type": "code",
   "execution_count": 331,
   "metadata": {
    "colab": {
     "base_uri": "https://localhost:8080/",
     "height": 257
    },
    "colab_type": "code",
    "id": "VUigbkGgueSm",
    "outputId": "3a4357da-32f2-4c56-ad91-07fb6a101059"
   },
   "outputs": [
    {
     "data": {
      "text/html": [
       "<div>\n",
       "<style scoped>\n",
       "    .dataframe tbody tr th:only-of-type {\n",
       "        vertical-align: middle;\n",
       "    }\n",
       "\n",
       "    .dataframe tbody tr th {\n",
       "        vertical-align: top;\n",
       "    }\n",
       "\n",
       "    .dataframe thead th {\n",
       "        text-align: right;\n",
       "    }\n",
       "</style>\n",
       "<table border=\"1\" class=\"dataframe\">\n",
       "  <thead>\n",
       "    <tr style=\"text-align: right;\">\n",
       "      <th></th>\n",
       "      <th>retweet_count</th>\n",
       "      <th>American</th>\n",
       "      <th>Delta</th>\n",
       "      <th>Southwest</th>\n",
       "      <th>US Airways</th>\n",
       "      <th>United</th>\n",
       "      <th>Virgin America</th>\n",
       "      <th>Aero0729</th>\n",
       "      <th>GREATNESSEOA</th>\n",
       "      <th>JetBlueNews</th>\n",
       "      <th>...</th>\n",
       "      <th>young</th>\n",
       "      <th>youre</th>\n",
       "      <th>yr</th>\n",
       "      <th>yr old</th>\n",
       "      <th>yup</th>\n",
       "      <th>yvr</th>\n",
       "      <th>yyz</th>\n",
       "      <th>zero</th>\n",
       "      <th>zone</th>\n",
       "      <th>zurich</th>\n",
       "    </tr>\n",
       "  </thead>\n",
       "  <tbody>\n",
       "    <tr>\n",
       "      <td>0</td>\n",
       "      <td>0</td>\n",
       "      <td>1</td>\n",
       "      <td>0</td>\n",
       "      <td>0</td>\n",
       "      <td>0</td>\n",
       "      <td>0</td>\n",
       "      <td>0</td>\n",
       "      <td>0</td>\n",
       "      <td>0</td>\n",
       "      <td>0</td>\n",
       "      <td>...</td>\n",
       "      <td>0.0</td>\n",
       "      <td>0.0</td>\n",
       "      <td>0.0</td>\n",
       "      <td>0.0</td>\n",
       "      <td>0.0</td>\n",
       "      <td>0.0</td>\n",
       "      <td>0.0</td>\n",
       "      <td>0.0</td>\n",
       "      <td>0.0</td>\n",
       "      <td>0.0</td>\n",
       "    </tr>\n",
       "    <tr>\n",
       "      <td>1</td>\n",
       "      <td>0</td>\n",
       "      <td>1</td>\n",
       "      <td>0</td>\n",
       "      <td>0</td>\n",
       "      <td>0</td>\n",
       "      <td>0</td>\n",
       "      <td>0</td>\n",
       "      <td>0</td>\n",
       "      <td>0</td>\n",
       "      <td>0</td>\n",
       "      <td>...</td>\n",
       "      <td>0.0</td>\n",
       "      <td>0.0</td>\n",
       "      <td>0.0</td>\n",
       "      <td>0.0</td>\n",
       "      <td>0.0</td>\n",
       "      <td>0.0</td>\n",
       "      <td>0.0</td>\n",
       "      <td>0.0</td>\n",
       "      <td>0.0</td>\n",
       "      <td>0.0</td>\n",
       "    </tr>\n",
       "    <tr>\n",
       "      <td>2</td>\n",
       "      <td>1</td>\n",
       "      <td>0</td>\n",
       "      <td>0</td>\n",
       "      <td>1</td>\n",
       "      <td>0</td>\n",
       "      <td>0</td>\n",
       "      <td>0</td>\n",
       "      <td>0</td>\n",
       "      <td>0</td>\n",
       "      <td>0</td>\n",
       "      <td>...</td>\n",
       "      <td>0.0</td>\n",
       "      <td>0.0</td>\n",
       "      <td>0.0</td>\n",
       "      <td>0.0</td>\n",
       "      <td>0.0</td>\n",
       "      <td>0.0</td>\n",
       "      <td>0.0</td>\n",
       "      <td>0.0</td>\n",
       "      <td>0.0</td>\n",
       "      <td>0.0</td>\n",
       "    </tr>\n",
       "    <tr>\n",
       "      <td>3</td>\n",
       "      <td>0</td>\n",
       "      <td>0</td>\n",
       "      <td>0</td>\n",
       "      <td>0</td>\n",
       "      <td>1</td>\n",
       "      <td>0</td>\n",
       "      <td>0</td>\n",
       "      <td>0</td>\n",
       "      <td>0</td>\n",
       "      <td>0</td>\n",
       "      <td>...</td>\n",
       "      <td>0.0</td>\n",
       "      <td>0.0</td>\n",
       "      <td>0.0</td>\n",
       "      <td>0.0</td>\n",
       "      <td>0.0</td>\n",
       "      <td>0.0</td>\n",
       "      <td>0.0</td>\n",
       "      <td>0.0</td>\n",
       "      <td>0.0</td>\n",
       "      <td>0.0</td>\n",
       "    </tr>\n",
       "    <tr>\n",
       "      <td>4</td>\n",
       "      <td>0</td>\n",
       "      <td>1</td>\n",
       "      <td>0</td>\n",
       "      <td>0</td>\n",
       "      <td>0</td>\n",
       "      <td>0</td>\n",
       "      <td>0</td>\n",
       "      <td>0</td>\n",
       "      <td>0</td>\n",
       "      <td>0</td>\n",
       "      <td>...</td>\n",
       "      <td>0.0</td>\n",
       "      <td>0.0</td>\n",
       "      <td>0.0</td>\n",
       "      <td>0.0</td>\n",
       "      <td>0.0</td>\n",
       "      <td>0.0</td>\n",
       "      <td>0.0</td>\n",
       "      <td>0.0</td>\n",
       "      <td>0.0</td>\n",
       "      <td>0.0</td>\n",
       "    </tr>\n",
       "  </tbody>\n",
       "</table>\n",
       "<p>5 rows × 5018 columns</p>\n",
       "</div>"
      ],
      "text/plain": [
       "   retweet_count  American  Delta  Southwest  US Airways  United  \\\n",
       "0              0         1      0          0           0       0   \n",
       "1              0         1      0          0           0       0   \n",
       "2              1         0      0          1           0       0   \n",
       "3              0         0      0          0           1       0   \n",
       "4              0         1      0          0           0       0   \n",
       "\n",
       "   Virgin America  Aero0729  GREATNESSEOA  JetBlueNews  ...  young  youre  \\\n",
       "0               0         0             0            0  ...    0.0    0.0   \n",
       "1               0         0             0            0  ...    0.0    0.0   \n",
       "2               0         0             0            0  ...    0.0    0.0   \n",
       "3               0         0             0            0  ...    0.0    0.0   \n",
       "4               0         0             0            0  ...    0.0    0.0   \n",
       "\n",
       "    yr  yr old  yup  yvr  yyz  zero  zone  zurich  \n",
       "0  0.0     0.0  0.0  0.0  0.0   0.0   0.0     0.0  \n",
       "1  0.0     0.0  0.0  0.0  0.0   0.0   0.0     0.0  \n",
       "2  0.0     0.0  0.0  0.0  0.0   0.0   0.0     0.0  \n",
       "3  0.0     0.0  0.0  0.0  0.0   0.0   0.0     0.0  \n",
       "4  0.0     0.0  0.0  0.0  0.0   0.0   0.0     0.0  \n",
       "\n",
       "[5 rows x 5018 columns]"
      ]
     },
     "execution_count": 331,
     "metadata": {},
     "output_type": "execute_result"
    }
   ],
   "source": [
    "test_data4.head()"
   ]
  },
  {
   "cell_type": "markdown",
   "metadata": {
    "colab_type": "text",
    "id": "LfIqv0cUlOXF"
   },
   "source": [
    "# TRAINING ON THE FEATURE SET"
   ]
  },
  {
   "cell_type": "code",
   "execution_count": 332,
   "metadata": {
    "colab": {},
    "colab_type": "code",
    "id": "hpf1TLtXueSt"
   },
   "outputs": [],
   "source": [
    "from sklearn.model_selection import train_test_split\n",
    "from sklearn.metrics import confusion_matrix,classification_report"
   ]
  },
  {
   "cell_type": "code",
   "execution_count": 333,
   "metadata": {
    "colab": {},
    "colab_type": "code",
    "id": "196IfAHgueSv"
   },
   "outputs": [],
   "source": [
    "X=train_data4.values"
   ]
  },
  {
   "cell_type": "code",
   "execution_count": null,
   "metadata": {
    "colab": {},
    "colab_type": "code",
    "id": "CLlF42iKueSy"
   },
   "outputs": [],
   "source": [
    "# splitting the training set into train and validation set\n",
    "xTrain_small,xTest_small,yTrain_small,yTest_small=train_test_split(X,Y)"
   ]
  },
  {
   "cell_type": "code",
   "execution_count": 313,
   "metadata": {
    "colab": {
     "base_uri": "https://localhost:8080/",
     "height": 32
    },
    "colab_type": "code",
    "id": "TL3nB2AVueS0",
    "outputId": "72619f80-64c2-40f9-85ed-60726b49dce7"
   },
   "outputs": [
    {
     "data": {
      "text/plain": [
       "((8235, 3018), (2745, 3018), (8235,), (2745,))"
      ]
     },
     "execution_count": 313,
     "metadata": {},
     "output_type": "execute_result"
    }
   ],
   "source": [
    "xTrain_small.shape,xTest_small.shape,yTrain_small.shape,yTest_small.shape"
   ]
  },
  {
   "cell_type": "code",
   "execution_count": 314,
   "metadata": {},
   "outputs": [],
   "source": [
    "xTest=test_data4.values"
   ]
  },
  {
   "cell_type": "markdown",
   "metadata": {
    "colab_type": "text",
    "id": "-RUpUG0Syvhz"
   },
   "source": [
    "## Using Logistic Regression"
   ]
  },
  {
   "cell_type": "code",
   "execution_count": 315,
   "metadata": {
    "colab": {
     "base_uri": "https://localhost:8080/",
     "height": 98
    },
    "colab_type": "code",
    "id": "36u50ENUy0dL",
    "outputId": "45a9f9a6-7809-4b69-9cfd-535aeb704be6"
   },
   "outputs": [
    {
     "name": "stderr",
     "output_type": "stream",
     "text": [
      "/home/ankit/anaconda3/lib/python3.7/site-packages/sklearn/linear_model/logistic.py:432: FutureWarning: Default solver will be changed to 'lbfgs' in 0.22. Specify a solver to silence this warning.\n",
      "  FutureWarning)\n",
      "/home/ankit/anaconda3/lib/python3.7/site-packages/sklearn/linear_model/logistic.py:469: FutureWarning: Default multi_class will be changed to 'auto' in 0.22. Specify the multi_class option to silence this warning.\n",
      "  \"this warning.\", FutureWarning)\n"
     ]
    },
    {
     "data": {
      "text/plain": [
       "LogisticRegression(C=1.0, class_weight=None, dual=False, fit_intercept=True,\n",
       "                   intercept_scaling=1, l1_ratio=None, max_iter=1000,\n",
       "                   multi_class='warn', n_jobs=None, penalty='l2',\n",
       "                   random_state=None, solver='warn', tol=0.0001, verbose=0,\n",
       "                   warm_start=False)"
      ]
     },
     "execution_count": 315,
     "metadata": {},
     "output_type": "execute_result"
    }
   ],
   "source": [
    "from sklearn.linear_model import LogisticRegression\n",
    "lr=LogisticRegression(max_iter=1000)\n",
    "lr.fit(xTrain_small,yTrain_small)"
   ]
  },
  {
   "cell_type": "code",
   "execution_count": 316,
   "metadata": {
    "colab": {
     "base_uri": "https://localhost:8080/",
     "height": 32
    },
    "colab_type": "code",
    "id": "I8HKhURlzGAJ",
    "outputId": "124271a4-401a-4cdf-97fa-ba2a87dcc3e6"
   },
   "outputs": [
    {
     "data": {
      "text/plain": [
       "0.7810564663023679"
      ]
     },
     "execution_count": 316,
     "metadata": {},
     "output_type": "execute_result"
    }
   ],
   "source": [
    "lr.score(xTest_small,yTest_small)"
   ]
  },
  {
   "cell_type": "code",
   "execution_count": 282,
   "metadata": {},
   "outputs": [],
   "source": [
    "yPredicted_lr_small=lr.predict(xTest_small)"
   ]
  },
  {
   "cell_type": "code",
   "execution_count": 317,
   "metadata": {},
   "outputs": [
    {
     "name": "stdout",
     "output_type": "stream",
     "text": [
      "              precision    recall  f1-score   support\n",
      "\n",
      "    negative       0.62      0.68      0.65      1710\n",
      "     neutral       0.20      0.16      0.18       589\n",
      "    positive       0.15      0.14      0.14       446\n",
      "\n",
      "    accuracy                           0.48      2745\n",
      "   macro avg       0.32      0.33      0.32      2745\n",
      "weighted avg       0.45      0.48      0.47      2745\n",
      "\n"
     ]
    }
   ],
   "source": [
    "print (classification_report(yTest_small,yPredicted_lr_small))"
   ]
  },
  {
   "cell_type": "code",
   "execution_count": 318,
   "metadata": {},
   "outputs": [
    {
     "name": "stdout",
     "output_type": "stream",
     "text": [
      "[[1157  302  251]\n",
      " [ 409   96   84]\n",
      " [ 293   92   61]]\n"
     ]
    }
   ],
   "source": [
    "print (confusion_matrix(yTest_small,yPredicted_lr_small))"
   ]
  },
  {
   "cell_type": "code",
   "execution_count": 110,
   "metadata": {},
   "outputs": [],
   "source": [
    "np.savetxt(\"predictions.csv\",yPredicted_lr,fmt=\"%s\")"
   ]
  },
  {
   "cell_type": "markdown",
   "metadata": {
    "colab_type": "text",
    "id": "8ZHDg-8amkvY"
   },
   "source": [
    "### Using SVM\n"
   ]
  },
  {
   "cell_type": "code",
   "execution_count": 101,
   "metadata": {
    "colab": {},
    "colab_type": "code",
    "id": "90o6NIoMueS2"
   },
   "outputs": [],
   "source": [
    "from sklearn.svm import SVC"
   ]
  },
  {
   "cell_type": "code",
   "execution_count": 102,
   "metadata": {
    "colab": {},
    "colab_type": "code",
    "id": "0elfoWqqueS4"
   },
   "outputs": [],
   "source": [
    "clf_svc=SVC(kernel='linear')"
   ]
  },
  {
   "cell_type": "code",
   "execution_count": 103,
   "metadata": {
    "colab": {
     "base_uri": "https://localhost:8080/",
     "height": 82
    },
    "colab_type": "code",
    "id": "IeWC1fVWueS6",
    "outputId": "03b3694f-9f24-4e7f-da14-d868564cdf62"
   },
   "outputs": [
    {
     "data": {
      "text/plain": [
       "SVC(C=1.0, cache_size=200, class_weight=None, coef0=0.0,\n",
       "    decision_function_shape='ovr', degree=3, gamma='auto_deprecated',\n",
       "    kernel='linear', max_iter=-1, probability=False, random_state=None,\n",
       "    shrinking=True, tol=0.001, verbose=False)"
      ]
     },
     "execution_count": 103,
     "metadata": {},
     "output_type": "execute_result"
    }
   ],
   "source": [
    "clf_svc.fit(xTrain_small,yTrain_small)"
   ]
  },
  {
   "cell_type": "code",
   "execution_count": 104,
   "metadata": {
    "colab": {
     "base_uri": "https://localhost:8080/",
     "height": 32
    },
    "colab_type": "code",
    "id": "ZsR2hJpaueS-",
    "outputId": "3113ec26-964e-428a-ba67-a279bd27b7c4"
   },
   "outputs": [
    {
     "data": {
      "text/plain": [
       "0.7584699453551913"
      ]
     },
     "execution_count": 104,
     "metadata": {},
     "output_type": "execute_result"
    }
   ],
   "source": [
    "clf_svc.score(xTest_small,yTest_small)"
   ]
  },
  {
   "cell_type": "markdown",
   "metadata": {
    "colab_type": "text",
    "id": "8WC_iGGSnSH8"
   },
   "source": [
    "### Using Multinomial Naive Bayes\n"
   ]
  },
  {
   "cell_type": "code",
   "execution_count": 137,
   "metadata": {
    "colab": {},
    "colab_type": "code",
    "id": "Flwqcm_QueTC"
   },
   "outputs": [],
   "source": [
    "from sklearn.naive_bayes import MultinomialNB"
   ]
  },
  {
   "cell_type": "code",
   "execution_count": 138,
   "metadata": {
    "colab": {},
    "colab_type": "code",
    "id": "FwplD1n1ueTE"
   },
   "outputs": [],
   "source": [
    "clf_mnb = MultinomialNB()"
   ]
  },
  {
   "cell_type": "code",
   "execution_count": 139,
   "metadata": {
    "colab": {
     "base_uri": "https://localhost:8080/",
     "height": 32
    },
    "colab_type": "code",
    "id": "2B_yNzReueTG",
    "outputId": "b45e20d6-e351-4a07-a106-ef418e435739"
   },
   "outputs": [
    {
     "data": {
      "text/plain": [
       "MultinomialNB(alpha=1.0, class_prior=None, fit_prior=True)"
      ]
     },
     "execution_count": 139,
     "metadata": {},
     "output_type": "execute_result"
    }
   ],
   "source": [
    "clf_mnb.fit(xTrain_small,yTrain_small)"
   ]
  },
  {
   "cell_type": "code",
   "execution_count": 140,
   "metadata": {
    "colab": {
     "base_uri": "https://localhost:8080/",
     "height": 32
    },
    "colab_type": "code",
    "id": "LhQkGVswndGS",
    "outputId": "23722f3b-a939-4946-f628-488cee8a19de"
   },
   "outputs": [
    {
     "data": {
      "text/plain": [
       "0.585792349726776"
      ]
     },
     "execution_count": 140,
     "metadata": {},
     "output_type": "execute_result"
    }
   ],
   "source": [
    "clf_mnb.score(xTest_small,yTest_small)"
   ]
  },
  {
   "cell_type": "markdown",
   "metadata": {
    "colab_type": "text",
    "id": "QulsNk2W1gMy"
   },
   "source": [
    "## Optimizing MNB Using grid search\n"
   ]
  },
  {
   "cell_type": "code",
   "execution_count": 88,
   "metadata": {
    "colab": {},
    "colab_type": "code",
    "id": "KcHrOd2Fytcn"
   },
   "outputs": [],
   "source": [
    "from sklearn.model_selection import GridSearchCV"
   ]
  },
  {
   "cell_type": "code",
   "execution_count": 173,
   "metadata": {
    "colab": {},
    "colab_type": "code",
    "id": "erYgAn-oueTI"
   },
   "outputs": [],
   "source": [
    "list_alpha_values=np.arange(0.1,20,0.20)"
   ]
  },
  {
   "cell_type": "code",
   "execution_count": 174,
   "metadata": {
    "colab": {
     "base_uri": "https://localhost:8080/",
     "height": 279
    },
    "colab_type": "code",
    "id": "ydG5uUuUueTJ",
    "outputId": "cbc1baff-17d7-4060-e4e2-ab7609733a64"
   },
   "outputs": [
    {
     "data": {
      "text/plain": [
       "GridSearchCV(cv=None, error_score=nan,\n",
       "             estimator=MultinomialNB(alpha=1.0, class_prior=None,\n",
       "                                     fit_prior=True),\n",
       "             iid='deprecated', n_jobs=None,\n",
       "             param_grid={'alpha': array([ 0.1,  0.3,  0.5,  0.7,  0.9,  1.1,  1.3,  1.5,  1.7,  1.9,  2.1,\n",
       "        2.3,  2.5,  2.7,  2.9,  3.1,  3.3,  3.5,  3.7,  3.9,  4.1,  4.3,\n",
       "        4.5,  4.7,  4.9,  5.1,  5.3,  5.5,  5.7,  5.9,  6.1,  6.3,  6.5,\n",
       "        6.7,  6.9,  7.1,  7.3,  7.5,  7.7,  7.9,  8.1,  8.3,  8.5,  8.7,\n",
       "        8.9,  9.1,  9.3,  9.5,  9.7,  9.9, 10.1, 10.3, 10.5, 10.7, 10.9,\n",
       "       11.1, 11.3, 11.5, 11.7, 11.9, 12.1, 12.3, 12.5, 12.7, 12.9, 13.1,\n",
       "       13.3, 13.5, 13.7, 13.9, 14.1, 14.3, 14.5, 14.7, 14.9, 15.1, 15.3,\n",
       "       15.5, 15.7, 15.9, 16.1, 16.3, 16.5, 16.7, 16.9, 17.1, 17.3, 17.5,\n",
       "       17.7, 17.9, 18.1, 18.3, 18.5, 18.7, 18.9, 19.1, 19.3, 19.5, 19.7,\n",
       "       19.9])},\n",
       "             pre_dispatch='2*n_jobs', refit=True, return_train_score=False,\n",
       "             scoring=None, verbose=0)"
      ]
     },
     "execution_count": 174,
     "metadata": {
      "tags": []
     },
     "output_type": "execute_result"
    }
   ],
   "source": [
    "clf_mnb_fineTune=MultinomialNB()\n",
    "grid={'alpha':list_alpha_values}\n",
    "clf_mnb_best=GridSearchCV(clf_mnb_fineTune,grid)\n",
    "clf_mnb_best.fit(xTrain_small,yTrain_small)"
   ]
  },
  {
   "cell_type": "code",
   "execution_count": 175,
   "metadata": {
    "colab": {
     "base_uri": "https://localhost:8080/",
     "height": 32
    },
    "colab_type": "code",
    "id": "2VjFbKydueTM",
    "outputId": "397e1c6a-a73b-4f4a-a913-c77ad8fbba27"
   },
   "outputs": [
    {
     "data": {
      "text/plain": [
       "MultinomialNB(alpha=0.1, class_prior=None, fit_prior=True)"
      ]
     },
     "execution_count": 175,
     "metadata": {
      "tags": []
     },
     "output_type": "execute_result"
    }
   ],
   "source": [
    "clf_mnb_best.best_estimator_"
   ]
  },
  {
   "cell_type": "code",
   "execution_count": 222,
   "metadata": {
    "colab": {},
    "colab_type": "code",
    "id": "DV40aulK063X"
   },
   "outputs": [],
   "source": [
    "clf_mnb_optimized = MultinomialNB(alpha=0.1)"
   ]
  },
  {
   "cell_type": "code",
   "execution_count": 223,
   "metadata": {
    "colab": {
     "base_uri": "https://localhost:8080/",
     "height": 32
    },
    "colab_type": "code",
    "id": "0AGjGLar1B-V",
    "outputId": "55b29b00-081a-4d18-e8d4-f7513b18bd7f"
   },
   "outputs": [
    {
     "data": {
      "text/plain": [
       "MultinomialNB(alpha=0.1, class_prior=None, fit_prior=True)"
      ]
     },
     "execution_count": 223,
     "metadata": {},
     "output_type": "execute_result"
    }
   ],
   "source": [
    "clf_mnb_optimized.fit(xTrain_small,yTrain_small)"
   ]
  },
  {
   "cell_type": "code",
   "execution_count": 224,
   "metadata": {
    "colab": {},
    "colab_type": "code",
    "id": "xrVtfQEltplE"
   },
   "outputs": [],
   "source": [
    "yPredicted=clf_mnb_optimized.predict(xTest)"
   ]
  },
  {
   "cell_type": "code",
   "execution_count": 197,
   "metadata": {
    "colab": {},
    "colab_type": "code",
    "id": "FjbwH-Cst6gY"
   },
   "outputs": [],
   "source": [
    "np.savetxt(\"/content/drive/My Drive/predictions.csv\",yPredicted,fmt=\"%s\")"
   ]
  },
  {
   "cell_type": "code",
   "execution_count": 225,
   "metadata": {
    "colab": {
     "base_uri": "https://localhost:8080/",
     "height": 32
    },
    "colab_type": "code",
    "id": "JdirIr1Q1HKx",
    "outputId": "845e2223-c16e-4fc6-a45f-033e6a80f9a8"
   },
   "outputs": [
    {
     "data": {
      "text/plain": [
       "0.6859744990892532"
      ]
     },
     "execution_count": 225,
     "metadata": {},
     "output_type": "execute_result"
    }
   ],
   "source": [
    "clf_mnb_optimized.score(xTest_small,yTest_small)"
   ]
  },
  {
   "cell_type": "markdown",
   "metadata": {
    "colab_type": "text",
    "id": "kaVHaGP6mtZI"
   },
   "source": [
    "### Using random forest"
   ]
  },
  {
   "cell_type": "code",
   "execution_count": 97,
   "metadata": {
    "colab": {},
    "colab_type": "code",
    "id": "YBYcU9jf1vsv"
   },
   "outputs": [],
   "source": [
    "from sklearn.ensemble import RandomForestClassifier"
   ]
  },
  {
   "cell_type": "code",
   "execution_count": 170,
   "metadata": {
    "colab": {},
    "colab_type": "code",
    "id": "o8FUWkV1ueTR"
   },
   "outputs": [],
   "source": [
    "clf_rf=RandomForestClassifier()"
   ]
  },
  {
   "cell_type": "code",
   "execution_count": 171,
   "metadata": {
    "colab": {
     "base_uri": "https://localhost:8080/",
     "height": 147
    },
    "colab_type": "code",
    "id": "ByWMG5eeueTS",
    "outputId": "c29eebd5-3beb-41af-959b-a4e347c54153"
   },
   "outputs": [
    {
     "name": "stderr",
     "output_type": "stream",
     "text": [
      "/home/ankit/anaconda3/lib/python3.7/site-packages/sklearn/ensemble/forest.py:245: FutureWarning: The default value of n_estimators will change from 10 in version 0.20 to 100 in 0.22.\n",
      "  \"10 in version 0.20 to 100 in 0.22.\", FutureWarning)\n"
     ]
    },
    {
     "data": {
      "text/plain": [
       "RandomForestClassifier(bootstrap=True, class_weight=None, criterion='gini',\n",
       "                       max_depth=None, max_features='auto', max_leaf_nodes=None,\n",
       "                       min_impurity_decrease=0.0, min_impurity_split=None,\n",
       "                       min_samples_leaf=1, min_samples_split=2,\n",
       "                       min_weight_fraction_leaf=0.0, n_estimators=10,\n",
       "                       n_jobs=None, oob_score=False, random_state=None,\n",
       "                       verbose=0, warm_start=False)"
      ]
     },
     "execution_count": 171,
     "metadata": {},
     "output_type": "execute_result"
    }
   ],
   "source": [
    "clf_rf.fit(xTrain_small,yTrain_small)"
   ]
  },
  {
   "cell_type": "code",
   "execution_count": 172,
   "metadata": {
    "colab": {
     "base_uri": "https://localhost:8080/",
     "height": 32
    },
    "colab_type": "code",
    "id": "luoVwxNMueTU",
    "outputId": "f58c05c8-acd7-48cc-85f6-23e4baa38a33"
   },
   "outputs": [
    {
     "data": {
      "text/plain": [
       "0.7096539162112933"
      ]
     },
     "execution_count": 172,
     "metadata": {},
     "output_type": "execute_result"
    }
   ],
   "source": [
    "clf_rf.score(xTest_small,yTest_small)"
   ]
  }
 ],
 "metadata": {
  "accelerator": "GPU",
  "colab": {
   "collapsed_sections": [],
   "name": "sentiment analysis.ipynb",
   "provenance": []
  },
  "kernelspec": {
   "display_name": "Python 3",
   "language": "python",
   "name": "python3"
  },
  "language_info": {
   "codemirror_mode": {
    "name": "ipython",
    "version": 3
   },
   "file_extension": ".py",
   "mimetype": "text/x-python",
   "name": "python",
   "nbconvert_exporter": "python",
   "pygments_lexer": "ipython3",
   "version": "3.7.6"
  }
 },
 "nbformat": 4,
 "nbformat_minor": 1
}
