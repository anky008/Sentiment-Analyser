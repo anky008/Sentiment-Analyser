{
 "cells": [
  {
   "cell_type": "code",
   "execution_count": 99,
   "metadata": {},
   "outputs": [],
   "source": [
    "import numpy as np\n",
    "import pandas as pd\n",
    "import matplotlib\n",
    "import matplotlib.pyplot as plt\n",
    "matplotlib.rcParams['figure.figsize']=(15,10)"
   ]
  },
  {
   "cell_type": "code",
   "execution_count": 100,
   "metadata": {},
   "outputs": [],
   "source": [
    "train_data=pd.read_csv('twitter_x_y_train.csv')\n",
    "test_data=pd.read_csv('twitter_x_test.csv')"
   ]
  },
  {
   "cell_type": "code",
   "execution_count": 101,
   "metadata": {},
   "outputs": [
    {
     "data": {
      "text/plain": [
       "negative    6851\n",
       "neutral     2327\n",
       "positive    1802\n",
       "Name: airline_sentiment, dtype: int64"
      ]
     },
     "execution_count": 101,
     "metadata": {},
     "output_type": "execute_result"
    }
   ],
   "source": [
    "train_data.airline_sentiment.value_counts()"
   ]
  },
  {
   "cell_type": "code",
   "execution_count": 102,
   "metadata": {},
   "outputs": [
    {
     "data": {
      "text/plain": [
       "(10980, 12)"
      ]
     },
     "execution_count": 102,
     "metadata": {},
     "output_type": "execute_result"
    }
   ],
   "source": [
    "train_data.shape"
   ]
  },
  {
   "cell_type": "code",
   "execution_count": 103,
   "metadata": {},
   "outputs": [
    {
     "data": {
      "text/plain": [
       "(3660, 11)"
      ]
     },
     "execution_count": 103,
     "metadata": {},
     "output_type": "execute_result"
    }
   ],
   "source": [
    "test_data.shape"
   ]
  },
  {
   "cell_type": "code",
   "execution_count": 104,
   "metadata": {
    "scrolled": true
   },
   "outputs": [
    {
     "data": {
      "text/html": [
       "<div>\n",
       "<style scoped>\n",
       "    .dataframe tbody tr th:only-of-type {\n",
       "        vertical-align: middle;\n",
       "    }\n",
       "\n",
       "    .dataframe tbody tr th {\n",
       "        vertical-align: top;\n",
       "    }\n",
       "\n",
       "    .dataframe thead th {\n",
       "        text-align: right;\n",
       "    }\n",
       "</style>\n",
       "<table border=\"1\" class=\"dataframe\">\n",
       "  <thead>\n",
       "    <tr style=\"text-align: right;\">\n",
       "      <th></th>\n",
       "      <th>tweet_id</th>\n",
       "      <th>airline_sentiment</th>\n",
       "      <th>airline</th>\n",
       "      <th>airline_sentiment_gold</th>\n",
       "      <th>name</th>\n",
       "      <th>negativereason_gold</th>\n",
       "      <th>retweet_count</th>\n",
       "      <th>text</th>\n",
       "      <th>tweet_coord</th>\n",
       "      <th>tweet_created</th>\n",
       "      <th>tweet_location</th>\n",
       "      <th>user_timezone</th>\n",
       "    </tr>\n",
       "  </thead>\n",
       "  <tbody>\n",
       "    <tr>\n",
       "      <td>0</td>\n",
       "      <td>567900433542488064</td>\n",
       "      <td>negative</td>\n",
       "      <td>Southwest</td>\n",
       "      <td>NaN</td>\n",
       "      <td>ColeyGirouard</td>\n",
       "      <td>NaN</td>\n",
       "      <td>0</td>\n",
       "      <td>@SouthwestAir I am scheduled for the morning, ...</td>\n",
       "      <td>NaN</td>\n",
       "      <td>2015-02-17 20:16:29 -0800</td>\n",
       "      <td>Washington D.C.</td>\n",
       "      <td>Atlantic Time (Canada)</td>\n",
       "    </tr>\n",
       "    <tr>\n",
       "      <td>1</td>\n",
       "      <td>569989168903819264</td>\n",
       "      <td>positive</td>\n",
       "      <td>Southwest</td>\n",
       "      <td>NaN</td>\n",
       "      <td>WalterFaddoul</td>\n",
       "      <td>NaN</td>\n",
       "      <td>0</td>\n",
       "      <td>@SouthwestAir seeing your workers time in and ...</td>\n",
       "      <td>NaN</td>\n",
       "      <td>2015-02-23 14:36:22 -0800</td>\n",
       "      <td>Indianapolis, Indiana; USA</td>\n",
       "      <td>Central Time (US &amp; Canada)</td>\n",
       "    </tr>\n",
       "    <tr>\n",
       "      <td>2</td>\n",
       "      <td>568089179520954368</td>\n",
       "      <td>positive</td>\n",
       "      <td>United</td>\n",
       "      <td>NaN</td>\n",
       "      <td>LocalKyle</td>\n",
       "      <td>NaN</td>\n",
       "      <td>0</td>\n",
       "      <td>@united Flew ORD to Miami and back and  had gr...</td>\n",
       "      <td>NaN</td>\n",
       "      <td>2015-02-18 08:46:29 -0800</td>\n",
       "      <td>Illinois</td>\n",
       "      <td>Central Time (US &amp; Canada)</td>\n",
       "    </tr>\n",
       "    <tr>\n",
       "      <td>3</td>\n",
       "      <td>568928195581513728</td>\n",
       "      <td>negative</td>\n",
       "      <td>Southwest</td>\n",
       "      <td>NaN</td>\n",
       "      <td>amccarthy19</td>\n",
       "      <td>NaN</td>\n",
       "      <td>0</td>\n",
       "      <td>@SouthwestAir @dultch97 that's horse radish 😤🐴</td>\n",
       "      <td>NaN</td>\n",
       "      <td>2015-02-20 16:20:26 -0800</td>\n",
       "      <td>NaN</td>\n",
       "      <td>Atlantic Time (Canada)</td>\n",
       "    </tr>\n",
       "    <tr>\n",
       "      <td>4</td>\n",
       "      <td>568594180014014464</td>\n",
       "      <td>negative</td>\n",
       "      <td>United</td>\n",
       "      <td>NaN</td>\n",
       "      <td>J_Okayy</td>\n",
       "      <td>NaN</td>\n",
       "      <td>0</td>\n",
       "      <td>@united so our flight into ORD was delayed bec...</td>\n",
       "      <td>NaN</td>\n",
       "      <td>2015-02-19 18:13:11 -0800</td>\n",
       "      <td>NaN</td>\n",
       "      <td>Eastern Time (US &amp; Canada)</td>\n",
       "    </tr>\n",
       "  </tbody>\n",
       "</table>\n",
       "</div>"
      ],
      "text/plain": [
       "             tweet_id airline_sentiment    airline airline_sentiment_gold  \\\n",
       "0  567900433542488064          negative  Southwest                    NaN   \n",
       "1  569989168903819264          positive  Southwest                    NaN   \n",
       "2  568089179520954368          positive     United                    NaN   \n",
       "3  568928195581513728          negative  Southwest                    NaN   \n",
       "4  568594180014014464          negative     United                    NaN   \n",
       "\n",
       "            name negativereason_gold  retweet_count  \\\n",
       "0  ColeyGirouard                 NaN              0   \n",
       "1  WalterFaddoul                 NaN              0   \n",
       "2      LocalKyle                 NaN              0   \n",
       "3    amccarthy19                 NaN              0   \n",
       "4        J_Okayy                 NaN              0   \n",
       "\n",
       "                                                text tweet_coord  \\\n",
       "0  @SouthwestAir I am scheduled for the morning, ...         NaN   \n",
       "1  @SouthwestAir seeing your workers time in and ...         NaN   \n",
       "2  @united Flew ORD to Miami and back and  had gr...         NaN   \n",
       "3     @SouthwestAir @dultch97 that's horse radish 😤🐴         NaN   \n",
       "4  @united so our flight into ORD was delayed bec...         NaN   \n",
       "\n",
       "               tweet_created              tweet_location  \\\n",
       "0  2015-02-17 20:16:29 -0800             Washington D.C.   \n",
       "1  2015-02-23 14:36:22 -0800  Indianapolis, Indiana; USA   \n",
       "2  2015-02-18 08:46:29 -0800                    Illinois   \n",
       "3  2015-02-20 16:20:26 -0800                         NaN   \n",
       "4  2015-02-19 18:13:11 -0800                         NaN   \n",
       "\n",
       "                user_timezone  \n",
       "0      Atlantic Time (Canada)  \n",
       "1  Central Time (US & Canada)  \n",
       "2  Central Time (US & Canada)  \n",
       "3      Atlantic Time (Canada)  \n",
       "4  Eastern Time (US & Canada)  "
      ]
     },
     "execution_count": 104,
     "metadata": {},
     "output_type": "execute_result"
    }
   ],
   "source": [
    "train_data.head()"
   ]
  },
  {
   "cell_type": "markdown",
   "metadata": {},
   "source": [
    "## tweet_id is a unique id corresponding to each tweet so it is not important"
   ]
  },
  {
   "cell_type": "code",
   "execution_count": 105,
   "metadata": {},
   "outputs": [],
   "source": [
    "train_data.drop('tweet_id',axis=1,inplace=True)\n",
    "test_data.drop('tweet_id',axis=1,inplace=True)"
   ]
  },
  {
   "cell_type": "code",
   "execution_count": 106,
   "metadata": {},
   "outputs": [
    {
     "data": {
      "text/html": [
       "<div>\n",
       "<style scoped>\n",
       "    .dataframe tbody tr th:only-of-type {\n",
       "        vertical-align: middle;\n",
       "    }\n",
       "\n",
       "    .dataframe tbody tr th {\n",
       "        vertical-align: top;\n",
       "    }\n",
       "\n",
       "    .dataframe thead th {\n",
       "        text-align: right;\n",
       "    }\n",
       "</style>\n",
       "<table border=\"1\" class=\"dataframe\">\n",
       "  <thead>\n",
       "    <tr style=\"text-align: right;\">\n",
       "      <th></th>\n",
       "      <th>airline_sentiment</th>\n",
       "      <th>airline</th>\n",
       "      <th>airline_sentiment_gold</th>\n",
       "      <th>name</th>\n",
       "      <th>negativereason_gold</th>\n",
       "      <th>retweet_count</th>\n",
       "      <th>text</th>\n",
       "      <th>tweet_coord</th>\n",
       "      <th>tweet_created</th>\n",
       "      <th>tweet_location</th>\n",
       "      <th>user_timezone</th>\n",
       "    </tr>\n",
       "  </thead>\n",
       "  <tbody>\n",
       "    <tr>\n",
       "      <td>0</td>\n",
       "      <td>negative</td>\n",
       "      <td>Southwest</td>\n",
       "      <td>NaN</td>\n",
       "      <td>ColeyGirouard</td>\n",
       "      <td>NaN</td>\n",
       "      <td>0</td>\n",
       "      <td>@SouthwestAir I am scheduled for the morning, ...</td>\n",
       "      <td>NaN</td>\n",
       "      <td>2015-02-17 20:16:29 -0800</td>\n",
       "      <td>Washington D.C.</td>\n",
       "      <td>Atlantic Time (Canada)</td>\n",
       "    </tr>\n",
       "    <tr>\n",
       "      <td>1</td>\n",
       "      <td>positive</td>\n",
       "      <td>Southwest</td>\n",
       "      <td>NaN</td>\n",
       "      <td>WalterFaddoul</td>\n",
       "      <td>NaN</td>\n",
       "      <td>0</td>\n",
       "      <td>@SouthwestAir seeing your workers time in and ...</td>\n",
       "      <td>NaN</td>\n",
       "      <td>2015-02-23 14:36:22 -0800</td>\n",
       "      <td>Indianapolis, Indiana; USA</td>\n",
       "      <td>Central Time (US &amp; Canada)</td>\n",
       "    </tr>\n",
       "    <tr>\n",
       "      <td>2</td>\n",
       "      <td>positive</td>\n",
       "      <td>United</td>\n",
       "      <td>NaN</td>\n",
       "      <td>LocalKyle</td>\n",
       "      <td>NaN</td>\n",
       "      <td>0</td>\n",
       "      <td>@united Flew ORD to Miami and back and  had gr...</td>\n",
       "      <td>NaN</td>\n",
       "      <td>2015-02-18 08:46:29 -0800</td>\n",
       "      <td>Illinois</td>\n",
       "      <td>Central Time (US &amp; Canada)</td>\n",
       "    </tr>\n",
       "    <tr>\n",
       "      <td>3</td>\n",
       "      <td>negative</td>\n",
       "      <td>Southwest</td>\n",
       "      <td>NaN</td>\n",
       "      <td>amccarthy19</td>\n",
       "      <td>NaN</td>\n",
       "      <td>0</td>\n",
       "      <td>@SouthwestAir @dultch97 that's horse radish 😤🐴</td>\n",
       "      <td>NaN</td>\n",
       "      <td>2015-02-20 16:20:26 -0800</td>\n",
       "      <td>NaN</td>\n",
       "      <td>Atlantic Time (Canada)</td>\n",
       "    </tr>\n",
       "    <tr>\n",
       "      <td>4</td>\n",
       "      <td>negative</td>\n",
       "      <td>United</td>\n",
       "      <td>NaN</td>\n",
       "      <td>J_Okayy</td>\n",
       "      <td>NaN</td>\n",
       "      <td>0</td>\n",
       "      <td>@united so our flight into ORD was delayed bec...</td>\n",
       "      <td>NaN</td>\n",
       "      <td>2015-02-19 18:13:11 -0800</td>\n",
       "      <td>NaN</td>\n",
       "      <td>Eastern Time (US &amp; Canada)</td>\n",
       "    </tr>\n",
       "  </tbody>\n",
       "</table>\n",
       "</div>"
      ],
      "text/plain": [
       "  airline_sentiment    airline airline_sentiment_gold           name  \\\n",
       "0          negative  Southwest                    NaN  ColeyGirouard   \n",
       "1          positive  Southwest                    NaN  WalterFaddoul   \n",
       "2          positive     United                    NaN      LocalKyle   \n",
       "3          negative  Southwest                    NaN    amccarthy19   \n",
       "4          negative     United                    NaN        J_Okayy   \n",
       "\n",
       "  negativereason_gold  retweet_count  \\\n",
       "0                 NaN              0   \n",
       "1                 NaN              0   \n",
       "2                 NaN              0   \n",
       "3                 NaN              0   \n",
       "4                 NaN              0   \n",
       "\n",
       "                                                text tweet_coord  \\\n",
       "0  @SouthwestAir I am scheduled for the morning, ...         NaN   \n",
       "1  @SouthwestAir seeing your workers time in and ...         NaN   \n",
       "2  @united Flew ORD to Miami and back and  had gr...         NaN   \n",
       "3     @SouthwestAir @dultch97 that's horse radish 😤🐴         NaN   \n",
       "4  @united so our flight into ORD was delayed bec...         NaN   \n",
       "\n",
       "               tweet_created              tweet_location  \\\n",
       "0  2015-02-17 20:16:29 -0800             Washington D.C.   \n",
       "1  2015-02-23 14:36:22 -0800  Indianapolis, Indiana; USA   \n",
       "2  2015-02-18 08:46:29 -0800                    Illinois   \n",
       "3  2015-02-20 16:20:26 -0800                         NaN   \n",
       "4  2015-02-19 18:13:11 -0800                         NaN   \n",
       "\n",
       "                user_timezone  \n",
       "0      Atlantic Time (Canada)  \n",
       "1  Central Time (US & Canada)  \n",
       "2  Central Time (US & Canada)  \n",
       "3      Atlantic Time (Canada)  \n",
       "4  Eastern Time (US & Canada)  "
      ]
     },
     "execution_count": 106,
     "metadata": {},
     "output_type": "execute_result"
    }
   ],
   "source": [
    "train_data.head()"
   ]
  },
  {
   "cell_type": "code",
   "execution_count": 107,
   "metadata": {},
   "outputs": [
    {
     "data": {
      "text/html": [
       "<div>\n",
       "<style scoped>\n",
       "    .dataframe tbody tr th:only-of-type {\n",
       "        vertical-align: middle;\n",
       "    }\n",
       "\n",
       "    .dataframe tbody tr th {\n",
       "        vertical-align: top;\n",
       "    }\n",
       "\n",
       "    .dataframe thead th {\n",
       "        text-align: right;\n",
       "    }\n",
       "</style>\n",
       "<table border=\"1\" class=\"dataframe\">\n",
       "  <thead>\n",
       "    <tr style=\"text-align: right;\">\n",
       "      <th></th>\n",
       "      <th>airline</th>\n",
       "      <th>airline_sentiment_gold</th>\n",
       "      <th>name</th>\n",
       "      <th>negativereason_gold</th>\n",
       "      <th>retweet_count</th>\n",
       "      <th>text</th>\n",
       "      <th>tweet_coord</th>\n",
       "      <th>tweet_created</th>\n",
       "      <th>tweet_location</th>\n",
       "      <th>user_timezone</th>\n",
       "    </tr>\n",
       "  </thead>\n",
       "  <tbody>\n",
       "    <tr>\n",
       "      <td>0</td>\n",
       "      <td>American</td>\n",
       "      <td>NaN</td>\n",
       "      <td>zsalim03</td>\n",
       "      <td>NaN</td>\n",
       "      <td>0</td>\n",
       "      <td>@AmericanAir In car gng to DFW. Pulled over 1h...</td>\n",
       "      <td>NaN</td>\n",
       "      <td>2015-02-22 18:15:50 -0800</td>\n",
       "      <td>Texas</td>\n",
       "      <td>Central Time (US &amp; Canada)</td>\n",
       "    </tr>\n",
       "    <tr>\n",
       "      <td>1</td>\n",
       "      <td>American</td>\n",
       "      <td>NaN</td>\n",
       "      <td>sa_craig</td>\n",
       "      <td>NaN</td>\n",
       "      <td>0</td>\n",
       "      <td>@AmericanAir after all, the plane didn’t land ...</td>\n",
       "      <td>NaN</td>\n",
       "      <td>2015-02-22 13:22:57 -0800</td>\n",
       "      <td>College Station, TX</td>\n",
       "      <td>Central Time (US &amp; Canada)</td>\n",
       "    </tr>\n",
       "    <tr>\n",
       "      <td>2</td>\n",
       "      <td>Southwest</td>\n",
       "      <td>NaN</td>\n",
       "      <td>DanaChristos</td>\n",
       "      <td>NaN</td>\n",
       "      <td>1</td>\n",
       "      <td>@SouthwestAir can't believe how many paying cu...</td>\n",
       "      <td>NaN</td>\n",
       "      <td>2015-02-17 18:52:31 -0800</td>\n",
       "      <td>CT</td>\n",
       "      <td>Eastern Time (US &amp; Canada)</td>\n",
       "    </tr>\n",
       "    <tr>\n",
       "      <td>3</td>\n",
       "      <td>US Airways</td>\n",
       "      <td>NaN</td>\n",
       "      <td>rossj987</td>\n",
       "      <td>NaN</td>\n",
       "      <td>0</td>\n",
       "      <td>@USAirways I can legitimately say that I would...</td>\n",
       "      <td>NaN</td>\n",
       "      <td>2015-02-22 23:16:24 -0800</td>\n",
       "      <td>Washington, D.C.</td>\n",
       "      <td>Eastern Time (US &amp; Canada)</td>\n",
       "    </tr>\n",
       "    <tr>\n",
       "      <td>4</td>\n",
       "      <td>American</td>\n",
       "      <td>NaN</td>\n",
       "      <td>tranpham18</td>\n",
       "      <td>NaN</td>\n",
       "      <td>0</td>\n",
       "      <td>@AmericanAir still no response from AA. great ...</td>\n",
       "      <td>NaN</td>\n",
       "      <td>2015-02-23 08:44:51 -0800</td>\n",
       "      <td>New York City</td>\n",
       "      <td>Eastern Time (US &amp; Canada)</td>\n",
       "    </tr>\n",
       "  </tbody>\n",
       "</table>\n",
       "</div>"
      ],
      "text/plain": [
       "      airline airline_sentiment_gold          name negativereason_gold  \\\n",
       "0    American                    NaN      zsalim03                 NaN   \n",
       "1    American                    NaN      sa_craig                 NaN   \n",
       "2   Southwest                    NaN  DanaChristos                 NaN   \n",
       "3  US Airways                    NaN      rossj987                 NaN   \n",
       "4    American                    NaN    tranpham18                 NaN   \n",
       "\n",
       "   retweet_count                                               text  \\\n",
       "0              0  @AmericanAir In car gng to DFW. Pulled over 1h...   \n",
       "1              0  @AmericanAir after all, the plane didn’t land ...   \n",
       "2              1  @SouthwestAir can't believe how many paying cu...   \n",
       "3              0  @USAirways I can legitimately say that I would...   \n",
       "4              0  @AmericanAir still no response from AA. great ...   \n",
       "\n",
       "  tweet_coord              tweet_created       tweet_location  \\\n",
       "0         NaN  2015-02-22 18:15:50 -0800                Texas   \n",
       "1         NaN  2015-02-22 13:22:57 -0800  College Station, TX   \n",
       "2         NaN  2015-02-17 18:52:31 -0800                   CT   \n",
       "3         NaN  2015-02-22 23:16:24 -0800     Washington, D.C.   \n",
       "4         NaN  2015-02-23 08:44:51 -0800        New York City   \n",
       "\n",
       "                user_timezone  \n",
       "0  Central Time (US & Canada)  \n",
       "1  Central Time (US & Canada)  \n",
       "2  Eastern Time (US & Canada)  \n",
       "3  Eastern Time (US & Canada)  \n",
       "4  Eastern Time (US & Canada)  "
      ]
     },
     "execution_count": 107,
     "metadata": {},
     "output_type": "execute_result"
    }
   ],
   "source": [
    "test_data.head()"
   ]
  },
  {
   "cell_type": "code",
   "execution_count": 108,
   "metadata": {},
   "outputs": [
    {
     "data": {
      "text/plain": [
       "airline_sentiment             0\n",
       "airline                       0\n",
       "airline_sentiment_gold    10949\n",
       "name                          0\n",
       "negativereason_gold       10956\n",
       "retweet_count                 0\n",
       "text                          0\n",
       "tweet_coord               10204\n",
       "tweet_created                 0\n",
       "tweet_location             3550\n",
       "user_timezone              3577\n",
       "dtype: int64"
      ]
     },
     "execution_count": 108,
     "metadata": {},
     "output_type": "execute_result"
    }
   ],
   "source": [
    "train_data.isnull().sum()"
   ]
  },
  {
   "cell_type": "markdown",
   "metadata": {},
   "source": [
    "## As we can see that airline_sentiment_gold,negativereason_gold and  tweet_coord contains so many nan values that they are not useful"
   ]
  },
  {
   "cell_type": "code",
   "execution_count": 109,
   "metadata": {},
   "outputs": [],
   "source": [
    "train_data.drop(['airline_sentiment_gold','negativereason_gold','tweet_coord'],axis=1,inplace=True)\n",
    "test_data.drop(['airline_sentiment_gold','negativereason_gold','tweet_coord'],axis=1,inplace=True)"
   ]
  },
  {
   "cell_type": "code",
   "execution_count": 110,
   "metadata": {},
   "outputs": [
    {
     "data": {
      "text/html": [
       "<div>\n",
       "<style scoped>\n",
       "    .dataframe tbody tr th:only-of-type {\n",
       "        vertical-align: middle;\n",
       "    }\n",
       "\n",
       "    .dataframe tbody tr th {\n",
       "        vertical-align: top;\n",
       "    }\n",
       "\n",
       "    .dataframe thead th {\n",
       "        text-align: right;\n",
       "    }\n",
       "</style>\n",
       "<table border=\"1\" class=\"dataframe\">\n",
       "  <thead>\n",
       "    <tr style=\"text-align: right;\">\n",
       "      <th></th>\n",
       "      <th>airline_sentiment</th>\n",
       "      <th>airline</th>\n",
       "      <th>name</th>\n",
       "      <th>retweet_count</th>\n",
       "      <th>text</th>\n",
       "      <th>tweet_created</th>\n",
       "      <th>tweet_location</th>\n",
       "      <th>user_timezone</th>\n",
       "    </tr>\n",
       "  </thead>\n",
       "  <tbody>\n",
       "    <tr>\n",
       "      <td>0</td>\n",
       "      <td>negative</td>\n",
       "      <td>Southwest</td>\n",
       "      <td>ColeyGirouard</td>\n",
       "      <td>0</td>\n",
       "      <td>@SouthwestAir I am scheduled for the morning, ...</td>\n",
       "      <td>2015-02-17 20:16:29 -0800</td>\n",
       "      <td>Washington D.C.</td>\n",
       "      <td>Atlantic Time (Canada)</td>\n",
       "    </tr>\n",
       "    <tr>\n",
       "      <td>1</td>\n",
       "      <td>positive</td>\n",
       "      <td>Southwest</td>\n",
       "      <td>WalterFaddoul</td>\n",
       "      <td>0</td>\n",
       "      <td>@SouthwestAir seeing your workers time in and ...</td>\n",
       "      <td>2015-02-23 14:36:22 -0800</td>\n",
       "      <td>Indianapolis, Indiana; USA</td>\n",
       "      <td>Central Time (US &amp; Canada)</td>\n",
       "    </tr>\n",
       "    <tr>\n",
       "      <td>2</td>\n",
       "      <td>positive</td>\n",
       "      <td>United</td>\n",
       "      <td>LocalKyle</td>\n",
       "      <td>0</td>\n",
       "      <td>@united Flew ORD to Miami and back and  had gr...</td>\n",
       "      <td>2015-02-18 08:46:29 -0800</td>\n",
       "      <td>Illinois</td>\n",
       "      <td>Central Time (US &amp; Canada)</td>\n",
       "    </tr>\n",
       "    <tr>\n",
       "      <td>3</td>\n",
       "      <td>negative</td>\n",
       "      <td>Southwest</td>\n",
       "      <td>amccarthy19</td>\n",
       "      <td>0</td>\n",
       "      <td>@SouthwestAir @dultch97 that's horse radish 😤🐴</td>\n",
       "      <td>2015-02-20 16:20:26 -0800</td>\n",
       "      <td>NaN</td>\n",
       "      <td>Atlantic Time (Canada)</td>\n",
       "    </tr>\n",
       "    <tr>\n",
       "      <td>4</td>\n",
       "      <td>negative</td>\n",
       "      <td>United</td>\n",
       "      <td>J_Okayy</td>\n",
       "      <td>0</td>\n",
       "      <td>@united so our flight into ORD was delayed bec...</td>\n",
       "      <td>2015-02-19 18:13:11 -0800</td>\n",
       "      <td>NaN</td>\n",
       "      <td>Eastern Time (US &amp; Canada)</td>\n",
       "    </tr>\n",
       "  </tbody>\n",
       "</table>\n",
       "</div>"
      ],
      "text/plain": [
       "  airline_sentiment    airline           name  retweet_count  \\\n",
       "0          negative  Southwest  ColeyGirouard              0   \n",
       "1          positive  Southwest  WalterFaddoul              0   \n",
       "2          positive     United      LocalKyle              0   \n",
       "3          negative  Southwest    amccarthy19              0   \n",
       "4          negative     United        J_Okayy              0   \n",
       "\n",
       "                                                text  \\\n",
       "0  @SouthwestAir I am scheduled for the morning, ...   \n",
       "1  @SouthwestAir seeing your workers time in and ...   \n",
       "2  @united Flew ORD to Miami and back and  had gr...   \n",
       "3     @SouthwestAir @dultch97 that's horse radish 😤🐴   \n",
       "4  @united so our flight into ORD was delayed bec...   \n",
       "\n",
       "               tweet_created              tweet_location  \\\n",
       "0  2015-02-17 20:16:29 -0800             Washington D.C.   \n",
       "1  2015-02-23 14:36:22 -0800  Indianapolis, Indiana; USA   \n",
       "2  2015-02-18 08:46:29 -0800                    Illinois   \n",
       "3  2015-02-20 16:20:26 -0800                         NaN   \n",
       "4  2015-02-19 18:13:11 -0800                         NaN   \n",
       "\n",
       "                user_timezone  \n",
       "0      Atlantic Time (Canada)  \n",
       "1  Central Time (US & Canada)  \n",
       "2  Central Time (US & Canada)  \n",
       "3      Atlantic Time (Canada)  \n",
       "4  Eastern Time (US & Canada)  "
      ]
     },
     "execution_count": 110,
     "metadata": {},
     "output_type": "execute_result"
    }
   ],
   "source": [
    "train_data.head()"
   ]
  },
  {
   "cell_type": "code",
   "execution_count": 111,
   "metadata": {},
   "outputs": [
    {
     "data": {
      "text/plain": [
       "airline_sentiment       0\n",
       "airline                 0\n",
       "name                    0\n",
       "retweet_count           0\n",
       "text                    0\n",
       "tweet_created           0\n",
       "tweet_location       3550\n",
       "user_timezone        3577\n",
       "dtype: int64"
      ]
     },
     "execution_count": 111,
     "metadata": {},
     "output_type": "execute_result"
    }
   ],
   "source": [
    "train_data.isnull().sum()"
   ]
  },
  {
   "cell_type": "code",
   "execution_count": 112,
   "metadata": {},
   "outputs": [
    {
     "data": {
      "text/plain": [
       "airline              0\n",
       "name                 0\n",
       "retweet_count        0\n",
       "text                 0\n",
       "tweet_created        0\n",
       "tweet_location    1183\n",
       "user_timezone     1243\n",
       "dtype: int64"
      ]
     },
     "execution_count": 112,
     "metadata": {},
     "output_type": "execute_result"
    }
   ],
   "source": [
    "test_data.isnull().sum()"
   ]
  },
  {
   "cell_type": "code",
   "execution_count": 113,
   "metadata": {},
   "outputs": [],
   "source": [
    "positive_sentiment_df=train_data[train_data.airline_sentiment=='positive']\n",
    "negative_sentiment_df=train_data[train_data.airline_sentiment=='negative']\n",
    "neutral_sentiment_df=train_data[train_data.airline_sentiment=='neutral']"
   ]
  },
  {
   "cell_type": "code",
   "execution_count": 114,
   "metadata": {},
   "outputs": [
    {
     "data": {
      "image/png": "[encoded data removed]",
      "text/plain": [
       "<Figure size 1080x720 with 1 Axes>"
      ]
     },
     "metadata": {
      "needs_background": "light"
     },
     "output_type": "display_data"
    }
   ],
   "source": [
    "(keys,values)=np.unique(positive_sentiment_df.airline,return_counts=True)\n",
    "plt.bar(keys,values,align='center', alpha=0.5,color='b')\n",
    "plt.xlabel('Airline')\n",
    "plt.ylabel('Positive Tweets')\n",
    "plt.title('Positive tweets vs airline')\n",
    "plt.show()"
   ]
  },
  {
   "cell_type": "code",
   "execution_count": 115,
   "metadata": {},
   "outputs": [
    {
     "data": {
      "image/png": "[encoded data removed]",
      "text/plain": [
       "<Figure size 1080x720 with 1 Axes>"
      ]
     },
     "metadata": {
      "needs_background": "light"
     },
     "output_type": "display_data"
    }
   ],
   "source": [
    "(keys,values)=np.unique(negative_sentiment_df.airline,return_counts=True)\n",
    "plt.bar(keys,values,align='center', alpha=0.5,color='r')\n",
    "plt.xlabel('Airline')\n",
    "plt.ylabel('Negative Tweets')\n",
    "plt.title('Negative tweets vs airline')\n",
    "plt.show()"
   ]
  },
  {
   "cell_type": "code",
   "execution_count": 116,
   "metadata": {},
   "outputs": [
    {
     "data": {
      "image/png": "[encoded data removed]",
      "text/plain": [
       "<Figure size 1080x720 with 1 Axes>"
      ]
     },
     "metadata": {
      "needs_background": "light"
     },
     "output_type": "display_data"
    }
   ],
   "source": [
    "(keys,values)=np.unique(negative_sentiment_df.airline,return_counts=True)\n",
    "plt.bar(keys,values,align='center', alpha=0.5,color='g')\n",
    "plt.xlabel('Airline')\n",
    "plt.ylabel('Neutal Tweets')\n",
    "plt.title('Neutral tweets vs airline')\n",
    "plt.show()"
   ]
  },
  {
   "cell_type": "markdown",
   "metadata": {},
   "source": [
    "## So we see that sentiment differs for different airlines as well thus it's an important feature "
   ]
  },
  {
   "cell_type": "code",
   "execution_count": 117,
   "metadata": {},
   "outputs": [],
   "source": [
    "airline_train_dummies=pd.get_dummies(train_data.airline)"
   ]
  },
  {
   "cell_type": "code",
   "execution_count": 118,
   "metadata": {},
   "outputs": [],
   "source": [
    "train_data2=pd.concat([train_data,airline_train_dummies],axis=1)"
   ]
  },
  {
   "cell_type": "code",
   "execution_count": 119,
   "metadata": {},
   "outputs": [],
   "source": [
    "airline_test_dummies=pd.get_dummies(test_data.airline)"
   ]
  },
  {
   "cell_type": "code",
   "execution_count": 120,
   "metadata": {},
   "outputs": [],
   "source": [
    "test_data2=pd.concat([test_data,airline_test_dummies],axis=1)"
   ]
  },
  {
   "cell_type": "code",
   "execution_count": 121,
   "metadata": {},
   "outputs": [
    {
     "data": {
      "text/html": [
       "<div>\n",
       "<style scoped>\n",
       "    .dataframe tbody tr th:only-of-type {\n",
       "        vertical-align: middle;\n",
       "    }\n",
       "\n",
       "    .dataframe tbody tr th {\n",
       "        vertical-align: top;\n",
       "    }\n",
       "\n",
       "    .dataframe thead th {\n",
       "        text-align: right;\n",
       "    }\n",
       "</style>\n",
       "<table border=\"1\" class=\"dataframe\">\n",
       "  <thead>\n",
       "    <tr style=\"text-align: right;\">\n",
       "      <th></th>\n",
       "      <th>airline_sentiment</th>\n",
       "      <th>airline</th>\n",
       "      <th>name</th>\n",
       "      <th>retweet_count</th>\n",
       "      <th>text</th>\n",
       "      <th>tweet_created</th>\n",
       "      <th>tweet_location</th>\n",
       "      <th>user_timezone</th>\n",
       "      <th>American</th>\n",
       "      <th>Delta</th>\n",
       "      <th>Southwest</th>\n",
       "      <th>US Airways</th>\n",
       "      <th>United</th>\n",
       "      <th>Virgin America</th>\n",
       "    </tr>\n",
       "  </thead>\n",
       "  <tbody>\n",
       "    <tr>\n",
       "      <td>0</td>\n",
       "      <td>negative</td>\n",
       "      <td>Southwest</td>\n",
       "      <td>ColeyGirouard</td>\n",
       "      <td>0</td>\n",
       "      <td>@SouthwestAir I am scheduled for the morning, ...</td>\n",
       "      <td>2015-02-17 20:16:29 -0800</td>\n",
       "      <td>Washington D.C.</td>\n",
       "      <td>Atlantic Time (Canada)</td>\n",
       "      <td>0</td>\n",
       "      <td>0</td>\n",
       "      <td>1</td>\n",
       "      <td>0</td>\n",
       "      <td>0</td>\n",
       "      <td>0</td>\n",
       "    </tr>\n",
       "    <tr>\n",
       "      <td>1</td>\n",
       "      <td>positive</td>\n",
       "      <td>Southwest</td>\n",
       "      <td>WalterFaddoul</td>\n",
       "      <td>0</td>\n",
       "      <td>@SouthwestAir seeing your workers time in and ...</td>\n",
       "      <td>2015-02-23 14:36:22 -0800</td>\n",
       "      <td>Indianapolis, Indiana; USA</td>\n",
       "      <td>Central Time (US &amp; Canada)</td>\n",
       "      <td>0</td>\n",
       "      <td>0</td>\n",
       "      <td>1</td>\n",
       "      <td>0</td>\n",
       "      <td>0</td>\n",
       "      <td>0</td>\n",
       "    </tr>\n",
       "    <tr>\n",
       "      <td>2</td>\n",
       "      <td>positive</td>\n",
       "      <td>United</td>\n",
       "      <td>LocalKyle</td>\n",
       "      <td>0</td>\n",
       "      <td>@united Flew ORD to Miami and back and  had gr...</td>\n",
       "      <td>2015-02-18 08:46:29 -0800</td>\n",
       "      <td>Illinois</td>\n",
       "      <td>Central Time (US &amp; Canada)</td>\n",
       "      <td>0</td>\n",
       "      <td>0</td>\n",
       "      <td>0</td>\n",
       "      <td>0</td>\n",
       "      <td>1</td>\n",
       "      <td>0</td>\n",
       "    </tr>\n",
       "    <tr>\n",
       "      <td>3</td>\n",
       "      <td>negative</td>\n",
       "      <td>Southwest</td>\n",
       "      <td>amccarthy19</td>\n",
       "      <td>0</td>\n",
       "      <td>@SouthwestAir @dultch97 that's horse radish 😤🐴</td>\n",
       "      <td>2015-02-20 16:20:26 -0800</td>\n",
       "      <td>NaN</td>\n",
       "      <td>Atlantic Time (Canada)</td>\n",
       "      <td>0</td>\n",
       "      <td>0</td>\n",
       "      <td>1</td>\n",
       "      <td>0</td>\n",
       "      <td>0</td>\n",
       "      <td>0</td>\n",
       "    </tr>\n",
       "    <tr>\n",
       "      <td>4</td>\n",
       "      <td>negative</td>\n",
       "      <td>United</td>\n",
       "      <td>J_Okayy</td>\n",
       "      <td>0</td>\n",
       "      <td>@united so our flight into ORD was delayed bec...</td>\n",
       "      <td>2015-02-19 18:13:11 -0800</td>\n",
       "      <td>NaN</td>\n",
       "      <td>Eastern Time (US &amp; Canada)</td>\n",
       "      <td>0</td>\n",
       "      <td>0</td>\n",
       "      <td>0</td>\n",
       "      <td>0</td>\n",
       "      <td>1</td>\n",
       "      <td>0</td>\n",
       "    </tr>\n",
       "  </tbody>\n",
       "</table>\n",
       "</div>"
      ],
      "text/plain": [
       "  airline_sentiment    airline           name  retweet_count  \\\n",
       "0          negative  Southwest  ColeyGirouard              0   \n",
       "1          positive  Southwest  WalterFaddoul              0   \n",
       "2          positive     United      LocalKyle              0   \n",
       "3          negative  Southwest    amccarthy19              0   \n",
       "4          negative     United        J_Okayy              0   \n",
       "\n",
       "                                                text  \\\n",
       "0  @SouthwestAir I am scheduled for the morning, ...   \n",
       "1  @SouthwestAir seeing your workers time in and ...   \n",
       "2  @united Flew ORD to Miami and back and  had gr...   \n",
       "3     @SouthwestAir @dultch97 that's horse radish 😤🐴   \n",
       "4  @united so our flight into ORD was delayed bec...   \n",
       "\n",
       "               tweet_created              tweet_location  \\\n",
       "0  2015-02-17 20:16:29 -0800             Washington D.C.   \n",
       "1  2015-02-23 14:36:22 -0800  Indianapolis, Indiana; USA   \n",
       "2  2015-02-18 08:46:29 -0800                    Illinois   \n",
       "3  2015-02-20 16:20:26 -0800                         NaN   \n",
       "4  2015-02-19 18:13:11 -0800                         NaN   \n",
       "\n",
       "                user_timezone  American  Delta  Southwest  US Airways  United  \\\n",
       "0      Atlantic Time (Canada)         0      0          1           0       0   \n",
       "1  Central Time (US & Canada)         0      0          1           0       0   \n",
       "2  Central Time (US & Canada)         0      0          0           0       1   \n",
       "3      Atlantic Time (Canada)         0      0          1           0       0   \n",
       "4  Eastern Time (US & Canada)         0      0          0           0       1   \n",
       "\n",
       "   Virgin America  \n",
       "0               0  \n",
       "1               0  \n",
       "2               0  \n",
       "3               0  \n",
       "4               0  "
      ]
     },
     "execution_count": 121,
     "metadata": {},
     "output_type": "execute_result"
    }
   ],
   "source": [
    "train_data2.head()"
   ]
  },
  {
   "cell_type": "code",
   "execution_count": 122,
   "metadata": {},
   "outputs": [],
   "source": [
    "min_count=20\n",
    "names=(train_data2.name.value_counts() < min_count)"
   ]
  },
  {
   "cell_type": "code",
   "execution_count": 123,
   "metadata": {},
   "outputs": [],
   "source": [
    "train_data2['name']=train_data2['name'].apply(lambda name:'name_other' if names.loc[name]==True else name)"
   ]
  },
  {
   "cell_type": "code",
   "execution_count": 124,
   "metadata": {},
   "outputs": [
    {
     "data": {
      "text/plain": [
       "array(['name_other', 'JetBlueNews', '_mhertz', 'otisday'], dtype=object)"
      ]
     },
     "execution_count": 124,
     "metadata": {},
     "output_type": "execute_result"
    }
   ],
   "source": [
    "train_data2.name.unique()"
   ]
  },
  {
   "cell_type": "code",
   "execution_count": 125,
   "metadata": {},
   "outputs": [],
   "source": [
    "distinct_names=train_data2.name.value_counts()"
   ]
  },
  {
   "cell_type": "code",
   "execution_count": 126,
   "metadata": {},
   "outputs": [
    {
     "data": {
      "text/plain": [
       "name_other     10890\n",
       "JetBlueNews       43\n",
       "otisday           25\n",
       "_mhertz           22\n",
       "Name: name, dtype: int64"
      ]
     },
     "execution_count": 126,
     "metadata": {},
     "output_type": "execute_result"
    }
   ],
   "source": [
    "distinct_names"
   ]
  },
  {
   "cell_type": "code",
   "execution_count": 127,
   "metadata": {},
   "outputs": [
    {
     "data": {
      "text/plain": [
       "array(['zsalim03', 'sa_craig', 'DanaChristos', ..., 'Anthony_Scerri',\n",
       "       'GoldensPleasure', 'suntoshi'], dtype=object)"
      ]
     },
     "execution_count": 127,
     "metadata": {},
     "output_type": "execute_result"
    }
   ],
   "source": [
    "test_data2.name.unique()"
   ]
  },
  {
   "cell_type": "code",
   "execution_count": 128,
   "metadata": {},
   "outputs": [
    {
     "data": {
      "text/plain": [
       "((10980, 14), (3660, 13))"
      ]
     },
     "execution_count": 128,
     "metadata": {},
     "output_type": "execute_result"
    }
   ],
   "source": [
    "train_data2.shape,test_data2.shape"
   ]
  },
  {
   "cell_type": "code",
   "execution_count": 129,
   "metadata": {},
   "outputs": [],
   "source": [
    "test_data2['name']=test_data['name'].apply(lambda name:'name_other' if name not in distinct_names else name)"
   ]
  },
  {
   "cell_type": "code",
   "execution_count": 130,
   "metadata": {},
   "outputs": [
    {
     "data": {
      "text/plain": [
       "array(['name_other', 'JetBlueNews', 'otisday', '_mhertz'], dtype=object)"
      ]
     },
     "execution_count": 130,
     "metadata": {},
     "output_type": "execute_result"
    }
   ],
   "source": [
    "test_data2.name.unique()"
   ]
  },
  {
   "cell_type": "code",
   "execution_count": 131,
   "metadata": {},
   "outputs": [],
   "source": [
    "name_train_dummies=pd.get_dummies(train_data2.name)"
   ]
  },
  {
   "cell_type": "code",
   "execution_count": 132,
   "metadata": {},
   "outputs": [],
   "source": [
    "train_data3=pd.concat([train_data2,name_train_dummies],axis=1)"
   ]
  },
  {
   "cell_type": "code",
   "execution_count": 133,
   "metadata": {},
   "outputs": [],
   "source": [
    "name_test_dummies=pd.get_dummies(test_data2.name)"
   ]
  },
  {
   "cell_type": "code",
   "execution_count": 134,
   "metadata": {},
   "outputs": [],
   "source": [
    "test_data3=pd.concat([test_data2,name_test_dummies],axis=1)"
   ]
  },
  {
   "cell_type": "code",
   "execution_count": 135,
   "metadata": {},
   "outputs": [
    {
     "data": {
      "text/plain": [
       "((10980, 18), (3660, 17))"
      ]
     },
     "execution_count": 135,
     "metadata": {},
     "output_type": "execute_result"
    }
   ],
   "source": [
    "train_data3.shape,test_data3.shape"
   ]
  },
  {
   "cell_type": "code",
   "execution_count": 136,
   "metadata": {},
   "outputs": [
    {
     "data": {
      "text/plain": [
       "airline_sentiment       0\n",
       "airline                 0\n",
       "name                    0\n",
       "retweet_count           0\n",
       "text                    0\n",
       "tweet_created           0\n",
       "tweet_location       3550\n",
       "user_timezone        3577\n",
       "American                0\n",
       "Delta                   0\n",
       "Southwest               0\n",
       "US Airways              0\n",
       "United                  0\n",
       "Virgin America          0\n",
       "JetBlueNews             0\n",
       "_mhertz                 0\n",
       "name_other              0\n",
       "otisday                 0\n",
       "dtype: int64"
      ]
     },
     "execution_count": 136,
     "metadata": {},
     "output_type": "execute_result"
    }
   ],
   "source": [
    "train_data3.isnull().sum()"
   ]
  },
  {
   "cell_type": "code",
   "execution_count": 137,
   "metadata": {},
   "outputs": [
    {
     "data": {
      "text/plain": [
       "airline              0\n",
       "name                 0\n",
       "retweet_count        0\n",
       "text                 0\n",
       "tweet_created        0\n",
       "tweet_location    1183\n",
       "user_timezone     1243\n",
       "American             0\n",
       "Delta                0\n",
       "Southwest            0\n",
       "US Airways           0\n",
       "United               0\n",
       "Virgin America       0\n",
       "JetBlueNews          0\n",
       "_mhertz              0\n",
       "name_other           0\n",
       "otisday              0\n",
       "dtype: int64"
      ]
     },
     "execution_count": 137,
     "metadata": {},
     "output_type": "execute_result"
    }
   ],
   "source": [
    "test_data3.isnull().sum()"
   ]
  },
  {
   "cell_type": "markdown",
   "metadata": {},
   "source": [
    "## Since we don't know what's an apt fill up for tweet_location and user_timezone we'll drop it"
   ]
  },
  {
   "cell_type": "code",
   "execution_count": 138,
   "metadata": {},
   "outputs": [],
   "source": [
    "train_data3.drop(['tweet_location','user_timezone'],axis=1,inplace=True)"
   ]
  },
  {
   "cell_type": "code",
   "execution_count": 139,
   "metadata": {},
   "outputs": [],
   "source": [
    "test_data3.drop(['tweet_location','user_timezone'],axis=1,inplace=True)"
   ]
  },
  {
   "cell_type": "code",
   "execution_count": 140,
   "metadata": {},
   "outputs": [
    {
     "data": {
      "text/plain": [
       "((10980, 16), (3660, 15))"
      ]
     },
     "execution_count": 140,
     "metadata": {},
     "output_type": "execute_result"
    }
   ],
   "source": [
    "train_data3.shape,test_data3.shape"
   ]
  },
  {
   "cell_type": "code",
   "execution_count": 141,
   "metadata": {},
   "outputs": [
    {
     "data": {
      "text/plain": [
       "10758"
      ]
     },
     "execution_count": 141,
     "metadata": {},
     "output_type": "execute_result"
    }
   ],
   "source": [
    "len(train_data3.tweet_created.unique())"
   ]
  },
  {
   "cell_type": "markdown",
   "metadata": {},
   "source": [
    "## tweet_created is the time at which tweet is created so a lot of unique values hence dropping it"
   ]
  },
  {
   "cell_type": "code",
   "execution_count": 142,
   "metadata": {},
   "outputs": [],
   "source": [
    "train_data3.drop('tweet_created',axis=1,inplace=True )"
   ]
  },
  {
   "cell_type": "code",
   "execution_count": 143,
   "metadata": {},
   "outputs": [],
   "source": [
    "test_data3.drop('tweet_created',axis=1,inplace=True)"
   ]
  },
  {
   "cell_type": "code",
   "execution_count": 144,
   "metadata": {},
   "outputs": [
    {
     "data": {
      "text/html": [
       "<div>\n",
       "<style scoped>\n",
       "    .dataframe tbody tr th:only-of-type {\n",
       "        vertical-align: middle;\n",
       "    }\n",
       "\n",
       "    .dataframe tbody tr th {\n",
       "        vertical-align: top;\n",
       "    }\n",
       "\n",
       "    .dataframe thead th {\n",
       "        text-align: right;\n",
       "    }\n",
       "</style>\n",
       "<table border=\"1\" class=\"dataframe\">\n",
       "  <thead>\n",
       "    <tr style=\"text-align: right;\">\n",
       "      <th></th>\n",
       "      <th>airline_sentiment</th>\n",
       "      <th>airline</th>\n",
       "      <th>name</th>\n",
       "      <th>retweet_count</th>\n",
       "      <th>text</th>\n",
       "      <th>American</th>\n",
       "      <th>Delta</th>\n",
       "      <th>Southwest</th>\n",
       "      <th>US Airways</th>\n",
       "      <th>United</th>\n",
       "      <th>Virgin America</th>\n",
       "      <th>JetBlueNews</th>\n",
       "      <th>_mhertz</th>\n",
       "      <th>name_other</th>\n",
       "      <th>otisday</th>\n",
       "    </tr>\n",
       "  </thead>\n",
       "  <tbody>\n",
       "    <tr>\n",
       "      <td>0</td>\n",
       "      <td>negative</td>\n",
       "      <td>Southwest</td>\n",
       "      <td>name_other</td>\n",
       "      <td>0</td>\n",
       "      <td>@SouthwestAir I am scheduled for the morning, ...</td>\n",
       "      <td>0</td>\n",
       "      <td>0</td>\n",
       "      <td>1</td>\n",
       "      <td>0</td>\n",
       "      <td>0</td>\n",
       "      <td>0</td>\n",
       "      <td>0</td>\n",
       "      <td>0</td>\n",
       "      <td>1</td>\n",
       "      <td>0</td>\n",
       "    </tr>\n",
       "    <tr>\n",
       "      <td>1</td>\n",
       "      <td>positive</td>\n",
       "      <td>Southwest</td>\n",
       "      <td>name_other</td>\n",
       "      <td>0</td>\n",
       "      <td>@SouthwestAir seeing your workers time in and ...</td>\n",
       "      <td>0</td>\n",
       "      <td>0</td>\n",
       "      <td>1</td>\n",
       "      <td>0</td>\n",
       "      <td>0</td>\n",
       "      <td>0</td>\n",
       "      <td>0</td>\n",
       "      <td>0</td>\n",
       "      <td>1</td>\n",
       "      <td>0</td>\n",
       "    </tr>\n",
       "    <tr>\n",
       "      <td>2</td>\n",
       "      <td>positive</td>\n",
       "      <td>United</td>\n",
       "      <td>name_other</td>\n",
       "      <td>0</td>\n",
       "      <td>@united Flew ORD to Miami and back and  had gr...</td>\n",
       "      <td>0</td>\n",
       "      <td>0</td>\n",
       "      <td>0</td>\n",
       "      <td>0</td>\n",
       "      <td>1</td>\n",
       "      <td>0</td>\n",
       "      <td>0</td>\n",
       "      <td>0</td>\n",
       "      <td>1</td>\n",
       "      <td>0</td>\n",
       "    </tr>\n",
       "    <tr>\n",
       "      <td>3</td>\n",
       "      <td>negative</td>\n",
       "      <td>Southwest</td>\n",
       "      <td>name_other</td>\n",
       "      <td>0</td>\n",
       "      <td>@SouthwestAir @dultch97 that's horse radish 😤🐴</td>\n",
       "      <td>0</td>\n",
       "      <td>0</td>\n",
       "      <td>1</td>\n",
       "      <td>0</td>\n",
       "      <td>0</td>\n",
       "      <td>0</td>\n",
       "      <td>0</td>\n",
       "      <td>0</td>\n",
       "      <td>1</td>\n",
       "      <td>0</td>\n",
       "    </tr>\n",
       "    <tr>\n",
       "      <td>4</td>\n",
       "      <td>negative</td>\n",
       "      <td>United</td>\n",
       "      <td>name_other</td>\n",
       "      <td>0</td>\n",
       "      <td>@united so our flight into ORD was delayed bec...</td>\n",
       "      <td>0</td>\n",
       "      <td>0</td>\n",
       "      <td>0</td>\n",
       "      <td>0</td>\n",
       "      <td>1</td>\n",
       "      <td>0</td>\n",
       "      <td>0</td>\n",
       "      <td>0</td>\n",
       "      <td>1</td>\n",
       "      <td>0</td>\n",
       "    </tr>\n",
       "  </tbody>\n",
       "</table>\n",
       "</div>"
      ],
      "text/plain": [
       "  airline_sentiment    airline        name  retweet_count  \\\n",
       "0          negative  Southwest  name_other              0   \n",
       "1          positive  Southwest  name_other              0   \n",
       "2          positive     United  name_other              0   \n",
       "3          negative  Southwest  name_other              0   \n",
       "4          negative     United  name_other              0   \n",
       "\n",
       "                                                text  American  Delta  \\\n",
       "0  @SouthwestAir I am scheduled for the morning, ...         0      0   \n",
       "1  @SouthwestAir seeing your workers time in and ...         0      0   \n",
       "2  @united Flew ORD to Miami and back and  had gr...         0      0   \n",
       "3     @SouthwestAir @dultch97 that's horse radish 😤🐴         0      0   \n",
       "4  @united so our flight into ORD was delayed bec...         0      0   \n",
       "\n",
       "   Southwest  US Airways  United  Virgin America  JetBlueNews  _mhertz  \\\n",
       "0          1           0       0               0            0        0   \n",
       "1          1           0       0               0            0        0   \n",
       "2          0           0       1               0            0        0   \n",
       "3          1           0       0               0            0        0   \n",
       "4          0           0       1               0            0        0   \n",
       "\n",
       "   name_other  otisday  \n",
       "0           1        0  \n",
       "1           1        0  \n",
       "2           1        0  \n",
       "3           1        0  \n",
       "4           1        0  "
      ]
     },
     "execution_count": 144,
     "metadata": {},
     "output_type": "execute_result"
    }
   ],
   "source": [
    "train_data3.head()"
   ]
  },
  {
   "cell_type": "code",
   "execution_count": 145,
   "metadata": {},
   "outputs": [],
   "source": [
    "text_train=train_data3['text']\n",
    "text_test=test_data3['text']"
   ]
  },
  {
   "cell_type": "markdown",
   "metadata": {},
   "source": [
    "## We'll clean the text seperately and then add it back in the data frame till that time we'll drop it"
   ]
  },
  {
   "cell_type": "code",
   "execution_count": 146,
   "metadata": {},
   "outputs": [],
   "source": [
    "train_data3.drop('text',axis=1,inplace=True)\n",
    "test_data3.drop('text',axis=1,inplace=True)"
   ]
  },
  {
   "cell_type": "code",
   "execution_count": 147,
   "metadata": {},
   "outputs": [],
   "source": [
    "from nltk.corpus import stopwords\n",
    "from nltk.tokenize import word_tokenize\n",
    "import string\n",
    "import nltk\n",
    "from nltk import pos_tag"
   ]
  },
  {
   "cell_type": "code",
   "execution_count": 148,
   "metadata": {},
   "outputs": [],
   "source": [
    "from nltk.stem import WordNetLemmatizer"
   ]
  },
  {
   "cell_type": "code",
   "execution_count": 149,
   "metadata": {},
   "outputs": [],
   "source": [
    "stop_words=stopwords.words('english')\n",
    "stop_words.extend(string.punctuation)"
   ]
  },
  {
   "cell_type": "code",
   "execution_count": 150,
   "metadata": {},
   "outputs": [],
   "source": [
    "from nltk.corpus import wordnet\n",
    "\n",
    "def get_wordnet_pos(treebank_tag):\n",
    "\n",
    "    if treebank_tag.startswith('J'):\n",
    "        return wordnet.ADJ\n",
    "    elif treebank_tag.startswith('V'):\n",
    "        return wordnet.VERB\n",
    "    elif treebank_tag.startswith('N'):\n",
    "        return wordnet.NOUN\n",
    "    elif treebank_tag.startswith('R'):\n",
    "        return wordnet.ADV\n",
    "    else:\n",
    "        return wordnet.NOUN"
   ]
  },
  {
   "cell_type": "code",
   "execution_count": 151,
   "metadata": {},
   "outputs": [
    {
     "data": {
      "text/plain": [
       "'n'"
      ]
     },
     "execution_count": 151,
     "metadata": {},
     "output_type": "execute_result"
    }
   ],
   "source": [
    "tag=pos_tag(['ankit'])\n",
    "get_wordnet_pos(tag[0][1])"
   ]
  },
  {
   "cell_type": "code",
   "execution_count": 152,
   "metadata": {},
   "outputs": [],
   "source": [
    "lemmatizer=WordNetLemmatizer()\n",
    "\n",
    "def clean_data(text):\n",
    "    words=word_tokenize(text.lower())\n",
    "    clean_words=[]\n",
    "    for word in words:\n",
    "        if (word not in stop_words) and (word.isdigit()==False):\n",
    "            curr_word_pos=pos_tag([word])\n",
    "            simple_pos_tag=get_wordnet_pos(curr_word_pos[0][1])\n",
    "            clean_words.append(lemmatizer.lemmatize(word,simple_pos_tag))\n",
    "    return clean_words"
   ]
  },
  {
   "cell_type": "code",
   "execution_count": 153,
   "metadata": {},
   "outputs": [
    {
     "data": {
      "text/plain": [
       "'southwestair schedule morning day fact yes..not sure even flight one cancel flightled'"
      ]
     },
     "execution_count": 153,
     "metadata": {},
     "output_type": "execute_result"
    }
   ],
   "source": [
    "words_list=clean_data(text_train[0])\n",
    "\" \".join(words_list)"
   ]
  },
  {
   "cell_type": "code",
   "execution_count": 154,
   "metadata": {},
   "outputs": [],
   "source": [
    "clean_text_train=[clean_data(current_text) for current_text in text_train]"
   ]
  },
  {
   "cell_type": "code",
   "execution_count": 155,
   "metadata": {},
   "outputs": [],
   "source": [
    "clean_text_test=[clean_data(current_text) for current_text in text_test]"
   ]
  },
  {
   "cell_type": "code",
   "execution_count": 156,
   "metadata": {},
   "outputs": [],
   "source": [
    "clean_text_train_strings=[\" \".join(word_list) for word_list in clean_text_train]"
   ]
  },
  {
   "cell_type": "code",
   "execution_count": 157,
   "metadata": {},
   "outputs": [],
   "source": [
    "clean_text_test_strings=[\" \".join(word_list) for word_list in clean_text_test]"
   ]
  },
  {
   "cell_type": "code",
   "execution_count": 158,
   "metadata": {},
   "outputs": [],
   "source": [
    "from sklearn.feature_extraction.text import CountVectorizer"
   ]
  },
  {
   "cell_type": "code",
   "execution_count": 159,
   "metadata": {},
   "outputs": [],
   "source": [
    "count_vec=CountVectorizer(max_features=3000,ngram_range=(1,2))\n",
    "train_text_sparse_matrix=count_vec.fit_transform(clean_text_train_strings)"
   ]
  },
  {
   "cell_type": "code",
   "execution_count": 179,
   "metadata": {},
   "outputs": [
    {
     "data": {
      "text/plain": [
       "['00',\n",
       " '000',\n",
       " '000 mile',\n",
       " '10',\n",
       " '10pm',\n",
       " '11',\n",
       " '11 30',\n",
       " '12',\n",
       " '15',\n",
       " '16',\n",
       " '17',\n",
       " '19',\n",
       " '1hr',\n",
       " '1k',\n",
       " '1st',\n",
       " '1st class',\n",
       " '1st flight',\n",
       " '1st time',\n",
       " '20',\n",
       " '2015',\n",
       " '21',\n",
       " '22',\n",
       " '23',\n",
       " '24',\n",
       " '24hrs',\n",
       " '25',\n",
       " '27',\n",
       " '28',\n",
       " '2day',\n",
       " '2hrs',\n",
       " '2nd',\n",
       " '2nd time',\n",
       " '2x',\n",
       " '30',\n",
       " '30am',\n",
       " '30pm',\n",
       " '35',\n",
       " '3am',\n",
       " '3hrs',\n",
       " '3rd',\n",
       " '3rd time',\n",
       " '40',\n",
       " '45',\n",
       " '4pm',\n",
       " '4th',\n",
       " '50',\n",
       " '55',\n",
       " '5hrs',\n",
       " '5th',\n",
       " '728',\n",
       " '7am',\n",
       " '800',\n",
       " '8am',\n",
       " '8pm',\n",
       " 'a320',\n",
       " 'aa',\n",
       " 'aadvantage',\n",
       " 'abc',\n",
       " 'ability',\n",
       " 'able',\n",
       " 'able get',\n",
       " 'absolute',\n",
       " 'absolutely',\n",
       " 'absurd',\n",
       " 'accept',\n",
       " 'acceptable',\n",
       " 'accepted',\n",
       " 'access',\n",
       " 'accommodate',\n",
       " 'accommodation',\n",
       " 'accord',\n",
       " 'account',\n",
       " 'acct',\n",
       " 'across',\n",
       " 'act',\n",
       " 'action',\n",
       " 'actual',\n",
       " 'actually',\n",
       " 'add',\n",
       " 'add flight',\n",
       " 'additional',\n",
       " 'address',\n",
       " 'admiral',\n",
       " 'admiral club',\n",
       " 'advance',\n",
       " 'advantage',\n",
       " 'advice',\n",
       " 'advise',\n",
       " 'advisory',\n",
       " 'afford',\n",
       " 'afternoon',\n",
       " 'age',\n",
       " 'agent',\n",
       " 'agent gate',\n",
       " 'agent help',\n",
       " 'agent phone',\n",
       " 'agent say',\n",
       " 'ago',\n",
       " 'ah',\n",
       " 'ahead',\n",
       " 'air',\n",
       " 'airbus',\n",
       " 'aircraft',\n",
       " 'airfare',\n",
       " 'airline',\n",
       " 'airline cancel',\n",
       " 'airline ever',\n",
       " 'airline flight',\n",
       " 'airline get',\n",
       " 'airline ve',\n",
       " 'airplane',\n",
       " 'airport',\n",
       " 'airport flight',\n",
       " 'airport hour',\n",
       " 'airport http',\n",
       " 'airway',\n",
       " 'alert',\n",
       " 'all',\n",
       " 'alliance',\n",
       " 'allow',\n",
       " 'almost',\n",
       " 'almost hour',\n",
       " 'alone',\n",
       " 'along',\n",
       " 'already',\n",
       " 'already cancel',\n",
       " 'alright',\n",
       " 'also',\n",
       " 'alternate',\n",
       " 'although',\n",
       " 'always',\n",
       " 'am',\n",
       " 'amaze',\n",
       " 'amaze customer',\n",
       " 'america',\n",
       " 'american',\n",
       " 'american airline',\n",
       " 'americanair',\n",
       " 'americanair aa',\n",
       " 'americanair airport',\n",
       " 'americanair already',\n",
       " 'americanair also',\n",
       " 'americanair awesome',\n",
       " 'americanair bad',\n",
       " 'americanair bag',\n",
       " 'americanair best',\n",
       " 'americanair ca',\n",
       " 'americanair call',\n",
       " 'americanair cancel',\n",
       " 'americanair change',\n",
       " 'americanair check',\n",
       " 'americanair could',\n",
       " 'americanair customer',\n",
       " 'americanair delay',\n",
       " 'americanair dm',\n",
       " 'americanair even',\n",
       " 'americanair flight',\n",
       " 'americanair fly',\n",
       " 'americanair gate',\n",
       " 'americanair get',\n",
       " 'americanair go',\n",
       " 'americanair great',\n",
       " 'americanair guy',\n",
       " 'americanair help',\n",
       " 'americanair hey',\n",
       " 'americanair hi',\n",
       " 'americanair hold',\n",
       " 'americanair hour',\n",
       " 'americanair know',\n",
       " 'americanair last',\n",
       " 'americanair look',\n",
       " 'americanair lose',\n",
       " 'americanair need',\n",
       " 'americanair oh',\n",
       " 'americanair ok',\n",
       " 'americanair one',\n",
       " 'americanair please',\n",
       " 'americanair re',\n",
       " 'americanair really',\n",
       " 'americanair sit',\n",
       " 'americanair still',\n",
       " 'americanair sure',\n",
       " 'americanair tell',\n",
       " 'americanair thank',\n",
       " 'americanair thanks',\n",
       " 'americanair thx',\n",
       " 'americanair ticket',\n",
       " 'americanair try',\n",
       " 'americanair understand',\n",
       " 'americanair united',\n",
       " 'americanair usairways',\n",
       " 'americanair ve',\n",
       " 'americanair wait',\n",
       " 'americanair want',\n",
       " 'americanair way',\n",
       " 'americanair well',\n",
       " 'americanair worry',\n",
       " 'americanair would',\n",
       " 'americanair yes',\n",
       " 'americanairlines',\n",
       " 'among',\n",
       " 'amount',\n",
       " 'amp',\n",
       " 'amp ca',\n",
       " 'amp gate',\n",
       " 'amp get',\n",
       " 'amp give',\n",
       " 'amp hold',\n",
       " 'amp one',\n",
       " 'amp still',\n",
       " 'amp told',\n",
       " 'and',\n",
       " 'angry',\n",
       " 'anniversary',\n",
       " 'announce',\n",
       " 'announcement',\n",
       " 'annoy',\n",
       " 'another',\n",
       " 'another airline',\n",
       " 'another day',\n",
       " 'another flight',\n",
       " 'another hour',\n",
       " 'answer',\n",
       " 'answer call',\n",
       " 'answer phone',\n",
       " 'anymore',\n",
       " 'anyone',\n",
       " 'anyone phone',\n",
       " 'anything',\n",
       " 'anytime',\n",
       " 'anyway',\n",
       " 'anywhere',\n",
       " 'apart',\n",
       " 'apologize',\n",
       " 'apology',\n",
       " 'app',\n",
       " 'app say',\n",
       " 'apparently',\n",
       " 'appear',\n",
       " 'appease',\n",
       " 'appease passenger',\n",
       " 'apple',\n",
       " 'application',\n",
       " 'apply',\n",
       " 'appreciate',\n",
       " 'approach',\n",
       " 'april',\n",
       " 'area',\n",
       " 'argue',\n",
       " 'around',\n",
       " 'arrange',\n",
       " 'arrival',\n",
       " 'arrive',\n",
       " 'arrive hour',\n",
       " 'arrives',\n",
       " 'article',\n",
       " 'as',\n",
       " 'asap',\n",
       " 'ashamed',\n",
       " 'ask',\n",
       " 'assign',\n",
       " 'assignment',\n",
       " 'assist',\n",
       " 'assistance',\n",
       " 'assume',\n",
       " 'atl',\n",
       " 'atlanta',\n",
       " 'attempt',\n",
       " 'attend',\n",
       " 'attendant',\n",
       " 'attention',\n",
       " 'attitude',\n",
       " 'au',\n",
       " 'august',\n",
       " 'austin',\n",
       " 'australia',\n",
       " 'auto',\n",
       " 'automate',\n",
       " 'automate system',\n",
       " 'automatically',\n",
       " 'avail',\n",
       " 'availability',\n",
       " 'available',\n",
       " 'avgeek',\n",
       " 'avgeek http',\n",
       " 'aviation',\n",
       " 'avoid',\n",
       " 'award',\n",
       " 'award ticket',\n",
       " 'award travel',\n",
       " 'aware',\n",
       " 'away',\n",
       " 'awesome',\n",
       " 'awesome thanks',\n",
       " 'awful',\n",
       " 'b4',\n",
       " 'ba',\n",
       " 'baby',\n",
       " 'back',\n",
       " 'back gate',\n",
       " 'back home',\n",
       " 'back late',\n",
       " 'bad',\n",
       " 'bad airline',\n",
       " 'bad customer',\n",
       " 'bad experience',\n",
       " 'bad fly',\n",
       " 'bad service',\n",
       " 'bad weather',\n",
       " 'badcustomerservice',\n",
       " 'badservice',\n",
       " 'bag',\n",
       " 'bag back',\n",
       " 'bag check',\n",
       " 'bag come',\n",
       " 'bag deliver',\n",
       " 'bag flight',\n",
       " 'bag go',\n",
       " 'bag lose',\n",
       " 'bag make',\n",
       " 'bag still',\n",
       " 'baggage',\n",
       " 'baggage claim',\n",
       " 'baggage fee',\n",
       " 'baggage lose',\n",
       " 'baggage office',\n",
       " 'baggage service',\n",
       " 'balance',\n",
       " 'ball',\n",
       " 'band',\n",
       " 'bank',\n",
       " 'bar',\n",
       " 'barely',\n",
       " 'base',\n",
       " 'basic',\n",
       " 'basically',\n",
       " 'bathroom',\n",
       " 'battle',\n",
       " 'battle appease',\n",
       " 'bc',\n",
       " 'bday',\n",
       " 'bdl',\n",
       " 'beach',\n",
       " 'beat',\n",
       " 'beautiful',\n",
       " 'become',\n",
       " 'beer',\n",
       " 'begin',\n",
       " 'behind',\n",
       " 'believe',\n",
       " 'belt',\n",
       " 'benefit',\n",
       " 'best',\n",
       " 'best airline',\n",
       " 'best flight',\n",
       " 'best friend',\n",
       " 'bet',\n",
       " 'beyond',\n",
       " 'big',\n",
       " 'big thanks',\n",
       " 'bill',\n",
       " 'bin',\n",
       " 'bird',\n",
       " 'birmingham',\n",
       " 'birthday',\n",
       " 'bit',\n",
       " 'biz',\n",
       " 'black',\n",
       " 'blame',\n",
       " 'block',\n",
       " 'blog',\n",
       " 'blue',\n",
       " 'bluemanity',\n",
       " 'bna',\n",
       " 'board',\n",
       " 'board flight',\n",
       " 'board plane',\n",
       " 'boarding',\n",
       " 'boarding pas',\n",
       " 'boarding pass',\n",
       " 'boarding time',\n",
       " 'bonus',\n",
       " 'book',\n",
       " 'book another',\n",
       " 'book award',\n",
       " 'book flight',\n",
       " 'book online',\n",
       " 'book problem',\n",
       " 'book seat',\n",
       " 'book ticket',\n",
       " 'bos',\n",
       " 'boston',\n",
       " 'bother',\n",
       " 'bottle',\n",
       " 'bought',\n",
       " 'boy',\n",
       " 'boyfriend',\n",
       " 'brand',\n",
       " 'break',\n",
       " 'breakfast',\n",
       " 'bridge',\n",
       " 'bring',\n",
       " 'bring back',\n",
       " 'broke',\n",
       " 'broken',\n",
       " 'brother',\n",
       " 'brutal',\n",
       " 'btw',\n",
       " 'buf',\n",
       " 'buffalo',\n",
       " 'bummer',\n",
       " 'bumped',\n",
       " 'bus',\n",
       " 'business',\n",
       " 'business class',\n",
       " 'busy',\n",
       " 'button',\n",
       " 'buy',\n",
       " 'buying',\n",
       " 'bwi',\n",
       " 'ca',\n",
       " 'ca believe',\n",
       " 'ca book',\n",
       " 'ca change',\n",
       " 'ca dm',\n",
       " 'ca even',\n",
       " 'ca find',\n",
       " 'ca fly',\n",
       " 'ca get',\n",
       " 'ca help',\n",
       " 'ca seem',\n",
       " 'ca wait',\n",
       " 'cab',\n",
       " 'cabin',\n",
       " 'california',\n",
       " 'call',\n",
       " 'call back',\n",
       " 'call center',\n",
       " 'call customer',\n",
       " 'call day',\n",
       " 'call flight',\n",
       " 'call get',\n",
       " 'call help',\n",
       " 'call hour',\n",
       " 'call number',\n",
       " 'call say',\n",
       " 'call volume',\n",
       " 'callback',\n",
       " 'caller',\n",
       " 'camera',\n",
       " 'can',\n",
       " 'canadian',\n",
       " 'cancel',\n",
       " 'cancel flight',\n",
       " 'cancel flightation',\n",
       " 'cancel flightations',\n",
       " 'cancel flightlation',\n",
       " 'cancel flightlations',\n",
       " 'cancel flightled',\n",
       " 'cancel flightling',\n",
       " 'cancun',\n",
       " 'cant',\n",
       " 'cant get',\n",
       " 'captain',\n",
       " 'car',\n",
       " 'car seat',\n",
       " 'card',\n",
       " 'card holder',\n",
       " 'care',\n",
       " 'care customer',\n",
       " 'carousel',\n",
       " 'carrier',\n",
       " 'carrieunderwood',\n",
       " 'carry',\n",
       " 'carry on',\n",
       " 'carryon',\n",
       " 'cart',\n",
       " 'case',\n",
       " 'catch',\n",
       " 'catering',\n",
       " 'cause',\n",
       " 'cause miss',\n",
       " 'cc',\n",
       " 'cell',\n",
       " 'center',\n",
       " 'ceo',\n",
       " 'ceo battle',\n",
       " 'certain',\n",
       " 'certainly',\n",
       " 'certificate',\n",
       " 'chair',\n",
       " 'chairman',\n",
       " 'challenge',\n",
       " 'chance',\n",
       " 'chance get',\n",
       " 'change',\n",
       " 'change fee',\n",
       " 'change flight',\n",
       " 'change online',\n",
       " 'change reservation',\n",
       " 'change ticket',\n",
       " 'channel',\n",
       " 'character',\n",
       " 'charge',\n",
       " 'charlotte',\n",
       " 'chat',\n",
       " 'cheap',\n",
       " 'cheaper',\n",
       " 'check',\n",
       " 'check bag',\n",
       " 'check flight',\n",
       " 'check in',\n",
       " 'check online',\n",
       " 'checked',\n",
       " 'checked bag',\n",
       " 'checked baggage',\n",
       " 'checkin',\n",
       " 'cheer',\n",
       " 'chi',\n",
       " 'chicago',\n",
       " 'child',\n",
       " 'choice',\n",
       " 'choose',\n",
       " 'city',\n",
       " 'claim',\n",
       " 'class',\n",
       " 'class seat',\n",
       " 'cle',\n",
       " 'clean',\n",
       " 'clear',\n",
       " 'clearly',\n",
       " 'click',\n",
       " 'client',\n",
       " 'close',\n",
       " 'clothes',\n",
       " 'clt',\n",
       " 'club',\n",
       " 'clue',\n",
       " 'cmh',\n",
       " 'cnn',\n",
       " 'co',\n",
       " 'coach',\n",
       " 'coast',\n",
       " 'coat',\n",
       " 'code',\n",
       " 'coffee',\n",
       " 'cold',\n",
       " 'college',\n",
       " 'columbus',\n",
       " 'com',\n",
       " 'come',\n",
       " 'come back',\n",
       " 'comfortable',\n",
       " 'comment',\n",
       " 'commercial',\n",
       " 'communicate',\n",
       " 'communication',\n",
       " 'comp',\n",
       " 'companion',\n",
       " 'companion pas',\n",
       " 'company',\n",
       " 'compare',\n",
       " 'compassion',\n",
       " 'compensate',\n",
       " 'compensation',\n",
       " 'complain',\n",
       " 'complaint',\n",
       " 'complete',\n",
       " 'completely',\n",
       " 'completely unacceptable',\n",
       " 'compliment',\n",
       " 'computer',\n",
       " 'concern',\n",
       " 'concerned',\n",
       " 'condition',\n",
       " 'conf',\n",
       " 'confirm',\n",
       " 'confirmation',\n",
       " 'confirmation number',\n",
       " 'confuse',\n",
       " 'congrats',\n",
       " 'connect',\n",
       " 'connect flight',\n",
       " 'connection',\n",
       " 'connection due',\n",
       " 'consider',\n",
       " 'consistent',\n",
       " 'cont',\n",
       " 'contact',\n",
       " 'contest',\n",
       " 'continental',\n",
       " 'continue',\n",
       " 'control',\n",
       " 'cool',\n",
       " 'copy',\n",
       " 'corporate',\n",
       " 'correct',\n",
       " 'cost',\n",
       " 'costumer',\n",
       " 'could',\n",
       " 'could get',\n",
       " 'could help',\n",
       " 'could make',\n",
       " 'could use',\n",
       " 'couldnt',\n",
       " 'count',\n",
       " 'counter',\n",
       " 'counting',\n",
       " 'country',\n",
       " 'country flight',\n",
       " 'couple',\n",
       " 'coupon',\n",
       " 'course',\n",
       " 'courteous',\n",
       " 'courtesy',\n",
       " 'cover',\n",
       " 'crap',\n",
       " 'crappy',\n",
       " 'crash',\n",
       " 'crazy',\n",
       " 'create',\n",
       " 'credit',\n",
       " 'credit card',\n",
       " 'crew',\n",
       " 'crew flight',\n",
       " 'crew member',\n",
       " 'cross',\n",
       " 'cross country',\n",
       " 'crowd',\n",
       " 'cry',\n",
       " 'csr',\n",
       " 'cun',\n",
       " 'cup',\n",
       " 'curious',\n",
       " 'current',\n",
       " 'currently',\n",
       " 'cust',\n",
       " 'cust service',\n",
       " 'cust svc',\n",
       " 'custom',\n",
       " 'customer',\n",
       " 'customer care',\n",
       " 'customer experience',\n",
       " 'customer relation',\n",
       " 'customer service',\n",
       " 'customer support',\n",
       " 'customerservice',\n",
       " 'cut',\n",
       " 'cuz',\n",
       " 'cvg',\n",
       " 'cx',\n",
       " 'cxl',\n",
       " 'dad',\n",
       " 'daily',\n",
       " 'dal',\n",
       " 'dallas',\n",
       " 'damage',\n",
       " 'damn',\n",
       " 'date',\n",
       " 'daughter',\n",
       " 'david',\n",
       " 'day',\n",
       " 'day ago',\n",
       " 'day amp',\n",
       " 'day flight',\n",
       " 'day get',\n",
       " 'day late',\n",
       " 'day vacation',\n",
       " 'day work',\n",
       " 'dc',\n",
       " 'dca',\n",
       " 'de',\n",
       " 'de ice',\n",
       " 'dead',\n",
       " 'deal',\n",
       " 'death',\n",
       " 'december',\n",
       " 'decide',\n",
       " 'decision',\n",
       " 'definitely',\n",
       " 'degree',\n",
       " 'delay',\n",
       " 'delay cancel',\n",
       " 'delay due',\n",
       " 'delay flight',\n",
       " 'delay hour',\n",
       " 'delayed',\n",
       " 'delayed cancel',\n",
       " 'delayed due',\n",
       " 'delayed flight',\n",
       " 'delayed hour',\n",
       " 'delayed hr',\n",
       " 'delayed miss',\n",
       " 'delete',\n",
       " 'deliver',\n",
       " 'delivery',\n",
       " 'delta',\n",
       " 'den',\n",
       " 'denver',\n",
       " 'deny',\n",
       " 'depart',\n",
       " 'department',\n",
       " 'departs',\n",
       " 'departure',\n",
       " 'departure time',\n",
       " 'deplane',\n",
       " 'dept',\n",
       " 'deserve',\n",
       " 'deserves',\n",
       " 'design',\n",
       " 'desk',\n",
       " 'despite',\n",
       " 'destination',\n",
       " 'destinationdragons',\n",
       " 'detail',\n",
       " 'device',\n",
       " 'dfw',\n",
       " 'dfw cancel',\n",
       " 'dfwairport',\n",
       " 'dia',\n",
       " 'didnt',\n",
       " 'die',\n",
       " 'diego',\n",
       " 'diff',\n",
       " 'difference',\n",
       " 'different',\n",
       " 'different flight',\n",
       " 'difficult',\n",
       " 'dinner',\n",
       " 'direct',\n",
       " 'direct flight',\n",
       " 'directly',\n",
       " 'dirty',\n",
       " 'disappear',\n",
       " 'disappoint',\n",
       " 'disappointed',\n",
       " 'disappointed service',\n",
       " 'disappointment',\n",
       " 'disaster',\n",
       " 'disconnect',\n",
       " 'discount',\n",
       " 'discus',\n",
       " 'disgust',\n",
       " 'divert',\n",
       " 'dividend',\n",
       " 'dividend mile',\n",
       " 'dm',\n",
       " 'dm confirmation',\n",
       " 'dm detail',\n",
       " 'dm follow',\n",
       " 'dm info',\n",
       " 'dm please',\n",
       " 'dm sent',\n",
       " 'dmed',\n",
       " 'do',\n",
       " 'doesnt',\n",
       " 'dog',\n",
       " 'dollar',\n",
       " 'domestic',\n",
       " 'dont',\n",
       " 'door',\n",
       " 'door close',\n",
       " 'door open',\n",
       " 'double',\n",
       " 'downgrade',\n",
       " 'dozen',\n",
       " 'dragon',\n",
       " 'dream',\n",
       " 'drink',\n",
       " 'drive',\n",
       " 'drop',\n",
       " 'drove',\n",
       " 'drunk',\n",
       " 'due',\n",
       " 'due mechanical',\n",
       " 'due weather',\n",
       " 'dulles',\n",
       " 'earlier',\n",
       " 'earlier flight',\n",
       " 'early',\n",
       " 'earn',\n",
       " 'easily',\n",
       " 'east',\n",
       " 'easy',\n",
       " 'eat',\n",
       " 'economy',\n",
       " 'effort',\n",
       " 'either',\n",
       " 'elevate',\n",
       " 'elite',\n",
       " 'else',\n",
       " 'elsewhere',\n",
       " 'em',\n",
       " 'email',\n",
       " 'email address',\n",
       " 'email customer',\n",
       " 'embarrass',\n",
       " 'emergency',\n",
       " 'employee',\n",
       " 'empty',\n",
       " 'empty seat',\n",
       " 'end',\n",
       " 'engine',\n",
       " 'english',\n",
       " 'enjoy',\n",
       " 'enough',\n",
       " 'ensure',\n",
       " 'enter',\n",
       " 'entertainment',\n",
       " 'entire',\n",
       " 'epicfail',\n",
       " 'equipment',\n",
       " 'error',\n",
       " 'error message',\n",
       " 'especially',\n",
       " 'est',\n",
       " 'estimate',\n",
       " 'eta',\n",
       " 'etc',\n",
       " 'europe',\n",
       " 'even',\n",
       " 'even call',\n",
       " 'even get',\n",
       " 'even let',\n",
       " 'even though',\n",
       " 'event',\n",
       " 'eventually',\n",
       " 'ever',\n",
       " 'ever experienced',\n",
       " 'ever fly',\n",
       " 'ever see',\n",
       " 'every',\n",
       " 'every flight',\n",
       " 'every single',\n",
       " 'every time',\n",
       " 'every week',\n",
       " 'everyone',\n",
       " 'everyone else',\n",
       " 'everything',\n",
       " 'ewr',\n",
       " 'exact',\n",
       " 'exactly',\n",
       " 'example',\n",
       " 'excellent',\n",
       " 'except',\n",
       " 'exchange',\n",
       " 'excite',\n",
       " 'excuse',\n",
       " 'exec',\n",
       " 'exist',\n",
       " 'exist reservation',\n",
       " 'existent',\n",
       " 'exit',\n",
       " 'exit row',\n",
       " 'exp',\n",
       " 'expect',\n",
       " 'expensive',\n",
       " 'experience',\n",
       " 'experience ever',\n",
       " 'experienced',\n",
       " 'expire',\n",
       " 'expires',\n",
       " 'explain',\n",
       " 'explanation',\n",
       " 'express',\n",
       " 'extend',\n",
       " 'extension',\n",
       " 'extra',\n",
       " 'extremely',\n",
       " 'ey',\n",
       " 'eye',\n",
       " 'fa',\n",
       " 'faa',\n",
       " 'fabulous',\n",
       " 'face',\n",
       " 'fact',\n",
       " 'fail',\n",
       " 'failure',\n",
       " 'fair',\n",
       " 'fall',\n",
       " 'false',\n",
       " 'family',\n",
       " 'fan',\n",
       " 'fantastic',\n",
       " 'far',\n",
       " 'fare',\n",
       " 'fast',\n",
       " 'faster',\n",
       " 'father',\n",
       " 'fault',\n",
       " 'favorite',\n",
       " 'favorite airline',\n",
       " 'fb',\n",
       " 'feature',\n",
       " 'feb',\n",
       " 'february',\n",
       " 'fee',\n",
       " 'fee flight',\n",
       " 'feedback',\n",
       " 'feel',\n",
       " 'feel like',\n",
       " 'felt',\n",
       " 'ff',\n",
       " 'fi',\n",
       " 'field',\n",
       " 'fight',\n",
       " 'figure',\n",
       " 'file',\n",
       " 'file claim',\n",
       " 'fill',\n",
       " 'fill form',\n",
       " 'film',\n",
       " 'final',\n",
       " 'final destination',\n",
       " 'finally',\n",
       " 'finally get',\n",
       " 'finally take',\n",
       " 'find',\n",
       " 'find bag',\n",
       " 'find flight',\n",
       " 'fine',\n",
       " 'finger',\n",
       " 'finger cross',\n",
       " 'fire',\n",
       " 'first',\n",
       " 'first class',\n",
       " 'first flight',\n",
       " 'first time',\n",
       " 'fit',\n",
       " 'five',\n",
       " 'fix',\n",
       " 'fl',\n",
       " 'flat',\n",
       " 'fleek',\n",
       " 'fleek http',\n",
       " 'fleet',\n",
       " 'fleet fleek',\n",
       " 'flew',\n",
       " 'flier',\n",
       " 'flight',\n",
       " 'flight aa',\n",
       " 'flight already',\n",
       " 'flight amp',\n",
       " 'flight arrive',\n",
       " 'flight attendant',\n",
       " 'flight back',\n",
       " 'flight bna',\n",
       " 'flight book',\n",
       " 'flight bos',\n",
       " 'flight boston',\n",
       " 'flight ca',\n",
       " 'flight call',\n",
       " 'flight cancel',\n",
       " 'flight change',\n",
       " 'flight chicago',\n",
       " 'flight clt',\n",
       " 'flight come',\n",
       " 'flight crew',\n",
       " 'flight customer',\n",
       " 'flight dallas',\n",
       " 'flight day',\n",
       " 'flight dca',\n",
       " 'flight delay',\n",
       " 'flight delayed',\n",
       " 'flight dfw',\n",
       " 'flight due',\n",
       " 'flight even',\n",
       " 'flight ewr',\n",
       " 'flight experience',\n",
       " 'flight first',\n",
       " 'flight flight',\n",
       " 'flight fll',\n",
       " 'flight full',\n",
       " 'flight gate',\n",
       " 'flight get',\n",
       " 'flight go',\n",
       " 'flight help',\n",
       " 'flight home',\n",
       " 'flight hour',\n",
       " 'flight hr',\n",
       " 'flight http',\n",
       " 'flight info',\n",
       " 'flight jfk',\n",
       " 'flight keep',\n",
       " 'flight land',\n",
       " 'flight last',\n",
       " 'flight late',\n",
       " 'flight lax',\n",
       " 'flight leave',\n",
       " 'flight make',\n",
       " 'flight miss',\n",
       " 'flight morning',\n",
       " 'flight need',\n",
       " 'flight next',\n",
       " 'flight number',\n",
       " 'flight nyc',\n",
       " 'flight one',\n",
       " 'flight online',\n",
       " 'flight ord',\n",
       " 'flight orlando',\n",
       " ...]"
      ]
     },
     "execution_count": 179,
     "metadata": {},
     "output_type": "execute_result"
    }
   ],
   "source": [
    "count_vec.get_feature_names()"
   ]
  },
  {
   "cell_type": "code",
   "execution_count": 160,
   "metadata": {},
   "outputs": [],
   "source": [
    "test_text_sparse_matrix=count_vec.transform(clean_text_test_strings)"
   ]
  },
  {
   "cell_type": "code",
   "execution_count": 161,
   "metadata": {},
   "outputs": [],
   "source": [
    "import scipy.sparse"
   ]
  },
  {
   "cell_type": "code",
   "execution_count": 162,
   "metadata": {},
   "outputs": [],
   "source": [
    "train_data_frame_text = pd.DataFrame.sparse.from_spmatrix(train_text_sparse_matrix,columns=count_vec.get_feature_names())"
   ]
  },
  {
   "cell_type": "code",
   "execution_count": 163,
   "metadata": {},
   "outputs": [],
   "source": [
    "test_data_frame_text = pd.DataFrame.sparse.from_spmatrix(test_text_sparse_matrix,columns=count_vec.get_feature_names())"
   ]
  },
  {
   "cell_type": "code",
   "execution_count": 164,
   "metadata": {},
   "outputs": [
    {
     "data": {
      "text/plain": [
       "(3660, 3000)"
      ]
     },
     "execution_count": 164,
     "metadata": {},
     "output_type": "execute_result"
    }
   ],
   "source": [
    "test_data_frame_text.shape"
   ]
  },
  {
   "cell_type": "code",
   "execution_count": 165,
   "metadata": {},
   "outputs": [],
   "source": [
    "train_data4=pd.concat([train_data3,train_data_frame_text],axis='columns')"
   ]
  },
  {
   "cell_type": "code",
   "execution_count": 166,
   "metadata": {},
   "outputs": [],
   "source": [
    "test_data4=pd.concat([test_data3,test_data_frame_text],axis='columns')"
   ]
  },
  {
   "cell_type": "code",
   "execution_count": 167,
   "metadata": {},
   "outputs": [
    {
     "data": {
      "text/plain": [
       "((10980, 3014), (3660, 3013))"
      ]
     },
     "execution_count": 167,
     "metadata": {},
     "output_type": "execute_result"
    }
   ],
   "source": [
    "train_data4.shape,test_data4.shape"
   ]
  },
  {
   "cell_type": "code",
   "execution_count": 168,
   "metadata": {},
   "outputs": [],
   "source": [
    "train_data4.drop(['airline','name'],axis=1,inplace=True)\n",
    "test_data4.drop(['airline','name'],axis=1,inplace=True)"
   ]
  },
  {
   "cell_type": "code",
   "execution_count": 169,
   "metadata": {},
   "outputs": [],
   "source": [
    "Y=train_data4['airline_sentiment']"
   ]
  },
  {
   "cell_type": "code",
   "execution_count": 170,
   "metadata": {},
   "outputs": [],
   "source": [
    "train_data4.drop('airline_sentiment',axis=1,inplace=True)"
   ]
  },
  {
   "cell_type": "code",
   "execution_count": 171,
   "metadata": {},
   "outputs": [
    {
     "data": {
      "text/html": [
       "<div>\n",
       "<style scoped>\n",
       "    .dataframe tbody tr th:only-of-type {\n",
       "        vertical-align: middle;\n",
       "    }\n",
       "\n",
       "    .dataframe tbody tr th {\n",
       "        vertical-align: top;\n",
       "    }\n",
       "\n",
       "    .dataframe thead th {\n",
       "        text-align: right;\n",
       "    }\n",
       "</style>\n",
       "<table border=\"1\" class=\"dataframe\">\n",
       "  <thead>\n",
       "    <tr style=\"text-align: right;\">\n",
       "      <th></th>\n",
       "      <th>retweet_count</th>\n",
       "      <th>American</th>\n",
       "      <th>Delta</th>\n",
       "      <th>Southwest</th>\n",
       "      <th>US Airways</th>\n",
       "      <th>United</th>\n",
       "      <th>Virgin America</th>\n",
       "      <th>JetBlueNews</th>\n",
       "      <th>_mhertz</th>\n",
       "      <th>name_other</th>\n",
       "      <th>...</th>\n",
       "      <th>york</th>\n",
       "      <th>you</th>\n",
       "      <th>young</th>\n",
       "      <th>yr</th>\n",
       "      <th>yr old</th>\n",
       "      <th>yup</th>\n",
       "      <th>yvr</th>\n",
       "      <th>yyz</th>\n",
       "      <th>zero</th>\n",
       "      <th>zone</th>\n",
       "    </tr>\n",
       "  </thead>\n",
       "  <tbody>\n",
       "    <tr>\n",
       "      <td>0</td>\n",
       "      <td>0</td>\n",
       "      <td>0</td>\n",
       "      <td>0</td>\n",
       "      <td>1</td>\n",
       "      <td>0</td>\n",
       "      <td>0</td>\n",
       "      <td>0</td>\n",
       "      <td>0</td>\n",
       "      <td>0</td>\n",
       "      <td>1</td>\n",
       "      <td>...</td>\n",
       "      <td>0</td>\n",
       "      <td>0</td>\n",
       "      <td>0</td>\n",
       "      <td>0</td>\n",
       "      <td>0</td>\n",
       "      <td>0</td>\n",
       "      <td>0</td>\n",
       "      <td>0</td>\n",
       "      <td>0</td>\n",
       "      <td>0</td>\n",
       "    </tr>\n",
       "    <tr>\n",
       "      <td>1</td>\n",
       "      <td>0</td>\n",
       "      <td>0</td>\n",
       "      <td>0</td>\n",
       "      <td>1</td>\n",
       "      <td>0</td>\n",
       "      <td>0</td>\n",
       "      <td>0</td>\n",
       "      <td>0</td>\n",
       "      <td>0</td>\n",
       "      <td>1</td>\n",
       "      <td>...</td>\n",
       "      <td>0</td>\n",
       "      <td>0</td>\n",
       "      <td>0</td>\n",
       "      <td>0</td>\n",
       "      <td>0</td>\n",
       "      <td>0</td>\n",
       "      <td>0</td>\n",
       "      <td>0</td>\n",
       "      <td>0</td>\n",
       "      <td>0</td>\n",
       "    </tr>\n",
       "    <tr>\n",
       "      <td>2</td>\n",
       "      <td>0</td>\n",
       "      <td>0</td>\n",
       "      <td>0</td>\n",
       "      <td>0</td>\n",
       "      <td>0</td>\n",
       "      <td>1</td>\n",
       "      <td>0</td>\n",
       "      <td>0</td>\n",
       "      <td>0</td>\n",
       "      <td>1</td>\n",
       "      <td>...</td>\n",
       "      <td>0</td>\n",
       "      <td>0</td>\n",
       "      <td>0</td>\n",
       "      <td>0</td>\n",
       "      <td>0</td>\n",
       "      <td>0</td>\n",
       "      <td>0</td>\n",
       "      <td>0</td>\n",
       "      <td>0</td>\n",
       "      <td>0</td>\n",
       "    </tr>\n",
       "    <tr>\n",
       "      <td>3</td>\n",
       "      <td>0</td>\n",
       "      <td>0</td>\n",
       "      <td>0</td>\n",
       "      <td>1</td>\n",
       "      <td>0</td>\n",
       "      <td>0</td>\n",
       "      <td>0</td>\n",
       "      <td>0</td>\n",
       "      <td>0</td>\n",
       "      <td>1</td>\n",
       "      <td>...</td>\n",
       "      <td>0</td>\n",
       "      <td>0</td>\n",
       "      <td>0</td>\n",
       "      <td>0</td>\n",
       "      <td>0</td>\n",
       "      <td>0</td>\n",
       "      <td>0</td>\n",
       "      <td>0</td>\n",
       "      <td>0</td>\n",
       "      <td>0</td>\n",
       "    </tr>\n",
       "    <tr>\n",
       "      <td>4</td>\n",
       "      <td>0</td>\n",
       "      <td>0</td>\n",
       "      <td>0</td>\n",
       "      <td>0</td>\n",
       "      <td>0</td>\n",
       "      <td>1</td>\n",
       "      <td>0</td>\n",
       "      <td>0</td>\n",
       "      <td>0</td>\n",
       "      <td>1</td>\n",
       "      <td>...</td>\n",
       "      <td>0</td>\n",
       "      <td>0</td>\n",
       "      <td>0</td>\n",
       "      <td>0</td>\n",
       "      <td>0</td>\n",
       "      <td>0</td>\n",
       "      <td>0</td>\n",
       "      <td>0</td>\n",
       "      <td>0</td>\n",
       "      <td>0</td>\n",
       "    </tr>\n",
       "  </tbody>\n",
       "</table>\n",
       "<p>5 rows × 3009 columns</p>\n",
       "</div>"
      ],
      "text/plain": [
       "   retweet_count  American  Delta  Southwest  US Airways  United  \\\n",
       "0              0         0      0          1           0       0   \n",
       "1              0         0      0          1           0       0   \n",
       "2              0         0      0          0           0       1   \n",
       "3              0         0      0          1           0       0   \n",
       "4              0         0      0          0           0       1   \n",
       "\n",
       "   Virgin America  JetBlueNews  _mhertz  name_other  ...  york  you  young  \\\n",
       "0               0            0        0           1  ...     0    0      0   \n",
       "1               0            0        0           1  ...     0    0      0   \n",
       "2               0            0        0           1  ...     0    0      0   \n",
       "3               0            0        0           1  ...     0    0      0   \n",
       "4               0            0        0           1  ...     0    0      0   \n",
       "\n",
       "   yr  yr old  yup  yvr  yyz  zero  zone  \n",
       "0   0       0    0    0    0     0     0  \n",
       "1   0       0    0    0    0     0     0  \n",
       "2   0       0    0    0    0     0     0  \n",
       "3   0       0    0    0    0     0     0  \n",
       "4   0       0    0    0    0     0     0  \n",
       "\n",
       "[5 rows x 3009 columns]"
      ]
     },
     "execution_count": 171,
     "metadata": {},
     "output_type": "execute_result"
    }
   ],
   "source": [
    "train_data4.head()"
   ]
  },
  {
   "cell_type": "code",
   "execution_count": 172,
   "metadata": {},
   "outputs": [
    {
     "data": {
      "text/html": [
       "<div>\n",
       "<style scoped>\n",
       "    .dataframe tbody tr th:only-of-type {\n",
       "        vertical-align: middle;\n",
       "    }\n",
       "\n",
       "    .dataframe tbody tr th {\n",
       "        vertical-align: top;\n",
       "    }\n",
       "\n",
       "    .dataframe thead th {\n",
       "        text-align: right;\n",
       "    }\n",
       "</style>\n",
       "<table border=\"1\" class=\"dataframe\">\n",
       "  <thead>\n",
       "    <tr style=\"text-align: right;\">\n",
       "      <th></th>\n",
       "      <th>retweet_count</th>\n",
       "      <th>American</th>\n",
       "      <th>Delta</th>\n",
       "      <th>Southwest</th>\n",
       "      <th>US Airways</th>\n",
       "      <th>United</th>\n",
       "      <th>Virgin America</th>\n",
       "      <th>JetBlueNews</th>\n",
       "      <th>_mhertz</th>\n",
       "      <th>name_other</th>\n",
       "      <th>...</th>\n",
       "      <th>york</th>\n",
       "      <th>you</th>\n",
       "      <th>young</th>\n",
       "      <th>yr</th>\n",
       "      <th>yr old</th>\n",
       "      <th>yup</th>\n",
       "      <th>yvr</th>\n",
       "      <th>yyz</th>\n",
       "      <th>zero</th>\n",
       "      <th>zone</th>\n",
       "    </tr>\n",
       "  </thead>\n",
       "  <tbody>\n",
       "    <tr>\n",
       "      <td>0</td>\n",
       "      <td>0</td>\n",
       "      <td>1</td>\n",
       "      <td>0</td>\n",
       "      <td>0</td>\n",
       "      <td>0</td>\n",
       "      <td>0</td>\n",
       "      <td>0</td>\n",
       "      <td>0</td>\n",
       "      <td>0</td>\n",
       "      <td>1</td>\n",
       "      <td>...</td>\n",
       "      <td>0</td>\n",
       "      <td>0</td>\n",
       "      <td>0</td>\n",
       "      <td>0</td>\n",
       "      <td>0</td>\n",
       "      <td>0</td>\n",
       "      <td>0</td>\n",
       "      <td>0</td>\n",
       "      <td>0</td>\n",
       "      <td>0</td>\n",
       "    </tr>\n",
       "    <tr>\n",
       "      <td>1</td>\n",
       "      <td>0</td>\n",
       "      <td>1</td>\n",
       "      <td>0</td>\n",
       "      <td>0</td>\n",
       "      <td>0</td>\n",
       "      <td>0</td>\n",
       "      <td>0</td>\n",
       "      <td>0</td>\n",
       "      <td>0</td>\n",
       "      <td>1</td>\n",
       "      <td>...</td>\n",
       "      <td>0</td>\n",
       "      <td>0</td>\n",
       "      <td>0</td>\n",
       "      <td>0</td>\n",
       "      <td>0</td>\n",
       "      <td>0</td>\n",
       "      <td>0</td>\n",
       "      <td>0</td>\n",
       "      <td>0</td>\n",
       "      <td>0</td>\n",
       "    </tr>\n",
       "    <tr>\n",
       "      <td>2</td>\n",
       "      <td>1</td>\n",
       "      <td>0</td>\n",
       "      <td>0</td>\n",
       "      <td>1</td>\n",
       "      <td>0</td>\n",
       "      <td>0</td>\n",
       "      <td>0</td>\n",
       "      <td>0</td>\n",
       "      <td>0</td>\n",
       "      <td>1</td>\n",
       "      <td>...</td>\n",
       "      <td>0</td>\n",
       "      <td>0</td>\n",
       "      <td>0</td>\n",
       "      <td>0</td>\n",
       "      <td>0</td>\n",
       "      <td>0</td>\n",
       "      <td>0</td>\n",
       "      <td>0</td>\n",
       "      <td>0</td>\n",
       "      <td>0</td>\n",
       "    </tr>\n",
       "    <tr>\n",
       "      <td>3</td>\n",
       "      <td>0</td>\n",
       "      <td>0</td>\n",
       "      <td>0</td>\n",
       "      <td>0</td>\n",
       "      <td>1</td>\n",
       "      <td>0</td>\n",
       "      <td>0</td>\n",
       "      <td>0</td>\n",
       "      <td>0</td>\n",
       "      <td>1</td>\n",
       "      <td>...</td>\n",
       "      <td>0</td>\n",
       "      <td>0</td>\n",
       "      <td>0</td>\n",
       "      <td>0</td>\n",
       "      <td>0</td>\n",
       "      <td>0</td>\n",
       "      <td>0</td>\n",
       "      <td>0</td>\n",
       "      <td>0</td>\n",
       "      <td>0</td>\n",
       "    </tr>\n",
       "    <tr>\n",
       "      <td>4</td>\n",
       "      <td>0</td>\n",
       "      <td>1</td>\n",
       "      <td>0</td>\n",
       "      <td>0</td>\n",
       "      <td>0</td>\n",
       "      <td>0</td>\n",
       "      <td>0</td>\n",
       "      <td>0</td>\n",
       "      <td>0</td>\n",
       "      <td>1</td>\n",
       "      <td>...</td>\n",
       "      <td>0</td>\n",
       "      <td>0</td>\n",
       "      <td>0</td>\n",
       "      <td>0</td>\n",
       "      <td>0</td>\n",
       "      <td>0</td>\n",
       "      <td>0</td>\n",
       "      <td>0</td>\n",
       "      <td>0</td>\n",
       "      <td>0</td>\n",
       "    </tr>\n",
       "  </tbody>\n",
       "</table>\n",
       "<p>5 rows × 3009 columns</p>\n",
       "</div>"
      ],
      "text/plain": [
       "   retweet_count  American  Delta  Southwest  US Airways  United  \\\n",
       "0              0         1      0          0           0       0   \n",
       "1              0         1      0          0           0       0   \n",
       "2              1         0      0          1           0       0   \n",
       "3              0         0      0          0           1       0   \n",
       "4              0         1      0          0           0       0   \n",
       "\n",
       "   Virgin America  JetBlueNews  _mhertz  name_other  ...  york  you  young  \\\n",
       "0               0            0        0           1  ...     0    0      0   \n",
       "1               0            0        0           1  ...     0    0      0   \n",
       "2               0            0        0           1  ...     0    0      0   \n",
       "3               0            0        0           1  ...     0    0      0   \n",
       "4               0            0        0           1  ...     0    0      0   \n",
       "\n",
       "   yr  yr old  yup  yvr  yyz  zero  zone  \n",
       "0   0       0    0    0    0     0     0  \n",
       "1   0       0    0    0    0     0     0  \n",
       "2   0       0    0    0    0     0     0  \n",
       "3   0       0    0    0    0     0     0  \n",
       "4   0       0    0    0    0     0     0  \n",
       "\n",
       "[5 rows x 3009 columns]"
      ]
     },
     "execution_count": 172,
     "metadata": {},
     "output_type": "execute_result"
    }
   ],
   "source": [
    "test_data4.head()"
   ]
  },
  {
   "cell_type": "code",
   "execution_count": 173,
   "metadata": {},
   "outputs": [],
   "source": [
    "from sklearn.model_selection import train_test_split"
   ]
  },
  {
   "cell_type": "code",
   "execution_count": 174,
   "metadata": {},
   "outputs": [],
   "source": [
    "X=train_data4.values"
   ]
  },
  {
   "cell_type": "code",
   "execution_count": 175,
   "metadata": {},
   "outputs": [],
   "source": [
    "xTrain_small,xTest_small,yTrain_small,yTest_small=train_test_split(X,Y)"
   ]
  },
  {
   "cell_type": "code",
   "execution_count": 176,
   "metadata": {},
   "outputs": [
    {
     "data": {
      "text/plain": [
       "((8235, 3009), (2745, 3009), (8235,), (2745,))"
      ]
     },
     "execution_count": 176,
     "metadata": {},
     "output_type": "execute_result"
    }
   ],
   "source": [
    "xTrain_small.shape,xTest_small.shape,yTrain_small.shape,yTest_small.shape"
   ]
  },
  {
   "cell_type": "code",
   "execution_count": 177,
   "metadata": {},
   "outputs": [],
   "source": [
    "from sklearn.svm import SVC"
   ]
  },
  {
   "cell_type": "code",
   "execution_count": 178,
   "metadata": {},
   "outputs": [],
   "source": [
    "clf_svc=SVC(kernel='linear')"
   ]
  },
  {
   "cell_type": "code",
   "execution_count": 180,
   "metadata": {},
   "outputs": [
    {
     "data": {
      "text/plain": [
       "SVC(C=1.0, cache_size=200, class_weight=None, coef0=0.0,\n",
       "    decision_function_shape='ovr', degree=3, gamma='auto_deprecated',\n",
       "    kernel='linear', max_iter=-1, probability=False, random_state=None,\n",
       "    shrinking=True, tol=0.001, verbose=False)"
      ]
     },
     "execution_count": 180,
     "metadata": {},
     "output_type": "execute_result"
    }
   ],
   "source": [
    "clf_svc.fit(xTrain_small,yTrain_small)"
   ]
  },
  {
   "cell_type": "code",
   "execution_count": 181,
   "metadata": {},
   "outputs": [
    {
     "data": {
      "text/plain": [
       "0.7391621129326047"
      ]
     },
     "execution_count": 181,
     "metadata": {},
     "output_type": "execute_result"
    }
   ],
   "source": [
    "clf_svc.score(xTest_small,yTest_small)"
   ]
  },
  {
   "cell_type": "code",
   "execution_count": 182,
   "metadata": {},
   "outputs": [],
   "source": [
    "from sklearn.ensemble import RandomForestClassifier"
   ]
  },
  {
   "cell_type": "code",
   "execution_count": 189,
   "metadata": {},
   "outputs": [],
   "source": [
    "from sklearn.naive_bayes import MultinomialNB"
   ]
  },
  {
   "cell_type": "code",
   "execution_count": 190,
   "metadata": {},
   "outputs": [],
   "source": [
    "clf_mnb = MultinomialNB()"
   ]
  },
  {
   "cell_type": "code",
   "execution_count": 191,
   "metadata": {},
   "outputs": [
    {
     "data": {
      "text/plain": [
       "MultinomialNB(alpha=1.0, class_prior=None, fit_prior=True)"
      ]
     },
     "execution_count": 191,
     "metadata": {},
     "output_type": "execute_result"
    }
   ],
   "source": [
    "clf_mnb.fit(xTrain_small,yTrain_small)"
   ]
  },
  {
   "cell_type": "code",
   "execution_count": 200,
   "metadata": {},
   "outputs": [],
   "source": [
    "list_alpha_values=np.arange(0.1,20,0.20)"
   ]
  },
  {
   "cell_type": "code",
   "execution_count": 201,
   "metadata": {},
   "outputs": [
    {
     "ename": "NameError",
     "evalue": "name 'clf_fit' is not defined",
     "output_type": "error",
     "traceback": [
      "\u001b[0;31m---------------------------------------------------------------------------\u001b[0m",
      "\u001b[0;31mNameError\u001b[0m                                 Traceback (most recent call last)",
      "\u001b[0;32m<ipython-input-201-b9a6b7363cc3>\u001b[0m in \u001b[0;36m<module>\u001b[0;34m\u001b[0m\n\u001b[1;32m      2\u001b[0m \u001b[0mgrid\u001b[0m\u001b[0;34m=\u001b[0m\u001b[0;34m{\u001b[0m\u001b[0;34m'alpha'\u001b[0m\u001b[0;34m:\u001b[0m\u001b[0mlist_alpha_values\u001b[0m\u001b[0;34m}\u001b[0m\u001b[0;34m\u001b[0m\u001b[0;34m\u001b[0m\u001b[0m\n\u001b[1;32m      3\u001b[0m \u001b[0mclf_mnb_best\u001b[0m\u001b[0;34m=\u001b[0m\u001b[0mGridSearchCV\u001b[0m\u001b[0;34m(\u001b[0m\u001b[0mclf_mnb_fineTune\u001b[0m\u001b[0;34m,\u001b[0m\u001b[0mgrid\u001b[0m\u001b[0;34m)\u001b[0m\u001b[0;34m\u001b[0m\u001b[0;34m\u001b[0m\u001b[0m\n\u001b[0;32m----> 4\u001b[0;31m \u001b[0mclf_fit\u001b[0m\u001b[0;34m(\u001b[0m\u001b[0mxTrain_small\u001b[0m\u001b[0;34m,\u001b[0m\u001b[0myTrain_small\u001b[0m\u001b[0;34m)\u001b[0m\u001b[0;34m\u001b[0m\u001b[0;34m\u001b[0m\u001b[0m\n\u001b[0m",
      "\u001b[0;31mNameError\u001b[0m: name 'clf_fit' is not defined"
     ]
    }
   ],
   "source": [
    "clf_mnb_fineTune=MultinomialNB()\n",
    "grid={'alpha':list_alpha_values}\n",
    "clf_mnb_best=GridSearchCV(clf_mnb_fineTune,grid)\n",
    "clf_fit(xTrain_small,yTrain_small)"
   ]
  },
  {
   "cell_type": "code",
   "execution_count": null,
   "metadata": {},
   "outputs": [],
   "source": []
  },
  {
   "cell_type": "code",
   "execution_count": 192,
   "metadata": {},
   "outputs": [
    {
     "data": {
      "text/plain": [
       "0.7551912568306011"
      ]
     },
     "execution_count": 192,
     "metadata": {},
     "output_type": "execute_result"
    }
   ],
   "source": [
    "clf_mnb.score(xTest_small,yTest_small)"
   ]
  },
  {
   "cell_type": "code",
   "execution_count": null,
   "metadata": {},
   "outputs": [],
   "source": [
    "## Optimizing multinomial naive bayes using grid search"
   ]
  },
  {
   "cell_type": "code",
   "execution_count": 184,
   "metadata": {},
   "outputs": [],
   "source": [
    "clf_rf=RandomForestClassifier()"
   ]
  },
  {
   "cell_type": "code",
   "execution_count": 185,
   "metadata": {},
   "outputs": [
    {
     "name": "stderr",
     "output_type": "stream",
     "text": [
      "/home/ankit/anaconda3/lib/python3.7/site-packages/sklearn/ensemble/forest.py:245: FutureWarning: The default value of n_estimators will change from 10 in version 0.20 to 100 in 0.22.\n",
      "  \"10 in version 0.20 to 100 in 0.22.\", FutureWarning)\n"
     ]
    },
    {
     "data": {
      "text/plain": [
       "RandomForestClassifier(bootstrap=True, class_weight=None, criterion='gini',\n",
       "                       max_depth=None, max_features='auto', max_leaf_nodes=None,\n",
       "                       min_impurity_decrease=0.0, min_impurity_split=None,\n",
       "                       min_samples_leaf=1, min_samples_split=2,\n",
       "                       min_weight_fraction_leaf=0.0, n_estimators=10,\n",
       "                       n_jobs=None, oob_score=False, random_state=None,\n",
       "                       verbose=0, warm_start=False)"
      ]
     },
     "execution_count": 185,
     "metadata": {},
     "output_type": "execute_result"
    }
   ],
   "source": [
    "clf_rf.fit(xTrain_small,yTrain_small)"
   ]
  },
  {
   "cell_type": "code",
   "execution_count": 186,
   "metadata": {},
   "outputs": [
    {
     "data": {
      "text/plain": [
       "0.7169398907103826"
      ]
     },
     "execution_count": 186,
     "metadata": {},
     "output_type": "execute_result"
    }
   ],
   "source": [
    "clf_rf.score(xTest_small,yTest_small)"
   ]
  },
  {
   "cell_type": "code",
   "execution_count": 187,
   "metadata": {},
   "outputs": [],
   "source": [
    "from sklearn.model_selection import GridSearchCV"
   ]
  },
  {
   "cell_type": "code",
   "execution_count": 188,
   "metadata": {},
   "outputs": [
    {
     "name": "stderr",
     "output_type": "stream",
     "text": [
      "/home/ankit/anaconda3/lib/python3.7/site-packages/sklearn/model_selection/_split.py:1978: FutureWarning: The default value of cv will change from 3 to 5 in version 0.22. Specify it explicitly to silence this warning.\n",
      "  warnings.warn(CV_WARNING, FutureWarning)\n"
     ]
    },
    {
     "ename": "KeyboardInterrupt",
     "evalue": "",
     "output_type": "error",
     "traceback": [
      "\u001b[0;31m---------------------------------------------------------------------------\u001b[0m",
      "\u001b[0;31mKeyboardInterrupt\u001b[0m                         Traceback (most recent call last)",
      "\u001b[0;32m<ipython-input-188-a1bc39fb00eb>\u001b[0m in \u001b[0;36m<module>\u001b[0;34m\u001b[0m\n\u001b[1;32m      2\u001b[0m \u001b[0mgrid\u001b[0m \u001b[0;34m=\u001b[0m \u001b[0;34m{\u001b[0m\u001b[0;34m'C'\u001b[0m \u001b[0;34m:\u001b[0m \u001b[0;34m[\u001b[0m\u001b[0;36m1e2\u001b[0m\u001b[0;34m,\u001b[0m \u001b[0;36m1e3\u001b[0m\u001b[0;34m,\u001b[0m \u001b[0;36m5e3\u001b[0m\u001b[0;34m,\u001b[0m \u001b[0;36m1e4\u001b[0m\u001b[0;34m,\u001b[0m \u001b[0;36m5e4\u001b[0m\u001b[0;34m,\u001b[0m \u001b[0;36m1e5\u001b[0m\u001b[0;34m]\u001b[0m\u001b[0;34m}\u001b[0m\u001b[0;34m\u001b[0m\u001b[0;34m\u001b[0m\u001b[0m\n\u001b[1;32m      3\u001b[0m \u001b[0mabc\u001b[0m \u001b[0;34m=\u001b[0m \u001b[0mGridSearchCV\u001b[0m\u001b[0;34m(\u001b[0m\u001b[0mclf_testing\u001b[0m\u001b[0;34m,\u001b[0m \u001b[0mgrid\u001b[0m\u001b[0;34m)\u001b[0m\u001b[0;34m\u001b[0m\u001b[0;34m\u001b[0m\u001b[0m\n\u001b[0;32m----> 4\u001b[0;31m \u001b[0mabc\u001b[0m\u001b[0;34m.\u001b[0m\u001b[0mfit\u001b[0m\u001b[0;34m(\u001b[0m\u001b[0mxTrain_small\u001b[0m\u001b[0;34m,\u001b[0m \u001b[0myTrain_small\u001b[0m\u001b[0;34m)\u001b[0m\u001b[0;34m\u001b[0m\u001b[0;34m\u001b[0m\u001b[0m\n\u001b[0m",
      "\u001b[0;32m~/anaconda3/lib/python3.7/site-packages/sklearn/model_selection/_search.py\u001b[0m in \u001b[0;36mfit\u001b[0;34m(self, X, y, groups, **fit_params)\u001b[0m\n\u001b[1;32m    686\u001b[0m                 \u001b[0;32mreturn\u001b[0m \u001b[0mresults\u001b[0m\u001b[0;34m\u001b[0m\u001b[0;34m\u001b[0m\u001b[0m\n\u001b[1;32m    687\u001b[0m \u001b[0;34m\u001b[0m\u001b[0m\n\u001b[0;32m--> 688\u001b[0;31m             \u001b[0mself\u001b[0m\u001b[0;34m.\u001b[0m\u001b[0m_run_search\u001b[0m\u001b[0;34m(\u001b[0m\u001b[0mevaluate_candidates\u001b[0m\u001b[0;34m)\u001b[0m\u001b[0;34m\u001b[0m\u001b[0;34m\u001b[0m\u001b[0m\n\u001b[0m\u001b[1;32m    689\u001b[0m \u001b[0;34m\u001b[0m\u001b[0m\n\u001b[1;32m    690\u001b[0m         \u001b[0;31m# For multi-metric evaluation, store the best_index_, best_params_ and\u001b[0m\u001b[0;34m\u001b[0m\u001b[0;34m\u001b[0m\u001b[0;34m\u001b[0m\u001b[0m\n",
      "\u001b[0;32m~/anaconda3/lib/python3.7/site-packages/sklearn/model_selection/_search.py\u001b[0m in \u001b[0;36m_run_search\u001b[0;34m(self, evaluate_candidates)\u001b[0m\n\u001b[1;32m   1147\u001b[0m     \u001b[0;32mdef\u001b[0m \u001b[0m_run_search\u001b[0m\u001b[0;34m(\u001b[0m\u001b[0mself\u001b[0m\u001b[0;34m,\u001b[0m \u001b[0mevaluate_candidates\u001b[0m\u001b[0;34m)\u001b[0m\u001b[0;34m:\u001b[0m\u001b[0;34m\u001b[0m\u001b[0;34m\u001b[0m\u001b[0m\n\u001b[1;32m   1148\u001b[0m         \u001b[0;34m\"\"\"Search all candidates in param_grid\"\"\"\u001b[0m\u001b[0;34m\u001b[0m\u001b[0;34m\u001b[0m\u001b[0m\n\u001b[0;32m-> 1149\u001b[0;31m         \u001b[0mevaluate_candidates\u001b[0m\u001b[0;34m(\u001b[0m\u001b[0mParameterGrid\u001b[0m\u001b[0;34m(\u001b[0m\u001b[0mself\u001b[0m\u001b[0;34m.\u001b[0m\u001b[0mparam_grid\u001b[0m\u001b[0;34m)\u001b[0m\u001b[0;34m)\u001b[0m\u001b[0;34m\u001b[0m\u001b[0;34m\u001b[0m\u001b[0m\n\u001b[0m\u001b[1;32m   1150\u001b[0m \u001b[0;34m\u001b[0m\u001b[0m\n\u001b[1;32m   1151\u001b[0m \u001b[0;34m\u001b[0m\u001b[0m\n",
      "\u001b[0;32m~/anaconda3/lib/python3.7/site-packages/sklearn/model_selection/_search.py\u001b[0m in \u001b[0;36mevaluate_candidates\u001b[0;34m(candidate_params)\u001b[0m\n\u001b[1;32m    665\u001b[0m                                \u001b[0;32mfor\u001b[0m \u001b[0mparameters\u001b[0m\u001b[0;34m,\u001b[0m \u001b[0;34m(\u001b[0m\u001b[0mtrain\u001b[0m\u001b[0;34m,\u001b[0m \u001b[0mtest\u001b[0m\u001b[0;34m)\u001b[0m\u001b[0;34m\u001b[0m\u001b[0;34m\u001b[0m\u001b[0m\n\u001b[1;32m    666\u001b[0m                                in product(candidate_params,\n\u001b[0;32m--> 667\u001b[0;31m                                           cv.split(X, y, groups)))\n\u001b[0m\u001b[1;32m    668\u001b[0m \u001b[0;34m\u001b[0m\u001b[0m\n\u001b[1;32m    669\u001b[0m                 \u001b[0;32mif\u001b[0m \u001b[0mlen\u001b[0m\u001b[0;34m(\u001b[0m\u001b[0mout\u001b[0m\u001b[0;34m)\u001b[0m \u001b[0;34m<\u001b[0m \u001b[0;36m1\u001b[0m\u001b[0;34m:\u001b[0m\u001b[0;34m\u001b[0m\u001b[0;34m\u001b[0m\u001b[0m\n",
      "\u001b[0;32m~/anaconda3/lib/python3.7/site-packages/joblib/parallel.py\u001b[0m in \u001b[0;36m__call__\u001b[0;34m(self, iterable)\u001b[0m\n\u001b[1;32m    922\u001b[0m                 \u001b[0mself\u001b[0m\u001b[0;34m.\u001b[0m\u001b[0m_iterating\u001b[0m \u001b[0;34m=\u001b[0m \u001b[0mself\u001b[0m\u001b[0;34m.\u001b[0m\u001b[0m_original_iterator\u001b[0m \u001b[0;32mis\u001b[0m \u001b[0;32mnot\u001b[0m \u001b[0;32mNone\u001b[0m\u001b[0;34m\u001b[0m\u001b[0;34m\u001b[0m\u001b[0m\n\u001b[1;32m    923\u001b[0m \u001b[0;34m\u001b[0m\u001b[0m\n\u001b[0;32m--> 924\u001b[0;31m             \u001b[0;32mwhile\u001b[0m \u001b[0mself\u001b[0m\u001b[0;34m.\u001b[0m\u001b[0mdispatch_one_batch\u001b[0m\u001b[0;34m(\u001b[0m\u001b[0miterator\u001b[0m\u001b[0;34m)\u001b[0m\u001b[0;34m:\u001b[0m\u001b[0;34m\u001b[0m\u001b[0;34m\u001b[0m\u001b[0m\n\u001b[0m\u001b[1;32m    925\u001b[0m                 \u001b[0;32mpass\u001b[0m\u001b[0;34m\u001b[0m\u001b[0;34m\u001b[0m\u001b[0m\n\u001b[1;32m    926\u001b[0m \u001b[0;34m\u001b[0m\u001b[0m\n",
      "\u001b[0;32m~/anaconda3/lib/python3.7/site-packages/joblib/parallel.py\u001b[0m in \u001b[0;36mdispatch_one_batch\u001b[0;34m(self, iterator)\u001b[0m\n\u001b[1;32m    757\u001b[0m                 \u001b[0;32mreturn\u001b[0m \u001b[0;32mFalse\u001b[0m\u001b[0;34m\u001b[0m\u001b[0;34m\u001b[0m\u001b[0m\n\u001b[1;32m    758\u001b[0m             \u001b[0;32melse\u001b[0m\u001b[0;34m:\u001b[0m\u001b[0;34m\u001b[0m\u001b[0;34m\u001b[0m\u001b[0m\n\u001b[0;32m--> 759\u001b[0;31m                 \u001b[0mself\u001b[0m\u001b[0;34m.\u001b[0m\u001b[0m_dispatch\u001b[0m\u001b[0;34m(\u001b[0m\u001b[0mtasks\u001b[0m\u001b[0;34m)\u001b[0m\u001b[0;34m\u001b[0m\u001b[0;34m\u001b[0m\u001b[0m\n\u001b[0m\u001b[1;32m    760\u001b[0m                 \u001b[0;32mreturn\u001b[0m \u001b[0;32mTrue\u001b[0m\u001b[0;34m\u001b[0m\u001b[0;34m\u001b[0m\u001b[0m\n\u001b[1;32m    761\u001b[0m \u001b[0;34m\u001b[0m\u001b[0m\n",
      "\u001b[0;32m~/anaconda3/lib/python3.7/site-packages/joblib/parallel.py\u001b[0m in \u001b[0;36m_dispatch\u001b[0;34m(self, batch)\u001b[0m\n\u001b[1;32m    714\u001b[0m         \u001b[0;32mwith\u001b[0m \u001b[0mself\u001b[0m\u001b[0;34m.\u001b[0m\u001b[0m_lock\u001b[0m\u001b[0;34m:\u001b[0m\u001b[0;34m\u001b[0m\u001b[0;34m\u001b[0m\u001b[0m\n\u001b[1;32m    715\u001b[0m             \u001b[0mjob_idx\u001b[0m \u001b[0;34m=\u001b[0m \u001b[0mlen\u001b[0m\u001b[0;34m(\u001b[0m\u001b[0mself\u001b[0m\u001b[0;34m.\u001b[0m\u001b[0m_jobs\u001b[0m\u001b[0;34m)\u001b[0m\u001b[0;34m\u001b[0m\u001b[0;34m\u001b[0m\u001b[0m\n\u001b[0;32m--> 716\u001b[0;31m             \u001b[0mjob\u001b[0m \u001b[0;34m=\u001b[0m \u001b[0mself\u001b[0m\u001b[0;34m.\u001b[0m\u001b[0m_backend\u001b[0m\u001b[0;34m.\u001b[0m\u001b[0mapply_async\u001b[0m\u001b[0;34m(\u001b[0m\u001b[0mbatch\u001b[0m\u001b[0;34m,\u001b[0m \u001b[0mcallback\u001b[0m\u001b[0;34m=\u001b[0m\u001b[0mcb\u001b[0m\u001b[0;34m)\u001b[0m\u001b[0;34m\u001b[0m\u001b[0;34m\u001b[0m\u001b[0m\n\u001b[0m\u001b[1;32m    717\u001b[0m             \u001b[0;31m# A job can complete so quickly than its callback is\u001b[0m\u001b[0;34m\u001b[0m\u001b[0;34m\u001b[0m\u001b[0;34m\u001b[0m\u001b[0m\n\u001b[1;32m    718\u001b[0m             \u001b[0;31m# called before we get here, causing self._jobs to\u001b[0m\u001b[0;34m\u001b[0m\u001b[0;34m\u001b[0m\u001b[0;34m\u001b[0m\u001b[0m\n",
      "\u001b[0;32m~/anaconda3/lib/python3.7/site-packages/joblib/_parallel_backends.py\u001b[0m in \u001b[0;36mapply_async\u001b[0;34m(self, func, callback)\u001b[0m\n\u001b[1;32m    180\u001b[0m     \u001b[0;32mdef\u001b[0m \u001b[0mapply_async\u001b[0m\u001b[0;34m(\u001b[0m\u001b[0mself\u001b[0m\u001b[0;34m,\u001b[0m \u001b[0mfunc\u001b[0m\u001b[0;34m,\u001b[0m \u001b[0mcallback\u001b[0m\u001b[0;34m=\u001b[0m\u001b[0;32mNone\u001b[0m\u001b[0;34m)\u001b[0m\u001b[0;34m:\u001b[0m\u001b[0;34m\u001b[0m\u001b[0;34m\u001b[0m\u001b[0m\n\u001b[1;32m    181\u001b[0m         \u001b[0;34m\"\"\"Schedule a func to be run\"\"\"\u001b[0m\u001b[0;34m\u001b[0m\u001b[0;34m\u001b[0m\u001b[0m\n\u001b[0;32m--> 182\u001b[0;31m         \u001b[0mresult\u001b[0m \u001b[0;34m=\u001b[0m \u001b[0mImmediateResult\u001b[0m\u001b[0;34m(\u001b[0m\u001b[0mfunc\u001b[0m\u001b[0;34m)\u001b[0m\u001b[0;34m\u001b[0m\u001b[0;34m\u001b[0m\u001b[0m\n\u001b[0m\u001b[1;32m    183\u001b[0m         \u001b[0;32mif\u001b[0m \u001b[0mcallback\u001b[0m\u001b[0;34m:\u001b[0m\u001b[0;34m\u001b[0m\u001b[0;34m\u001b[0m\u001b[0m\n\u001b[1;32m    184\u001b[0m             \u001b[0mcallback\u001b[0m\u001b[0;34m(\u001b[0m\u001b[0mresult\u001b[0m\u001b[0;34m)\u001b[0m\u001b[0;34m\u001b[0m\u001b[0;34m\u001b[0m\u001b[0m\n",
      "\u001b[0;32m~/anaconda3/lib/python3.7/site-packages/joblib/_parallel_backends.py\u001b[0m in \u001b[0;36m__init__\u001b[0;34m(self, batch)\u001b[0m\n\u001b[1;32m    547\u001b[0m         \u001b[0;31m# Don't delay the application, to avoid keeping the input\u001b[0m\u001b[0;34m\u001b[0m\u001b[0;34m\u001b[0m\u001b[0;34m\u001b[0m\u001b[0m\n\u001b[1;32m    548\u001b[0m         \u001b[0;31m# arguments in memory\u001b[0m\u001b[0;34m\u001b[0m\u001b[0;34m\u001b[0m\u001b[0;34m\u001b[0m\u001b[0m\n\u001b[0;32m--> 549\u001b[0;31m         \u001b[0mself\u001b[0m\u001b[0;34m.\u001b[0m\u001b[0mresults\u001b[0m \u001b[0;34m=\u001b[0m \u001b[0mbatch\u001b[0m\u001b[0;34m(\u001b[0m\u001b[0;34m)\u001b[0m\u001b[0;34m\u001b[0m\u001b[0;34m\u001b[0m\u001b[0m\n\u001b[0m\u001b[1;32m    550\u001b[0m \u001b[0;34m\u001b[0m\u001b[0m\n\u001b[1;32m    551\u001b[0m     \u001b[0;32mdef\u001b[0m \u001b[0mget\u001b[0m\u001b[0;34m(\u001b[0m\u001b[0mself\u001b[0m\u001b[0;34m)\u001b[0m\u001b[0;34m:\u001b[0m\u001b[0;34m\u001b[0m\u001b[0;34m\u001b[0m\u001b[0m\n",
      "\u001b[0;32m~/anaconda3/lib/python3.7/site-packages/joblib/parallel.py\u001b[0m in \u001b[0;36m__call__\u001b[0;34m(self)\u001b[0m\n\u001b[1;32m    223\u001b[0m         \u001b[0;32mwith\u001b[0m \u001b[0mparallel_backend\u001b[0m\u001b[0;34m(\u001b[0m\u001b[0mself\u001b[0m\u001b[0;34m.\u001b[0m\u001b[0m_backend\u001b[0m\u001b[0;34m,\u001b[0m \u001b[0mn_jobs\u001b[0m\u001b[0;34m=\u001b[0m\u001b[0mself\u001b[0m\u001b[0;34m.\u001b[0m\u001b[0m_n_jobs\u001b[0m\u001b[0;34m)\u001b[0m\u001b[0;34m:\u001b[0m\u001b[0;34m\u001b[0m\u001b[0;34m\u001b[0m\u001b[0m\n\u001b[1;32m    224\u001b[0m             return [func(*args, **kwargs)\n\u001b[0;32m--> 225\u001b[0;31m                     for func, args, kwargs in self.items]\n\u001b[0m\u001b[1;32m    226\u001b[0m \u001b[0;34m\u001b[0m\u001b[0m\n\u001b[1;32m    227\u001b[0m     \u001b[0;32mdef\u001b[0m \u001b[0m__len__\u001b[0m\u001b[0;34m(\u001b[0m\u001b[0mself\u001b[0m\u001b[0;34m)\u001b[0m\u001b[0;34m:\u001b[0m\u001b[0;34m\u001b[0m\u001b[0;34m\u001b[0m\u001b[0m\n",
      "\u001b[0;32m~/anaconda3/lib/python3.7/site-packages/joblib/parallel.py\u001b[0m in \u001b[0;36m<listcomp>\u001b[0;34m(.0)\u001b[0m\n\u001b[1;32m    223\u001b[0m         \u001b[0;32mwith\u001b[0m \u001b[0mparallel_backend\u001b[0m\u001b[0;34m(\u001b[0m\u001b[0mself\u001b[0m\u001b[0;34m.\u001b[0m\u001b[0m_backend\u001b[0m\u001b[0;34m,\u001b[0m \u001b[0mn_jobs\u001b[0m\u001b[0;34m=\u001b[0m\u001b[0mself\u001b[0m\u001b[0;34m.\u001b[0m\u001b[0m_n_jobs\u001b[0m\u001b[0;34m)\u001b[0m\u001b[0;34m:\u001b[0m\u001b[0;34m\u001b[0m\u001b[0;34m\u001b[0m\u001b[0m\n\u001b[1;32m    224\u001b[0m             return [func(*args, **kwargs)\n\u001b[0;32m--> 225\u001b[0;31m                     for func, args, kwargs in self.items]\n\u001b[0m\u001b[1;32m    226\u001b[0m \u001b[0;34m\u001b[0m\u001b[0m\n\u001b[1;32m    227\u001b[0m     \u001b[0;32mdef\u001b[0m \u001b[0m__len__\u001b[0m\u001b[0;34m(\u001b[0m\u001b[0mself\u001b[0m\u001b[0;34m)\u001b[0m\u001b[0;34m:\u001b[0m\u001b[0;34m\u001b[0m\u001b[0;34m\u001b[0m\u001b[0m\n",
      "\u001b[0;32m~/anaconda3/lib/python3.7/site-packages/sklearn/model_selection/_validation.py\u001b[0m in \u001b[0;36m_fit_and_score\u001b[0;34m(estimator, X, y, scorer, train, test, verbose, parameters, fit_params, return_train_score, return_parameters, return_n_test_samples, return_times, return_estimator, error_score)\u001b[0m\n\u001b[1;32m    514\u001b[0m             \u001b[0mestimator\u001b[0m\u001b[0;34m.\u001b[0m\u001b[0mfit\u001b[0m\u001b[0;34m(\u001b[0m\u001b[0mX_train\u001b[0m\u001b[0;34m,\u001b[0m \u001b[0;34m**\u001b[0m\u001b[0mfit_params\u001b[0m\u001b[0;34m)\u001b[0m\u001b[0;34m\u001b[0m\u001b[0;34m\u001b[0m\u001b[0m\n\u001b[1;32m    515\u001b[0m         \u001b[0;32melse\u001b[0m\u001b[0;34m:\u001b[0m\u001b[0;34m\u001b[0m\u001b[0;34m\u001b[0m\u001b[0m\n\u001b[0;32m--> 516\u001b[0;31m             \u001b[0mestimator\u001b[0m\u001b[0;34m.\u001b[0m\u001b[0mfit\u001b[0m\u001b[0;34m(\u001b[0m\u001b[0mX_train\u001b[0m\u001b[0;34m,\u001b[0m \u001b[0my_train\u001b[0m\u001b[0;34m,\u001b[0m \u001b[0;34m**\u001b[0m\u001b[0mfit_params\u001b[0m\u001b[0;34m)\u001b[0m\u001b[0;34m\u001b[0m\u001b[0;34m\u001b[0m\u001b[0m\n\u001b[0m\u001b[1;32m    517\u001b[0m \u001b[0;34m\u001b[0m\u001b[0m\n\u001b[1;32m    518\u001b[0m     \u001b[0;32mexcept\u001b[0m \u001b[0mException\u001b[0m \u001b[0;32mas\u001b[0m \u001b[0me\u001b[0m\u001b[0;34m:\u001b[0m\u001b[0;34m\u001b[0m\u001b[0;34m\u001b[0m\u001b[0m\n",
      "\u001b[0;32m~/anaconda3/lib/python3.7/site-packages/sklearn/svm/base.py\u001b[0m in \u001b[0;36mfit\u001b[0;34m(self, X, y, sample_weight)\u001b[0m\n\u001b[1;32m    207\u001b[0m \u001b[0;34m\u001b[0m\u001b[0m\n\u001b[1;32m    208\u001b[0m         \u001b[0mseed\u001b[0m \u001b[0;34m=\u001b[0m \u001b[0mrnd\u001b[0m\u001b[0;34m.\u001b[0m\u001b[0mrandint\u001b[0m\u001b[0;34m(\u001b[0m\u001b[0mnp\u001b[0m\u001b[0;34m.\u001b[0m\u001b[0miinfo\u001b[0m\u001b[0;34m(\u001b[0m\u001b[0;34m'i'\u001b[0m\u001b[0;34m)\u001b[0m\u001b[0;34m.\u001b[0m\u001b[0mmax\u001b[0m\u001b[0;34m)\u001b[0m\u001b[0;34m\u001b[0m\u001b[0;34m\u001b[0m\u001b[0m\n\u001b[0;32m--> 209\u001b[0;31m         \u001b[0mfit\u001b[0m\u001b[0;34m(\u001b[0m\u001b[0mX\u001b[0m\u001b[0;34m,\u001b[0m \u001b[0my\u001b[0m\u001b[0;34m,\u001b[0m \u001b[0msample_weight\u001b[0m\u001b[0;34m,\u001b[0m \u001b[0msolver_type\u001b[0m\u001b[0;34m,\u001b[0m \u001b[0mkernel\u001b[0m\u001b[0;34m,\u001b[0m \u001b[0mrandom_seed\u001b[0m\u001b[0;34m=\u001b[0m\u001b[0mseed\u001b[0m\u001b[0;34m)\u001b[0m\u001b[0;34m\u001b[0m\u001b[0;34m\u001b[0m\u001b[0m\n\u001b[0m\u001b[1;32m    210\u001b[0m         \u001b[0;31m# see comment on the other call to np.iinfo in this file\u001b[0m\u001b[0;34m\u001b[0m\u001b[0;34m\u001b[0m\u001b[0;34m\u001b[0m\u001b[0m\n\u001b[1;32m    211\u001b[0m \u001b[0;34m\u001b[0m\u001b[0m\n",
      "\u001b[0;32m~/anaconda3/lib/python3.7/site-packages/sklearn/svm/base.py\u001b[0m in \u001b[0;36m_dense_fit\u001b[0;34m(self, X, y, sample_weight, solver_type, kernel, random_seed)\u001b[0m\n\u001b[1;32m    266\u001b[0m                 \u001b[0mcache_size\u001b[0m\u001b[0;34m=\u001b[0m\u001b[0mself\u001b[0m\u001b[0;34m.\u001b[0m\u001b[0mcache_size\u001b[0m\u001b[0;34m,\u001b[0m \u001b[0mcoef0\u001b[0m\u001b[0;34m=\u001b[0m\u001b[0mself\u001b[0m\u001b[0;34m.\u001b[0m\u001b[0mcoef0\u001b[0m\u001b[0;34m,\u001b[0m\u001b[0;34m\u001b[0m\u001b[0;34m\u001b[0m\u001b[0m\n\u001b[1;32m    267\u001b[0m                 \u001b[0mgamma\u001b[0m\u001b[0;34m=\u001b[0m\u001b[0mself\u001b[0m\u001b[0;34m.\u001b[0m\u001b[0m_gamma\u001b[0m\u001b[0;34m,\u001b[0m \u001b[0mepsilon\u001b[0m\u001b[0;34m=\u001b[0m\u001b[0mself\u001b[0m\u001b[0;34m.\u001b[0m\u001b[0mepsilon\u001b[0m\u001b[0;34m,\u001b[0m\u001b[0;34m\u001b[0m\u001b[0;34m\u001b[0m\u001b[0m\n\u001b[0;32m--> 268\u001b[0;31m                 max_iter=self.max_iter, random_seed=random_seed)\n\u001b[0m\u001b[1;32m    269\u001b[0m \u001b[0;34m\u001b[0m\u001b[0m\n\u001b[1;32m    270\u001b[0m         \u001b[0mself\u001b[0m\u001b[0;34m.\u001b[0m\u001b[0m_warn_from_fit_status\u001b[0m\u001b[0;34m(\u001b[0m\u001b[0;34m)\u001b[0m\u001b[0;34m\u001b[0m\u001b[0;34m\u001b[0m\u001b[0m\n",
      "\u001b[0;31mKeyboardInterrupt\u001b[0m: "
     ]
    }
   ],
   "source": [
    "clf_testing = SVC(kernel='linear')\n",
    "grid = {'C' : [1e2, 1e3, 5e3, 1e4, 5e4, 1e5]}\n",
    "abc = GridSearchCV(clf_testing, grid)\n",
    "abc.fit(xTrain_small, yTrain_small)"
   ]
  },
  {
   "cell_type": "code",
   "execution_count": null,
   "metadata": {},
   "outputs": [],
   "source": [
    "abc.best_estimator_"
   ]
  }
 ],
 "metadata": {
  "kernelspec": {
   "display_name": "Python 3",
   "language": "python",
   "name": "python3"
  },
  "language_info": {
   "codemirror_mode": {
    "name": "ipython",
    "version": 3
   },
   "file_extension": ".py",
   "mimetype": "text/x-python",
   "name": "python",
   "nbconvert_exporter": "python",
   "pygments_lexer": "ipython3",
   "version": "3.7.4"
  }
 },
 "nbformat": 4,
 "nbformat_minor": 2
}
